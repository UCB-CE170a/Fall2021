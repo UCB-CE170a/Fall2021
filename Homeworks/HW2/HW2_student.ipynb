{
 "cells": [
  {
   "cell_type": "markdown",
   "metadata": {
    "id": "Ex2gcT8uSvfs"
   },
   "source": [
    "# Fall 2021 CE170A HW2: Sensor Data Analysis\n",
    "Authors: Prof. Kenichi Soga, Renjie Wu, Yaobin Yang, James Wang \n",
    "\n",
    "version 2.0"
   ]
  },
  {
   "cell_type": "markdown",
   "metadata": {
    "id": "_KFjiIDrS_DA"
   },
   "source": [
    "## Install Packages"
   ]
  },
  {
   "cell_type": "code",
   "execution_count": null,
   "metadata": {
    "colab": {
     "base_uri": "https://localhost:8080/"
    },
    "id": "uxPOHzucz7pk",
    "outputId": "4854a458-d323-4278-c329-f62a1c03c16e"
   },
   "outputs": [],
   "source": [
    "import os\n",
    "!pip install trusspy\n",
    "!wget \"https://raw.githubusercontent.com/UCB-CE170a/Fall2021/master/Homeworks/HW2/data/processed_data.zip\" -O processed_data.zip\n",
    "!unzip processed_data"
   ]
  },
  {
   "cell_type": "markdown",
   "metadata": {
    "id": "zCPLJ7PyTD0R"
   },
   "source": [
    "## Background\n",
    "\n",
    "There are two ways to understand phenomena scientifically. One is through mathematical modeling and computer simulation, which is the purpose of our quiz 2 (truss finite element simulation). The other is through experiments, which are performed in this class (model bridge loading experiment). By comparing experimental results with simulation results, one may appreciate the complexity of real-world phenomena and have a deeper understanding of the power and limitations of the simulation method.\n",
    "\n",
    "<center>\n",
    "<img src=\"https://github.com/UCB-CE170a/Fall2020/raw/master/homeworks/hw5/figures/overview.png\" alt=\"Node numbering\" width=\"600\" />\n",
    "    \n",
    "    Figure 1. Simulation Vs. Experiment\n",
    "</center>"
   ]
  },
  {
   "cell_type": "markdown",
   "metadata": {
    "id": "Va00y5OMUovr"
   },
   "source": [
    "In this assignment, you are going to analyze the sensor data from the model bridge experiment and compare the result with the truss simulation performed in quiz 2. The data you are going to explore are \n",
    "* Displacement data from displacement sensors (potentiometric measuring devices),\n",
    "* Tilt data from WSN tilt motes, and \n",
    "* Distributed (spatial) strain data from fiber optics sensors.\n",
    "\n"
   ]
  },
  {
   "cell_type": "markdown",
   "metadata": {
    "id": "5dWB5GZ3Ti2D"
   },
   "source": [
    "The typical workflow of data analysis is summarized in figure 2. \n",
    "<center>\n",
    "<img src=\"https://github.com/UCB-CE170a/Fall2020/raw/master/homeworks/hw5/figures/data_processing.png\" alt=\"Node numbering\" width=\"600\" />\n",
    "    \n",
    "    Figure 2. Typical workflow of data analysis\n",
    "</center>"
   ]
  },
  {
   "cell_type": "markdown",
   "metadata": {
    "id": "ysKmPCnlU3SD"
   },
   "source": [
    "We start with the raw data collected from the sensor systems. Then, we preprocess the raw data and store the cleaned data into a data storage system. There are various reasons for data preprocessing. Missing data handling, experiment/equipment setting adjustment, and data format conversion are common reasons (there are more, of course). \n",
    "\n",
    "Most data can be represented as a single spreadsheet. Such data include the displacement data and tilt data that we are going to explore in this assignment. However, in some cases, data can have complex structures; such as the distributed strain data we have in this case. The distributed strain data is collected from fiber optics sensors, which record the strain along with the fiber (spatial component) during the experiment (time component). As you all know, we deployed numerous fiber optics sensors (with different lengths) across different structure members to monitor the load responses of the model bridge. Since we have three model bridges this year, each with different sensor deployment strategies, the sensors' raw data are huge and hard to handle. For the ease of this exercise, the distributed strain data is preprocessed by us, and only some cleaned data from certain bridge members are presented here.\n",
    "\n",
    "\n",
    "Having the cleaned data on our hands, we can perform various postprocessing techniques such as statistical analysis, and most importantly, visualize the data for interpretation."
   ]
  },
  {
   "cell_type": "markdown",
   "metadata": {
    "id": "Mf579HF_VZs9"
   },
   "source": [
    "The data are given in a format that follows the numbering given in the following figures.\n",
    "\n",
    "Figure 3 shows the nodal numbering of the model bridge.\n",
    "<center>\n",
    "<img src=\"https://github.com/UCB-CE170a/Fall2020/raw/master/homeworks/hw5/figures/figure1.png\" alt=\"Node numbering\" width=\"800\" />\n",
    "    \n",
    "    Figure 3. Node numbering for the model bridge\n",
    "</center>"
   ]
  },
  {
   "cell_type": "markdown",
   "metadata": {
    "id": "_qi2HlZEVk9M"
   },
   "source": [
    "## Data Exploration\n",
    "### 1. Displacemenent data (potentiometric measuring devices) : load-displacement curves"
   ]
  },
  {
   "cell_type": "markdown",
   "metadata": {
    "id": "poW242TpVpGp"
   },
   "source": [
    "Potentiometric measuring devices (LVDT) are used to measure the displacement of the bottom members of the model bridge. The configuration of the LVDT sensors used in the experiment are shown by the figure below. \n",
    "<center>\n",
    "<img src=\"https://github.com/UCB-CE170a/Fall2021/raw/master/Homeworks/HW2/images/lvdt_position.jpg\" alt=\"Node numbering\" width=\"800\" />\n",
    "    \n",
    "    Figure 4. LVDT configuration for the experiment. \n",
    "</center>"
   ]
  },
  {
   "cell_type": "markdown",
   "metadata": {
    "id": "tp6sV2ZbQFPc"
   },
   "source": [
    "#### Read the data"
   ]
  },
  {
   "cell_type": "markdown",
   "metadata": {
    "id": "PthxE6uuVRgW"
   },
   "source": [
    "Reminder: the sequence of model bridges performed in the experiment is Bridge3 (groupC), Bridge2 (groupB), and Bridge1 (groupA). We will use this sequence through out the assignment"
   ]
  },
  {
   "cell_type": "markdown",
   "metadata": {
    "id": "b42FVNNWQFPc"
   },
   "source": [
    "Let's read the processed data (base adjusted, unit converted, format changed) first:"
   ]
  },
  {
   "cell_type": "code",
   "execution_count": null,
   "metadata": {
    "colab": {
     "base_uri": "https://localhost:8080/",
     "height": 204
    },
    "id": "1FhAjDlMQFPc",
    "outputId": "9086d8c2-5302-464e-dcc7-5a23f18f1374"
   },
   "outputs": [],
   "source": [
    "import numpy as np\n",
    "import pandas as pd\n",
    "\n",
    "lvdt3 = pd.read_csv('./processed_data/LVDT/lvdt_b3.csv')\n",
    "lvdt2 = pd.read_csv('./processed_data/LVDT/lvdt_b2.csv')\n",
    "lvdt1 = pd.read_csv('./processed_data/LVDT/lvdt_b1.csv')\n",
    "\n",
    "lvdt1.head()"
   ]
  },
  {
   "cell_type": "markdown",
   "metadata": {
    "id": "XqLDTBVfQFPd"
   },
   "source": [
    "The data is represented as a table that has several columns. The first column is the load (N), and the rest of the columns are the corresponding displacement readings of the LVDT sensors, configured by Figure 4."
   ]
  },
  {
   "cell_type": "markdown",
   "metadata": {
    "id": "JCooNDJFQFPe"
   },
   "source": [
    "#### The loading processes"
   ]
  },
  {
   "cell_type": "markdown",
   "metadata": {
    "id": "SzZgHk_PQFPe"
   },
   "source": [
    "Before proceeding to analyze the LVDT data, let's take a look at the loading process first. "
   ]
  },
  {
   "cell_type": "code",
   "execution_count": null,
   "metadata": {
    "id": "BuN28kpBQFPe"
   },
   "outputs": [],
   "source": [
    "load3 = lvdt3['Load (N)'].to_numpy()\n",
    "load2 = lvdt2['Load (N)'].to_numpy()\n",
    "load1 = lvdt1['Load (N)'].to_numpy()"
   ]
  },
  {
   "cell_type": "markdown",
   "metadata": {
    "id": "d-FHJRETQFPf"
   },
   "source": [
    "The plotting function is provided in this assignment. In the cell below, we give an example on how to use the function to plot the load. Note that the plot_lines function is capable of plotting multiple lines."
   ]
  },
  {
   "cell_type": "code",
   "execution_count": null,
   "metadata": {
    "id": "lshNShsNSRnb"
   },
   "outputs": [],
   "source": [
    "import matplotlib.pyplot as plt\n",
    "\n",
    "def plot_lines(xs,ys,xy_labels,line_lables):\n",
    "    \"\"\" A multi-line plotter\n",
    "     Args:\n",
    "      xs: list of x values, i.e. [x1,x2,x3...]\n",
    "      ys: list of y values, i.e. [y1,y2,y3...]\n",
    "      xy_labels: labels for the figure, in the form of (x_label, y_label)\n",
    "      line_lables: labels for plotted lines, must match to the order of yvalues in y\n",
    "\n",
    "    Returns:\n",
    "      ax: matplotlib axes \n",
    "    \"\"\"\n",
    "    assert len(xs)==len(ys), \"number of x must equal to number of y\"\n",
    "    assert len(ys)==len(line_lables),  \"ys and line_lables must be list with same shape, i.e. [y1],[y1_label]\"\n",
    "    \n",
    "    fig = plt.figure()\n",
    "    ax=fig.add_axes([0,0,1,1])\n",
    "    \n",
    "    for x,y in zip(xs,ys):\n",
    "        l = ax.plot(x,y)\n",
    "    ax.set_xlabel(xy_labels[0])\n",
    "    ax.set_ylabel(xy_labels[1])\n",
    "    ax.legend(labels = line_lables)\n",
    "    return ax"
   ]
  },
  {
   "cell_type": "code",
   "execution_count": null,
   "metadata": {
    "colab": {
     "base_uri": "https://localhost:8080/",
     "height": 367
    },
    "id": "zD-O3f3SQFPf",
    "outputId": "efb29842-a6d7-48cc-f22e-5870dc1ed629"
   },
   "outputs": [],
   "source": [
    "# x-axis is number of time steps in this case \n",
    "x3 = list(range(len(load3)))\n",
    "x2 = list(range(len(load2)))\n",
    "x1 = list(range(len(load1)))\n",
    "\n",
    "plot_lines([x3,x2,x1],[load3,load2,load1],['Time Steps','Load(N)'],['load3','load2','load1'])"
   ]
  },
  {
   "cell_type": "markdown",
   "metadata": {
    "id": "XVjSMp2sWpy_"
   },
   "source": [
    "<font color='red'>Question: </font> : What is the maximum load for each experiment? What are the corresponding time steps for them? Do the measurements match your on-site observation? "
   ]
  },
  {
   "cell_type": "markdown",
   "metadata": {
    "id": "FFtHOfF0Ws_Z"
   },
   "source": [
    "<font color='red'>Answer: </font> "
   ]
  },
  {
   "cell_type": "markdown",
   "metadata": {
    "id": "vip5EjTTQFPg"
   },
   "source": [
    "#### Bottom Members Movements"
   ]
  },
  {
   "cell_type": "markdown",
   "metadata": {
    "id": "GbMvzi8gWv4y"
   },
   "source": [
    "Now let's take a look at how the bottom members respond to the load. To see the expansion of the bottom members, plot load Vs. displacement for LVDT 2 3 6 7. Take the relative displacment of two LVDTs to find the compression or extension behavior of the bottom members with increasing load."
   ]
  },
  {
   "cell_type": "code",
   "execution_count": null,
   "metadata": {
    "colab": {
     "base_uri": "https://localhost:8080/",
     "height": 367
    },
    "id": "zYFGZwz2WmIc",
    "outputId": "f08c1e33-2e1d-4a03-f864-c5468170b440"
   },
   "outputs": [],
   "source": [
    "# Model bridge3 \n",
    "d2 = lvdt3['d2 (m)'].to_numpy()\n",
    "d3 = lvdt3['d3 (m)'].to_numpy()\n",
    "d6 = lvdt3['d6 (m)'].to_numpy()\n",
    "d7 = lvdt3['d7 (m)'].to_numpy()\n",
    "\n",
    "\n",
    "# Only care about the loading process \n",
    "mask = np.array(x3)< 5700 #use the time step threshold you answered before \n",
    "\n",
    "plot_lines([d2[mask],d3[mask],d6[mask],d7[mask]],[load3[mask]]*4,\n",
    "           ['displacement(m)','load(N)'],['d2','d3','d6','d7'])"
   ]
  },
  {
   "cell_type": "code",
   "execution_count": null,
   "metadata": {
    "colab": {
     "base_uri": "https://localhost:8080/",
     "height": 367
    },
    "id": "K4Q47n6M-LqU",
    "outputId": "90da5914-d872-4494-d122-ff62d86e45e5"
   },
   "outputs": [],
   "source": [
    "# It is the relative displacement we want to measure, take the difference to find it out \n",
    "plot_lines([d2[mask]-d7[mask],d3[mask]-d6[mask],],[load3[mask]]*2,\n",
    "           ['displacement(m)','load(N)'],['d2-7','d3-6'])"
   ]
  },
  {
   "cell_type": "markdown",
   "metadata": {
    "id": "HIIewtIXQFPg"
   },
   "source": [
    "<font color='red'>Question: </font> : Try to describe the behavior of the bottom members (compresison or extension) using the plotted figure. "
   ]
  },
  {
   "cell_type": "markdown",
   "metadata": {
    "id": "YYJxAtOfQFPg"
   },
   "source": [
    "<font color='red'>Answer: </font> "
   ]
  },
  {
   "cell_type": "code",
   "execution_count": null,
   "metadata": {
    "colab": {
     "base_uri": "https://localhost:8080/",
     "height": 367
    },
    "id": "c2tPYHo3QFPh",
    "outputId": "f3186156-0a9c-4a0f-c6b1-76180fd7373b"
   },
   "outputs": [],
   "source": [
    "# Model bridge2\n",
    "d2 = lvdt2['d2 (m)'].to_numpy()\n",
    "d3 = lvdt2['d3 (m)'].to_numpy()\n",
    "d6 = lvdt2['d6 (m)'].to_numpy()\n",
    "d7 = lvdt2['d7 (m)'].to_numpy()\n",
    "\n",
    "# Only care about the loading process \n",
    "mask = np.array(x2)<  #TODO use the time step threshold you answered before \n",
    "\n",
    "plot_lines([d2[mask],d3[mask],d6[mask],d7[mask]],[load2[mask]]*4,\n",
    "           ['displacement(m)','load(N)'],['d2','d3','d6','d7'])"
   ]
  },
  {
   "cell_type": "code",
   "execution_count": null,
   "metadata": {
    "id": "oS0KpUuG-qlO"
   },
   "outputs": [],
   "source": [
    "# TODO plot the relative displacement for the two members"
   ]
  },
  {
   "cell_type": "markdown",
   "metadata": {
    "id": "WOZlmc8jQFPh"
   },
   "source": [
    "<font color='red'>Question: </font> : Try to describe the behavior of the bottom members (compression or extension) using the plotted figure. "
   ]
  },
  {
   "cell_type": "markdown",
   "metadata": {
    "id": "Nd7DT86NQFPh"
   },
   "source": [
    "<font color='red'>Answer: </font> "
   ]
  },
  {
   "cell_type": "code",
   "execution_count": null,
   "metadata": {
    "colab": {
     "base_uri": "https://localhost:8080/",
     "height": 367
    },
    "id": "4G5PhaagQFPh",
    "outputId": "23353c4c-edfb-4bec-edb7-65305eee413c"
   },
   "outputs": [],
   "source": [
    "# Model bridge1\n",
    "d2 = lvdt1['d2 (m)'].to_numpy()\n",
    "d3 = lvdt1['d3 (m)'].to_numpy()\n",
    "d6 = lvdt1['d6 (m)'].to_numpy()\n",
    "d7 = lvdt1['d7 (m)'].to_numpy()\n",
    "\n",
    "\n",
    "# Only care about the loading process \n",
    "mask = np.array(x1)<  #TODO use the time step threshold you answered before \n",
    "\n",
    "plot_lines([d2[mask],d3[mask],d6[mask],d7[mask]],[load1[mask]]*4,\n",
    "           ['displacement(m)','load(N)'],['d2','d3','d6','d7'])"
   ]
  },
  {
   "cell_type": "code",
   "execution_count": null,
   "metadata": {
    "id": "hfi2dn9t_0zW"
   },
   "outputs": [],
   "source": [
    "# TODO plot the relative displacement for the two members"
   ]
  },
  {
   "cell_type": "markdown",
   "metadata": {
    "id": "pHJrn5be3b88"
   },
   "source": [
    "<font color='red'>Question: </font> : Try to describe the behavior0 of the bottom members (compression or extension) using the plotted figure. "
   ]
  },
  {
   "cell_type": "markdown",
   "metadata": {
    "id": "SKon3XZ-3dda"
   },
   "source": [
    "<font color='red'>Answer: </font> "
   ]
  },
  {
   "cell_type": "markdown",
   "metadata": {
    "id": "c2aQl9eFXD6T"
   },
   "source": [
    "<font color='red'>Question: </font> : Discuss the similarities and differences of the bottom member behavior for the three cases. Do the experiment measurements match your simulation prediction in quiz 2? "
   ]
  },
  {
   "cell_type": "markdown",
   "metadata": {
    "id": "BajZhGjUQFPh"
   },
   "source": [
    "<font color='red'>Answer: </font> "
   ]
  },
  {
   "cell_type": "markdown",
   "metadata": {
    "id": "Je8LK8IhXkqQ"
   },
   "source": [
    "### 2. Tilt data (WSN tilt motes) : load-tilt curves\n",
    "\n",
    "Lets explore the tilt data from WSN tilt motes. Figure 5 shows the location of the WSN tilt motes and their numbering. The direction of angle is given for both longitudinal direction (L) and transverse direction (T).\n",
    "\n",
    "<center>\n",
    "<img src=\"https://github.com/UCB-CE170a/Fall2021/raw/master/Homeworks/HW2/images/tilt_defination.jpg\" alt=\"Node numbering\" width=\"600\" />\n",
    "    \n",
    "    Figure 5. The locations of WSN tilt motes.\n",
    "</center>"
   ]
  },
  {
   "cell_type": "code",
   "execution_count": null,
   "metadata": {
    "id": "qn0kaNGFW5kX"
   },
   "outputs": [],
   "source": [
    "# Load Logitudinal Tilt (right-left direction, \"L direction\" in Figure 5\n",
    "bridge3 = pd.read_excel(open('./processed_data/Tilt/tilt_data.xlsx', 'rb'),\n",
    "              sheet_name='test_1')  \n",
    "bridge2 = pd.read_excel(open('./processed_data/Tilt/tilt_data.xlsx', 'rb'),\n",
    "              sheet_name='test_2')  \n",
    "bridge1 = pd.read_excel(open('./processed_data/Tilt/tilt_data.xlsx', 'rb'),\n",
    "              sheet_name='test_3')  \n"
   ]
  },
  {
   "cell_type": "code",
   "execution_count": null,
   "metadata": {
    "colab": {
     "base_uri": "https://localhost:8080/",
     "height": 221
    },
    "id": "MjLJEa8WX0Tq",
    "outputId": "5b68765c-e0b6-4395-cde1-0fdd2235ceb6"
   },
   "outputs": [],
   "source": [
    "bridge1.head()"
   ]
  },
  {
   "cell_type": "markdown",
   "metadata": {
    "id": "PP1-TmcLQFPj"
   },
   "source": [
    "The data contains the tilt measurements (in degree) from each sensor with the corresponding load levels. Obviously, the entire dataset contains rich information about the structure state of the model bridge during the loading process. However, since this is already a long assignment, we will only focus on the tilt measurements from the top sensor, which gives us the general information about the rotation degree of the model bridge."
   ]
  },
  {
   "cell_type": "code",
   "execution_count": null,
   "metadata": {
    "id": "XX0rpPCruhIu"
   },
   "outputs": [],
   "source": [
    "# Lets start with bridge 3 \n",
    "load = bridge3['Loading, lbs'].to_numpy() *4.45 # to newton \n",
    "long = bridge3['Top-L, deg'].to_numpy()\n",
    "tran = bridge3['Top-T, deg'].to_numpy()"
   ]
  },
  {
   "cell_type": "markdown",
   "metadata": {
    "id": "fjM11wZCX8Rb"
   },
   "source": [
    "Plot the longitudinal tilt-load curve (load on x-axis, tilt on y-axis) of the top using the tilt WNS mote data (Tilt 1) BEFORE the failure."
   ]
  },
  {
   "cell_type": "code",
   "execution_count": null,
   "metadata": {
    "colab": {
     "base_uri": "https://localhost:8080/",
     "height": 367
    },
    "id": "4mVG4A22X5bp",
    "outputId": "5f668c88-3f6f-4323-c8e2-14c1ed3cecf0"
   },
   "outputs": [],
   "source": [
    "plot_lines([load]*2,[long,tran],\n",
    "           ['load(N)','tilting degree'],['Top (longitudinal)','Top (transverse)'])"
   ]
  },
  {
   "cell_type": "markdown",
   "metadata": {
    "id": "0PDx5aM8YCwb"
   },
   "source": [
    "<font color='red'>Question: </font> : Describe the movement of the model bridge during the loading process. Does this matches your observation? \n",
    "\n",
    "Note: The figure below shows the final stage of the model bridge. "
   ]
  },
  {
   "cell_type": "markdown",
   "metadata": {
    "id": "a9AT-Spy118-"
   },
   "source": [
    "<center>\n",
    "<img src=\"https://github.com/UCB-CE170a/Fall2021/raw/master/Homeworks/HW2/images/b3.png\" alt=\"Node numbering\" width=\"400\" />\n",
    "    \n",
    "    Model bridge final state (bridge 3)\n",
    "</center>"
   ]
  },
  {
   "cell_type": "markdown",
   "metadata": {
    "id": "vPZn_14VYEql"
   },
   "source": [
    "<font color='red'>Answer: </font> "
   ]
  },
  {
   "cell_type": "code",
   "execution_count": null,
   "metadata": {
    "colab": {
     "base_uri": "https://localhost:8080/",
     "height": 367
    },
    "id": "e2J9-P6sQFPk",
    "outputId": "18331428-fe9b-4c32-efba-44ce2f76b55f"
   },
   "outputs": [],
   "source": [
    "# bridge 2\n",
    "load = bridge2['Loading, lbs'].to_numpy() *4.45 # to newton \n",
    "long = bridge2['Top-L, deg'].to_numpy()\n",
    "tran = bridge2['Top-T, deg'].to_numpy()\n",
    "\n",
    "plot_lines([load]*2,[long,tran],\n",
    "           ['load(N)','tilting degree'],['Top (longitudinal)','Top (transverse)'])"
   ]
  },
  {
   "cell_type": "markdown",
   "metadata": {
    "id": "O0JPtr5LQFPk"
   },
   "source": [
    "<font color='red'>Question: </font> : Describe the movement of the model bridge during the loading process. Does this matches your observation? "
   ]
  },
  {
   "cell_type": "markdown",
   "metadata": {
    "id": "cb92e4LI2Iq6"
   },
   "source": [
    "<center>\n",
    "<img src=\"https://github.com/UCB-CE170a/Fall2021/raw/master/Homeworks/HW2/images/b2.png\" alt=\"Node numbering\" width=\"400\" />\n",
    "    \n",
    "    Model bridge final state (bridge 2)\n",
    "</center>"
   ]
  },
  {
   "cell_type": "markdown",
   "metadata": {
    "id": "h4tUZmAaQFPk"
   },
   "source": [
    "<font color='red'>Answer: </font> "
   ]
  },
  {
   "cell_type": "code",
   "execution_count": null,
   "metadata": {
    "colab": {
     "base_uri": "https://localhost:8080/",
     "height": 367
    },
    "id": "_IB-Mz1dQFPl",
    "outputId": "4772152a-5be8-4bf6-8833-2c5f365b2ffa"
   },
   "outputs": [],
   "source": [
    "# bridge 2\n",
    "load = bridge1['Loading, lbs'].to_numpy() *4.45 # to newton \n",
    "long = bridge1['Top-L, deg'].to_numpy()\n",
    "tran = bridge1['Top-T, deg'].to_numpy()\n",
    "\n",
    "plot_lines([load[:]]*2,[long[:],tran[:]],\n",
    "           ['load(N)','tilting degree'],['Top (longitudinal)','Top (transverse)'])"
   ]
  },
  {
   "cell_type": "markdown",
   "metadata": {
    "id": "VtVxF9RfQFPl"
   },
   "source": [
    "<font color='red'>Question: </font> : Describe the movement of the model bridge during the loading process. Does this matches your observation? "
   ]
  },
  {
   "cell_type": "markdown",
   "metadata": {
    "id": "lQevrbB83tEv"
   },
   "source": [
    "<center>\n",
    "<img src=\"https://github.com/UCB-CE170a/Fall2021/raw/master/Homeworks/HW2/images/b1.png\" alt=\"Node numbering\" width=\"400\" />\n",
    "    \n",
    "    Model bridge final state (bridge 1)\n",
    "</center>"
   ]
  },
  {
   "cell_type": "markdown",
   "metadata": {
    "id": "PFHD6I_DQFPl"
   },
   "source": [
    "<font color='red'>Answer: </font> "
   ]
  },
  {
   "cell_type": "markdown",
   "metadata": {
    "id": "efQyHO6FdGRf"
   },
   "source": [
    "### 3. Strain data (fiber optics): load-strain curves\n",
    "Finally, let's explore the most interesting data, the distributed strain data collected from the fiber optics sensors. The model bridge memberes are divided into 4 planes: Bottom, Left-diagonal, Right-diagonal, and Middle plane. See figure 7. \n",
    "\n",
    "<center>\n",
    "<img src=\"https://github.com/UCB-CE170a/Fall2020/raw/master/homeworks/hw5/figures/figure1.png\" alt=\"Node numbering\" width=\"800\" />\n",
    "    \n",
    "    Figure 7. Node numbering for the model bridge\n",
    "</center>"
   ]
  },
  {
   "cell_type": "markdown",
   "metadata": {
    "id": "NNI-7-ovde8U"
   },
   "source": [
    "As discussed earlier, the raw data collected by the fiber optics sensors are spatially distributed. Specifically, the data contains spatial strain information at each sample time for each fiber. The general preprocessing process is listed as the following:\n",
    "* Cleaning: Convert data format, remove headers, convert units, remove meaningless items... \n",
    "* Time synchronization: all the collected data is time-stamped. Unfortunately, the timing systems for different measurement equipment might be slightly different. For instance, the clock in the fiber optics analyzer is 2 minutes and 19 seconds faster than the one measuring the loading process. Synchronizing times across all equipment make the comparison/plotting of different measurements possible. \n",
    "* Resampling: sometimes, the sampling rates across different equipment are different. To compare different measurements from different machines (i.e., load vs. strain), one needs to resample the collected data to match the time stamp.\n",
    "* Normalization: some fibers are pre tensioned, meaning the starting measurement may not be 0. Doing normalization for the data makes the measurement (strain) comparable across different bridges. \n",
    " \n"
   ]
  },
  {
   "cell_type": "markdown",
   "metadata": {
    "id": "yDVF4CHyUW7C"
   },
   "source": [
    " <font color='red'>Note: the data you see in this section is far from perfect (the fibers are attached by you!). If some data does not make any sense to you, think about the potential causes for that. Try your best to discuss your findings.  </font>"
   ]
  },
  {
   "cell_type": "markdown",
   "metadata": {
    "id": "L8-RYAxUQFPm"
   },
   "source": [
    "The preprocessed data for model bridge 3 is shown by the cell below (measurements of one fiber only)."
   ]
  },
  {
   "cell_type": "code",
   "execution_count": null,
   "metadata": {
    "colab": {
     "base_uri": "https://localhost:8080/",
     "height": 287
    },
    "id": "ba7H5bpfQFPm",
    "outputId": "5b3be805-96e8-423e-f7c2-0569db237799"
   },
   "outputs": [],
   "source": [
    "sample_data = pd.read_csv('./processed_data/Fiber/example_strain_b3c3.csv')\n",
    "sample_data.head()"
   ]
  },
  {
   "cell_type": "markdown",
   "metadata": {
    "id": "ZncqPBZaQFPm"
   },
   "source": [
    "#### Spatial Data Analaysis"
   ]
  },
  {
   "cell_type": "markdown",
   "metadata": {
    "id": "kc-c7WeYQFPm"
   },
   "source": [
    "The first row of the data provides the spatial location for each strain measurement points alone the fiber. The rest of the rows are the strain measurements across the fiber (2.6 mm resolution) for every sample time. To access the strain measurement for certain truss members, one need to know the corresponding spatial locations of the member on the fiber. Luckily, our kind GSI did indexing (truss member end points to fiber locations) for all the truss members for all three bridges, so we know how to access the member from the data. For example, member JC in bridge3 corresponding to the range 9.123 to 9.539m. With some codes, we can access all the strain measurement for member JC easily:  "
   ]
  },
  {
   "cell_type": "code",
   "execution_count": null,
   "metadata": {
    "id": "fRfRKCH2QFPm"
   },
   "outputs": [],
   "source": [
    "def get_position(ends,pos):\n",
    "    start, end = ends \n",
    "    cols = []\n",
    "    for i, p in enumerate(pos):\n",
    "        if start<=p<=end:\n",
    "            cols.append(i)\n",
    "    return cols\n",
    "pos = list(sample_data.iloc[0])[2:]\n",
    "cols = list(map(str,get_position([9.123,9.539],pos)))\n",
    "JC_strain = sample_data[cols]\n"
   ]
  },
  {
   "cell_type": "markdown",
   "metadata": {
    "id": "rtSpySO3QFPn"
   },
   "source": [
    "Let's plot the strain response of it under intense load."
   ]
  },
  {
   "cell_type": "code",
   "execution_count": null,
   "metadata": {
    "colab": {
     "base_uri": "https://localhost:8080/",
     "height": 367
    },
    "id": "yRWz8QRvQFPn",
    "outputId": "5789fba5-6e4b-42d2-d1fd-067ae5716aa1"
   },
   "outputs": [],
   "source": [
    "# plot at one time step\n",
    "plot_lines([JC_strain.iloc[0]],[JC_strain.iloc[100]],\n",
    "           ['location(m)','micro strain'],['Strain for JC'])"
   ]
  },
  {
   "cell_type": "markdown",
   "metadata": {
    "id": "Ily1FOw6QFPn"
   },
   "source": [
    "<font color='red'>Question: </font> : Note that the two end points of the member have very small strain. Discuss the potential reasons for it (think about how you attached it to the bridge, what did you do around the joints?) "
   ]
  },
  {
   "cell_type": "markdown",
   "metadata": {
    "id": "O8mNzJPRQFPn"
   },
   "source": [
    "<font color='red'>Answer: </font>"
   ]
  },
  {
   "cell_type": "markdown",
   "metadata": {
    "id": "BCQNMZNDQFPn"
   },
   "source": [
    "Let's try to plot a longer member FC. "
   ]
  },
  {
   "cell_type": "code",
   "execution_count": null,
   "metadata": {
    "colab": {
     "base_uri": "https://localhost:8080/",
     "height": 367
    },
    "id": "vt_J8obOQFPn",
    "outputId": "51e47400-51f4-4820-ffbc-e9008e8b8374"
   },
   "outputs": [],
   "source": [
    "pos = list(sample_data.iloc[0])[2:]\n",
    "cols = list(map(str,get_position([13.135,14.401],pos)))\n",
    "FC_strain = sample_data[cols]\n",
    "# plot at one time step\n",
    "plot_lines([FC_strain.iloc[0]],[FC_strain.iloc[100]],\n",
    "           ['location(m)','micro strain'],['Strain for FC'])\n"
   ]
  },
  {
   "cell_type": "markdown",
   "metadata": {
    "id": "5RdGUKKLQFPn"
   },
   "source": [
    "<font color='red'>Question: </font> : Can you interpret the deformation of FC from the data? Discuss the differences between the measurements on JC and FC. \n",
    "\n",
    "**Hint: Fibers are attached on DIFFERENT sides of the angle bar for FC and JC. Also, FC is two times longer than JC. What tend to happen on long truss elements during the loading process?**"
   ]
  },
  {
   "cell_type": "markdown",
   "metadata": {
    "id": "hHesFGPrQFPn"
   },
   "source": [
    "<font color='red'>Answer: </font>"
   ]
  },
  {
   "cell_type": "markdown",
   "metadata": {
    "id": "uZy-ivY8QFPo"
   },
   "source": [
    "#### Time (load) Data Analysis\n",
    "\n"
   ]
  },
  {
   "cell_type": "markdown",
   "metadata": {
    "id": "ejAsThkqQFPo"
   },
   "source": [
    "Since different groups wired fiber cables in different ways and analyzing both spatial and temporal data requires skills beyond the boundary of this class, simplified strain data is used in the later part of the assignment. Certain truss members are extracted from the data for all bridges, and only the average (spatial averaged) strain for each truss member is provided along with the corresponding load levels. "
   ]
  },
  {
   "cell_type": "code",
   "execution_count": null,
   "metadata": {
    "id": "VZXHw03rQFPo"
   },
   "outputs": [],
   "source": [
    "# load the data \n",
    "bridge1 = pd.read_csv('./processed_data/Fiber/fo_bridge1.csv')\n",
    "bridge2 = pd.read_csv('./processed_data/Fiber/fo_bridge2.csv')\n",
    "bridge3 = pd.read_csv('./processed_data/Fiber/fo_bridge3.csv')"
   ]
  },
  {
   "cell_type": "code",
   "execution_count": null,
   "metadata": {
    "colab": {
     "base_uri": "https://localhost:8080/",
     "height": 204
    },
    "id": "e3M0SCvJQFPo",
    "outputId": "e4f6d892-2b03-4a20-a027-a9800b243a66"
   },
   "outputs": [],
   "source": [
    "bridge3.head()"
   ]
  },
  {
   "cell_type": "markdown",
   "metadata": {
    "id": "jjfOp1uVQFPo"
   },
   "source": [
    "Let's start with Bridge 3 (first bridge)."
   ]
  },
  {
   "cell_type": "code",
   "execution_count": null,
   "metadata": {
    "id": "TGyfDvAJQFPo"
   },
   "outputs": [],
   "source": [
    "def subplot_lines(xs,ys,xy_labels,line_lables):\n",
    "    \"\"\"Subplot function \n",
    "     Args:\n",
    "      xs: list of x values, i.e. [x1,x2,x3...]\n",
    "      ys: list of y values, i.e. [y1,y2,y3...]\n",
    "      xy_labels: labels for the figure, in the form of (x_label, y_label)\n",
    "      line_lables: labels for plotted lines, must match to the order of yvalues in y\n",
    "    Returns:\n",
    "        None\n",
    "    \"\"\"\n",
    "    assert len(ys)==len(line_lables),  \"ys and line_lables must be list with same shape, i.e. [y1],[y1_label]\"\n",
    "    \n",
    "    fig, axes = plt.subplots(1, len(ys),figsize=(18,9))\n",
    "    \n",
    "    for ax, x, y,label in zip(axes,xs,ys,line_lables): \n",
    "        l = ax.plot(x,y,label =label)\n",
    "        ax.legend()\n",
    "        \n",
    "        \n",
    "    # add a big axes, hide frame\n",
    "    ax = fig.add_subplot(111, frameon=False)\n",
    "    # hide tick and tick label of the big axes\n",
    "    ax.tick_params(labelcolor='none', top=False, bottom=False, left=False, right=False)\n",
    "    ax.grid(False)\n",
    "    ax.set_xlabel(xy_labels[0])\n",
    "    ax.set_ylabel(xy_labels[1])\n",
    "    ax.legend(labels = line_lables)\n",
    "\n",
    "\n",
    "\n",
    "\n"
   ]
  },
  {
   "cell_type": "code",
   "execution_count": null,
   "metadata": {
    "id": "_5gt7sm1QFPo"
   },
   "outputs": [],
   "source": [
    "bridge3 = bridge3.iloc[:1000] # only the loading process "
   ]
  },
  {
   "cell_type": "code",
   "execution_count": null,
   "metadata": {
    "colab": {
     "base_uri": "https://localhost:8080/",
     "height": 555
    },
    "id": "xSgekvTNQFPo",
    "outputId": "3abb6f7a-3dfa-439f-97bf-5432ad043e7e"
   },
   "outputs": [],
   "source": [
    "# Diagonal Members \n",
    "member_names = ['AG','IB','DH','JC']\n",
    "loads = []\n",
    "strains = []\n",
    "for member_name in member_names:\n",
    "    loads.append(np.array(bridge3['load (N)'])/1000)\n",
    "    strains.append(np.array(bridge3[member_name]))\n",
    "subplot_lines(strains,loads,['micro strain','Load (kN)'],member_names)"
   ]
  },
  {
   "cell_type": "markdown",
   "metadata": {
    "id": "moaK-XuoQFPp"
   },
   "source": [
    "<font color='red'>Question: </font> : Describe any similarities and differences between the members. Does it match your prediction? \n",
    "\n",
    "Note: the wiggles are artifacts due to imperfect time matching between the fiber optics sensor analyzer and the load recording machine. "
   ]
  },
  {
   "cell_type": "markdown",
   "metadata": {
    "id": "3eWYso-7QFPp"
   },
   "source": [
    "<font color='red'>Answer: </font>"
   ]
  },
  {
   "cell_type": "code",
   "execution_count": null,
   "metadata": {
    "colab": {
     "base_uri": "https://localhost:8080/",
     "height": 555
    },
    "id": "6SguC_2_QFPp",
    "outputId": "34917fcf-b3a4-4e79-ddae-ec655313e5b7"
   },
   "outputs": [],
   "source": [
    "# Bottom Members \n",
    "member_names = ['AM','MB','DN','NC']\n",
    "loads = []\n",
    "strains = []\n",
    "for member_name in member_names:\n",
    "    loads.append(np.array(bridge3['load (N)'])/1000)\n",
    "    strains.append(np.array(bridge3[member_name]))\n",
    "subplot_lines(strains,loads,['micro strain','Load (kN)'],member_names)"
   ]
  },
  {
   "cell_type": "markdown",
   "metadata": {
    "id": "U9hDQM4NQFPp"
   },
   "source": [
    "<font color='red'>Question: </font> : Describe any similarities and differences between the members. Does it match your prediction? Does this matches the LVDT measurements? \n",
    "\n",
    "Note: the wiggles are artifacts due to imperfect time matching between the fiber optics sensor analyzer and the load recording machine. "
   ]
  },
  {
   "cell_type": "markdown",
   "metadata": {
    "id": "T-gQrpXCQFPp"
   },
   "source": [
    "<font color='red'>Answer: </font>"
   ]
  },
  {
   "cell_type": "markdown",
   "metadata": {
    "id": "ei2WM06rQFPp"
   },
   "source": [
    "Bridge 2. Unfortunately, we only have data on one side of bridge2 due to the connection issues we had during the experiment."
   ]
  },
  {
   "cell_type": "code",
   "execution_count": null,
   "metadata": {
    "id": "o3ON18C4QFPp"
   },
   "outputs": [],
   "source": [
    "bridge2 = bridge2.iloc[:600] # only the loading process "
   ]
  },
  {
   "cell_type": "code",
   "execution_count": null,
   "metadata": {
    "colab": {
     "base_uri": "https://localhost:8080/",
     "height": 555
    },
    "id": "jfEIg2TWQFPp",
    "outputId": "c783ca58-a20d-442b-d494-4fc00f335fb5"
   },
   "outputs": [],
   "source": [
    "# Diagonal Members \n",
    "member_names = ['DH','JC']\n",
    "loads = []\n",
    "strains = []\n",
    "for member_name in member_names:\n",
    "    loads.append(np.array(bridge2['load (N)'])/1000)\n",
    "    strains.append(np.array(bridge2[member_name]))\n",
    "subplot_lines(strains,loads,['micro strain','Load (kN)'],member_names)"
   ]
  },
  {
   "cell_type": "markdown",
   "metadata": {
    "id": "WPHAoI6EQFPp"
   },
   "source": [
    "<font color='red'>Question: </font> : Describe any similarities and differences between the members. Does it match your prediction? "
   ]
  },
  {
   "cell_type": "markdown",
   "metadata": {
    "id": "UpLfgPwYQFPp"
   },
   "source": [
    "<font color='red'>Answer: </font>"
   ]
  },
  {
   "cell_type": "code",
   "execution_count": null,
   "metadata": {
    "colab": {
     "base_uri": "https://localhost:8080/",
     "height": 555
    },
    "id": "vZZzcb-aQFPq",
    "outputId": "56011e17-f22b-44d1-8980-fafcebfbe051"
   },
   "outputs": [],
   "source": [
    "# Bottom Members \n",
    "member_names = ['DN','NC']\n",
    "loads = []\n",
    "strains = []\n",
    "for member_name in member_names:\n",
    "    loads.append(np.array(bridge2['load (N)'])/1000)\n",
    "    strains.append(np.array(bridge2[member_name]))\n",
    "subplot_lines(strains,loads,['micro strain','Load (kN)'],member_names)"
   ]
  },
  {
   "cell_type": "code",
   "execution_count": null,
   "metadata": {
    "id": "om18eEvf6B3p"
   },
   "outputs": [],
   "source": []
  },
  {
   "cell_type": "markdown",
   "metadata": {
    "id": "tvztPT4LQFPq"
   },
   "source": [
    "<font color='red'>Question: </font> : Describe any similarities and differences between the members. Does it match your prediction? Does this matches the LVDT measurements? \n",
    "\n",
    "Note: the wiggles are artifacts due to imperfect time matching between the fiber optics sensor analyzer and the load recording machine. "
   ]
  },
  {
   "cell_type": "markdown",
   "metadata": {
    "id": "AWxvGtKjQFPq"
   },
   "source": [
    "<font color='red'>Answer: </font>"
   ]
  },
  {
   "cell_type": "markdown",
   "metadata": {
    "id": "RKxEoouOQFPq"
   },
   "source": [
    "Bridge1 "
   ]
  },
  {
   "cell_type": "code",
   "execution_count": null,
   "metadata": {
    "id": "EqJCguvrQFPq"
   },
   "outputs": [],
   "source": [
    "bridge1 = bridge1.iloc[:150] # only the loading process "
   ]
  },
  {
   "cell_type": "code",
   "execution_count": null,
   "metadata": {
    "colab": {
     "base_uri": "https://localhost:8080/",
     "height": 555
    },
    "id": "qL1FFT3jQFPq",
    "outputId": "697df0d5-be19-4760-efd7-ec97e8eafd1f"
   },
   "outputs": [],
   "source": [
    "# Diagonal Members \n",
    "member_names = ['AG','IB','DH','JC']\n",
    "loads = []\n",
    "strains = []\n",
    "for member_name in member_names:\n",
    "    loads.append(np.array(bridge1['load (N)'])/1000)\n",
    "    strains.append(np.array(bridge1[member_name]))\n",
    "subplot_lines(strains,loads,['micro strain','Load (kN)'],member_names)"
   ]
  },
  {
   "cell_type": "markdown",
   "metadata": {
    "id": "MSJu7C1xQFPq"
   },
   "source": [
    "<font color='red'>Question: </font> : Describe any similarities and differences between the members. Does it match your prediction? "
   ]
  },
  {
   "cell_type": "markdown",
   "metadata": {
    "id": "WeBMRXZbQFPq"
   },
   "source": [
    "<font color='red'>Answer: </font>"
   ]
  },
  {
   "cell_type": "code",
   "execution_count": null,
   "metadata": {
    "colab": {
     "base_uri": "https://localhost:8080/",
     "height": 555
    },
    "id": "kj79asnKQFPq",
    "outputId": "32624d91-994f-4d7e-9312-1f4eb5c2bda6"
   },
   "outputs": [],
   "source": [
    "# Bottom Members \n",
    "member_names = ['AM','MB','DN','NC']\n",
    "loads = []\n",
    "strains = []\n",
    "for member_name in member_names:\n",
    "    loads.append(np.array(bridge1['load (N)'])/1000)\n",
    "    strains.append(np.array(bridge1[member_name]))\n",
    "subplot_lines(strains,loads,['micro strain','Load (kN)'],member_names)"
   ]
  },
  {
   "cell_type": "markdown",
   "metadata": {
    "id": "H4p8EZH7QFPr"
   },
   "source": [
    "<font color='red'>Question: </font> : Describe any similarities and differences between the members. Does it match your prediction? Does this matches the LVDT measurements? "
   ]
  },
  {
   "cell_type": "markdown",
   "metadata": {
    "id": "9iC6tOg7QFPr"
   },
   "source": [
    "<font color='red'>Answer: </font>"
   ]
  },
  {
   "cell_type": "markdown",
   "metadata": {
    "id": "MkvrD4brQFPr"
   },
   "source": [
    "## Discussion\n"
   ]
  },
  {
   "cell_type": "markdown",
   "metadata": {
    "id": "Fn9JFBpb49Ge"
   },
   "source": [
    "### Material stiffness (Young's modulus) revision using load-strain curves\n",
    "\n",
    "Use the stress-strain plots above to revise the stiffness of the material in your FE model. Are your estimations the same across different bridges?  \n",
    "\n",
    "Hint1: \"load\" from data is the system (total) load, go back to quiz 2 to find the equation to convert total load to the load felt by each member. Again, pay attention to number of angle bars for each member. Your answer should have the same magnitude to the value you have in quiz 2.\n",
    "\n",
    "Hint2: choose a good compression data on the diagnonal members (i.e. IB in bridge 1)! If you dont know how to handle the data, reading the values from the graph is also acceptable."
   ]
  },
  {
   "cell_type": "markdown",
   "metadata": {
    "id": "5eu98ZBmQFPr"
   },
   "source": [
    "<font color='red'>Answer: </font>"
   ]
  },
  {
   "cell_type": "markdown",
   "metadata": {
    "id": "SqbSHYrI2Z4W"
   },
   "source": [
    "Describe the deformation mechanisms of the bridge as a whole under at different loading stages. "
   ]
  },
  {
   "cell_type": "markdown",
   "metadata": {
    "id": "dEEeYlc7ndLR"
   },
   "source": [
    "<font color='red'>Answer: </font> \n"
   ]
  },
  {
   "cell_type": "markdown",
   "metadata": {
    "id": "00skfN8O2cPU"
   },
   "source": [
    "\n",
    "Discuss the validity of the assumptions that we made in the analysis given in quiz 2.\n"
   ]
  },
  {
   "cell_type": "markdown",
   "metadata": {
    "id": "dh_31lvu2d9c"
   },
   "source": [
    "<font color='red'>Answer: </font> \n"
   ]
  },
  {
   "cell_type": "markdown",
   "metadata": {
    "id": "duCXXUCS2hER"
   },
   "source": [
    "If you want to improve the simulation analysis, what would you do? "
   ]
  },
  {
   "cell_type": "markdown",
   "metadata": {
    "id": "ZrraIRQR2h-l"
   },
   "source": [
    "<font color='red'>Answer: </font> \n"
   ]
  },
  {
   "cell_type": "markdown",
   "metadata": {
    "id": "JTAOPEyj2j7B"
   },
   "source": [
    "If you are allowed to add more sensors to the model bridge, what and where would you add? "
   ]
  },
  {
   "cell_type": "markdown",
   "metadata": {
    "id": "Xn33HL2Q2oGi"
   },
   "source": [
    "<font color='red'>Answer: </font> \n"
   ]
  }
 ],
 "metadata": {
  "colab": {
   "collapsed_sections": [],
   "name": "HW2-Draft.ipynb",
   "provenance": [],
   "toc_visible": true
  },
  "kernelspec": {
   "display_name": "Python 3",
   "language": "python",
   "name": "python3"
  },
  "language_info": {
   "codemirror_mode": {
    "name": "ipython",
    "version": 3
   },
   "file_extension": ".py",
   "mimetype": "text/x-python",
   "name": "python",
   "nbconvert_exporter": "python",
   "pygments_lexer": "ipython3",
   "version": "3.6.8"
  }
 },
 "nbformat": 4,
 "nbformat_minor": 1
}
