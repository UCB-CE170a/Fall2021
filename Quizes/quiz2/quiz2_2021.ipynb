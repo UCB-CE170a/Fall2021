{
 "cells": [
  {
   "cell_type": "markdown",
   "metadata": {
    "id": "9e2kYAVXZ5ba"
   },
   "source": [
    "# UCB CE170A Quiz2 : Model bridge experiment data analysis and structural analysis using a Python code\n",
    "v2 - Fall 2021: Prof.Kenichi Soga,Renjie Wu, Yaobin Yang"
   ]
  },
  {
   "cell_type": "markdown",
   "metadata": {
    "id": "DU1qmFgFO0Bu"
   },
   "source": [
    "# Install required packages"
   ]
  },
  {
   "cell_type": "code",
   "execution_count": null,
   "metadata": {
    "colab": {
     "base_uri": "https://localhost:8080/"
    },
    "id": "SEQkQcLKc89S",
    "outputId": "01d30764-87ca-470d-9c5d-c65d6074ccc4"
   },
   "outputs": [],
   "source": [
    "!pip install trusspy"
   ]
  },
  {
   "cell_type": "markdown",
   "metadata": {
    "id": "1G2wjr-pZ5bb"
   },
   "source": [
    "# Background\n",
    "\n",
    "<center>\n",
    "<img src=\"https://github.com/UCB-CE170a/Fall2020/raw/master/homeworks/hw1/images/figure0.png\" alt=\"A bridge.\" width=\"400\" />\n",
    "    \n",
    "    An example bridge\n",
    "</center>\n",
    "\n",
    "\n",
    "A photo and schematic diagram of the model bridge is shown in Fig. 1. The model consists of two identical 2D frames placed in parallel and connected by diagonal and horizonal braces (Pink lines). A vertical load will be applied at the top two nodes using a load spreader frame (light Blue). In the experiment, the model bridge will be placed between two rigid supports as shown in Fig. 2. \n",
    "\n",
    "\n"
   ]
  },
  {
   "cell_type": "markdown",
   "metadata": {
    "id": "Ptx4GtHvaZVK"
   },
   "source": [
    "<center>\n",
    "<img src=\"https://github.com/UCB-CE170a/Fall2020/raw/master/homeworks/hw1/images/figure1.png\" alt=\"schematic diagram.\" width=\"600\" />\n",
    "    \n",
    "    Figure 1. A photo and schematic diagram of the model bridge\n",
    "</center>"
   ]
  },
  {
   "cell_type": "markdown",
   "metadata": {
    "id": "REbr74tOalOW"
   },
   "source": [
    "<center>\n",
    "<img src=\"https://github.com/UCB-CE170a/Fall2021/raw/master/Homeworks/HW2/images/figure2.png\" alt=\"A bridge.\" width=\"500\" />\n",
    "    \n",
    "    Figure 2. Loading on the model bridge\n",
    "</center>"
   ]
  },
  {
   "cell_type": "markdown",
   "metadata": {
    "id": "IJSEWIzvadsh"
   },
   "source": [
    "The bridge is made of aluminum  angle bars and sheets as shown in Fig. 3. The angle bar has a **cross-sectional dimension of ½ inch x ½ inch x 3/80 inch (thickness)(cross-sectional area = 1.51 x 10$^{-4}$ m$^{2}$)**. Two angle bars are used for the top four frame members (Yellow lines in Fig. 1 or L2 & L3 in Fig. 2), whereas one angle bar is used for the other members (Red, Blue and Pink lines in Fig. 1 or L4 & L5 in Fig. 2). The Young’s modulus and yield strength of the angle bar are **69 GPa and 110 MPa,** respectively. The members are connected by rivets. \n",
    "\n",
    "The design details of the model bridge are given in Fig. 4."
   ]
  },
  {
   "cell_type": "markdown",
   "metadata": {
    "id": "sznwYQZBarSf"
   },
   "source": [
    "\n",
    "<center>\n",
    "<img src=\"https://github.com/UCB-CE170a/Fall2020/raw/master/homeworks/hw1/images/figure3.png\" alt=\"A bridge.\" width=\"400\" />\n",
    "    \n",
    "    Figure 3. Aluminum angle bars and sheets used by the bridge\n",
    "</center>"
   ]
  },
  {
   "cell_type": "markdown",
   "metadata": {
    "id": "0qcGXjLErz7e"
   },
   "source": [
    "\n",
    "<center>\n",
    "<img src=\"https://github.com/UCB-CE170a/Fall2020/raw/master/homeworks/hw1/images/figure4.png\" alt=\"A bridge.\" width=\"600\" />\n",
    "    \n",
    "    Figure 4. Design details of the model \n",
    "</center>\n",
    "\n"
   ]
  },
  {
   "cell_type": "markdown",
   "metadata": {
    "id": "Jo78qJ0VZ5bc"
   },
   "source": [
    "# Question 1:\n",
    "A working load of 7000 N is applied to the model structure. Using a simplified 2D model shown in Fig. 5, perform a hand calculation of the bar forces and strains under the given load for load carrying sections, L1, L2 and L3. What is the role of bracing sections L4, L5?  Estimate the displacement at the top nodes.\n",
    "\n",
    "Note: for the 2D model, the actual force of the top node is half of the total force\n",
    "\n",
    "Hint: use the virtual work method for displacement calculation. \n",
    "See https://learnaboutstructures.com/Virtual-Work-for-Trusses for an example. "
   ]
  },
  {
   "cell_type": "markdown",
   "metadata": {
    "id": "9rwU9UWPs0TU"
   },
   "source": [
    "\n",
    "<center>\n",
    "<img src=\"https://github.com/UCB-CE170a/Fall2021/raw/master/Homeworks/HW2/images/figure5b.png\" alt=\"A bridge.\" width=\"500\" />\n",
    "    \n",
    "    Figure 5. A simplified 2D model of the model bridge (dimension in meters)\n",
    "</center>"
   ]
  },
  {
   "cell_type": "markdown",
   "metadata": {
    "id": "7OZHQtQ8pRaj"
   },
   "source": [
    "See the quiz2 answer file. "
   ]
  },
  {
   "cell_type": "markdown",
   "metadata": {
    "id": "GxDUrVAaZ5bd"
   },
   "source": [
    "# Question 2:\n",
    "Following code blocks below to use [Trusspy](https://adtzlr.github.io/trusspy/) to model the 3D model bridge. Run all the cells and **fill the TODO** parts if necessary. \n"
   ]
  },
  {
   "cell_type": "code",
   "execution_count": null,
   "metadata": {
    "id": "rTm7oCtQdQin"
   },
   "outputs": [],
   "source": [
    "\"\"\"\n",
    "Step 0: Import libraries  \n",
    "\"\"\"\n",
    "import trusspy as tp\n",
    "import copy\n",
    "import matplotlib.pyplot as plt\n",
    "import numpy as np"
   ]
  },
  {
   "cell_type": "markdown",
   "metadata": {
    "id": "G07ZzjtnXm49"
   },
   "source": [
    "First, lets declare constant variables and initialize the Trusspy model. Fill the empty constants using the information provided by the question description. "
   ]
  },
  {
   "cell_type": "code",
   "execution_count": null,
   "metadata": {
    "id": "tWJcy08nbNDb"
   },
   "outputs": [],
   "source": [
    "\"\"\"\n",
    "Step 1: Assign Constant and initialze the model \n",
    "\"\"\"\n",
    "ELEMENT_TYPE   = 1    # truss\n",
    "MATERIAL_TYPE  = 2    # elasto-plastic\n",
    "HARDENING_MODULUS = 0.01 # hardening_modulus[Pa] a very small number for elastic-perfectly plastic\n",
    "INCREMENT = 40\n",
    "\n",
    "#TODO: Assign proper value for the load below\n",
    "A =  # the area of the angle bar section [m^2]\n",
    "YONGS_MODULUS =  # Young's modulus [Pa] (TODO)\n",
    "YIELD_STRENGH =  # yield strength[Pa]\n",
    "\n",
    "\n",
    "M_perfect = tp.Model(log = 0)# Trusspy model initialization \n",
    "# model settings\n",
    "M_perfect.Settings.dlpf = 0.1\n",
    "M_perfect.Settings.du = 0.002\n",
    "M_perfect.Settings.incs = INCREMENT\n",
    "M_perfect.Settings.stepcontrol = True\n"
   ]
  },
  {
   "cell_type": "markdown",
   "metadata": {
    "id": "gtn5rcIBdKXV"
   },
   "source": [
    "Second, lets add nodes into the initialized null model. Model configuration is shown be the figure below: \n",
    "\n",
    "<center>\n",
    "<img src=\"https://github.com/UCB-CE170a/Fall2020/raw/master/homeworks/hw1/images/model_configuration.png\" alt=\"A bridge.\" width=\"600\" />\n",
    "    \n",
    "    Figure 5. Trusspy model configuration \n",
    "</center>\n"
   ]
  },
  {
   "cell_type": "code",
   "execution_count": null,
   "metadata": {
    "id": "XwoHHaS5jEjN"
   },
   "outputs": [],
   "source": [
    "\"\"\"\n",
    "Step 2: Add truss elements to the model \n",
    "\"\"\"\n",
    "with M_perfect.Nodes as MN:# nodes defination unit [m]\n",
    "    MN.add_node( 1, coord=(0,0,0))\n",
    "    MN.add_node( 2, coord=(1,0,0))\n",
    "    MN.add_node( 3, coord=(2,0,0))\n",
    "    MN.add_node( 4, coord=(0.5,0,0.5))\n",
    "    MN.add_node( 5, coord=(1.5,0,0.5))\n",
    "    MN.add_node( 6, coord=(1,0,1))\n",
    "    MN.add_node( 7, coord=(0,0.2876,0))\n",
    "    MN.add_node( 8, coord=(1,0.2876,0))\n",
    "    MN.add_node( 9, coord=(2,0.2876,0))\n",
    "    MN.add_node( 10, coord=(0.5,0.2876,0.5))\n",
    "    MN.add_node( 11, coord=(1.5,0.2876,0.5))\n",
    "    MN.add_node( 12, coord=(1,0.2876,1))"
   ]
  },
  {
   "cell_type": "markdown",
   "metadata": {
    "id": "RNlTc8LKeRLJ"
   },
   "source": [
    "Then we link all these nodes together to construct the configuration shown by figure 5. "
   ]
  },
  {
   "cell_type": "code",
   "execution_count": null,
   "metadata": {
    "id": "fmzsXAO9evsT"
   },
   "outputs": [],
   "source": [
    "\"\"\"\n",
    "Step 3: Add truss elements to the model \n",
    "\"\"\"\n",
    "with M_perfect.Elements as ME: \n",
    "    ME.add_element( 1, conn=(1,2), gprop=[A] )\n",
    "    ME.add_element( 2 ,conn=(2,3), gprop=[A] )\n",
    "    ME.add_element( 3, conn=(1,4), gprop=[A*2] )\n",
    "    ME.add_element( 4, conn=(2,4), gprop=[A] )\n",
    "    ME.add_element( 5, conn=(2,5), gprop=[A] )\n",
    "    ME.add_element( 6, conn=(3,5), gprop=[A*2] )\n",
    "    ME.add_element( 7, conn=(4,6), gprop=[A*2] )\n",
    "    ME.add_element( 8, conn=(5,6), gprop=[A*2] )\n",
    "    ME.add_element( 9, conn=(7,8), gprop=[A] )\n",
    "    ME.add_element( 10 ,conn=(8,9), gprop=[A] )\n",
    "    ME.add_element( 11, conn=(7,10), gprop=[A*2] )\n",
    "    ME.add_element( 12, conn=(8,10), gprop=[A] )\n",
    "    ME.add_element( 13, conn=(8,11), gprop=[A] )\n",
    "    ME.add_element( 14, conn=(9,11), gprop=[A*2] )\n",
    "    ME.add_element( 15, conn=(10,12), gprop=[A*2] )\n",
    "    ME.add_element( 16, conn=(11,12), gprop=[A*2] )\n",
    "    ME.add_element( 17, conn=(1,10), gprop=[A] )\n",
    "    ME.add_element( 18, conn=(4,12), gprop=[A] )\n",
    "    ME.add_element( 19, conn=(6,11), gprop=[A] )\n",
    "    ME.add_element( 20, conn=(5,9), gprop=[A] )\n",
    "    ME.add_element( 21, conn=(6,12), gprop=[A] )\n",
    "    ME.add_element( 22, conn=(6,12), gprop=[A] )\n",
    "    ME.add_element( 23, conn=(1,7), gprop=[A] )\n",
    "    ME.add_element( 24, conn=(3,9), gprop=[A] )\n",
    "    ME.add_element( 25, conn=(4,10), gprop=[A] )\n",
    "    ME.add_element( 26, conn=(5,11), gprop=[A] )\n",
    "    ME.assign_etype(    'all',   ELEMENT_TYPE   )\n",
    "    ME.assign_mtype(    'all',  MATERIAL_TYPE   )\n",
    "    ME.assign_material( 'all', [YONGS_MODULUS,HARDENING_MODULUS,YIELD_STRENGH] )"
   ]
  },
  {
   "cell_type": "markdown",
   "metadata": {
    "id": "eIX2JdZ9faWp"
   },
   "source": [
    "Lets assign external forces and boundary conditions to the model:"
   ]
  },
  {
   "cell_type": "code",
   "execution_count": null,
   "metadata": {
    "id": "GAWQgDtlfpYD"
   },
   "outputs": [],
   "source": [
    "\"\"\"\n",
    "Step 4: Set boundary conditions and external forces\n",
    "\"\"\"\n",
    "# TODO: WHAT IS THE LOAD? \n",
    "load = \n",
    "load1=-0.5*load # front force\n",
    "load2=-0.5*load # back force\n",
    "\n",
    "with M_perfect.Boundaries as MB: # boundary-displacement\n",
    "    MB.add_bound_U( 1, (0,0,0) )\n",
    "    MB.add_bound_U( 3, (1,1,0) )\n",
    "    MB.add_bound_U( 7, (0,1,0) )\n",
    "    MB.add_bound_U( 9, (1,1,0) )\n",
    "    MB.add_bound_U( 2, (1,0,1) ) # this is a difference between our model and realistic word, since there is no joint in the real world for node 2 and 8\n",
    "    MB.add_bound_U( 8, (1,0,1) ) # since there is no joint in the real world for node 2 and 8\n",
    "    \n",
    "with M_perfect.ExtForces as MF: # boundary-force\n",
    "    MF.add_force( 6, ( 0, 0, load1) )\n",
    "    MF.add_force( 12, ( 0, 0, load2) )\n"
   ]
  },
  {
   "cell_type": "markdown",
   "metadata": {
    "id": "8i6sUN6rfydk"
   },
   "source": [
    "Finally, lets build and run the model:"
   ]
  },
  {
   "cell_type": "code",
   "execution_count": null,
   "metadata": {
    "colab": {
     "base_uri": "https://localhost:8080/"
    },
    "id": "1x436jNIf5Lv",
    "outputId": "0eb6427f-ddbd-49bb-8aca-05b33b6704a7"
   },
   "outputs": [],
   "source": [
    "\"\"\"\n",
    "Step 5: Build and run the model\n",
    "\"\"\"\n",
    "M_perfect.build()\n",
    "M_perfect.run()\n",
    "print (\"Simulation finished\")\n"
   ]
  },
  {
   "cell_type": "markdown",
   "metadata": {
    "id": "HIQ_8fL7f7kR"
   },
   "source": [
    "If your model is built successfully, you will see \"Simulation finished\" on the bottom of the above cell. Run cell below to plot the model in 3D."
   ]
  },
  {
   "cell_type": "code",
   "execution_count": null,
   "metadata": {
    "colab": {
     "base_uri": "https://localhost:8080/",
     "height": 390
    },
    "id": "RmyNUOrrf6iK",
    "outputId": "238407cf-6fd6-4b8e-e1b9-e92a1172efb8"
   },
   "outputs": [],
   "source": [
    "# View the initial model in 3D\n",
    "fig, ax = M_perfect.plot_model(config=['undeformed'],\n",
    "                      view='3d', #'xy', 'yz', 'xz'\n",
    "                      contour='force',\n",
    "                      lim_scale=(-0.1,2.1,0,0.5,-0.1,1), #3d\n",
    "                      #lim_scale=1.4, #plane-view\n",
    "                      force_scale=0.00005, #2\n",
    "                      inc=0)"
   ]
  },
  {
   "cell_type": "markdown",
   "metadata": {
    "id": "GBPRdgybgxb2"
   },
   "source": [
    "Trusspy allows us to view the deformation in 3D: "
   ]
  },
  {
   "cell_type": "code",
   "execution_count": null,
   "metadata": {
    "colab": {
     "base_uri": "https://localhost:8080/",
     "height": 390
    },
    "id": "t7xGzmtmgoHF",
    "outputId": "0b91a8a3-c760-4d53-bbf6-e513a68792d5"
   },
   "outputs": [],
   "source": [
    "fig, ax = M_perfect.plot_model(config=['deformed'],\n",
    "                        view='3d', #'xy', 'yz', 'xz'\n",
    "                        contour='force',\n",
    "                        lim_scale=(-0.1,2.1,0,0.5,-0.1,1), #3d\n",
    "                        #lim_scale=1.4, #plane-view\n",
    "                        force_scale=0.00005, #2\n",
    "                        inc=-1)"
   ]
  },
  {
   "cell_type": "markdown",
   "metadata": {
    "id": "82T3Me8Ig9Be"
   },
   "source": [
    "And in 2d view:"
   ]
  },
  {
   "cell_type": "code",
   "execution_count": null,
   "metadata": {
    "colab": {
     "base_uri": "https://localhost:8080/",
     "height": 791
    },
    "id": "h2ZoCsIWrlUG",
    "outputId": "46dac5d3-fb14-421e-81bf-84d14b67c7c8"
   },
   "outputs": [],
   "source": [
    "# \"Deformed model in xz plane view\"\n",
    "fig, ax = M_perfect.plot_model(config=['deformed'],\n",
    "                        view='xz',\n",
    "                        contour='force',\n",
    "                        lim_scale=1.3,\n",
    "                        force_scale=0.00005,\n",
    "                        inc=-1)\n",
    "\n",
    "# Deformed model in xy plane'\n",
    "fig, ax = M_perfect.plot_model(config=['deformed'],\n",
    "                        view='xy',\n",
    "                        contour='force',\n",
    "                        lim_scale=1.3,\n",
    "                        force_scale=0.00005,\n",
    "                        inc=-1)"
   ]
  },
  {
   "cell_type": "markdown",
   "metadata": {
    "id": "DUgSocBfjvR6"
   },
   "source": [
    "## Plot elements responses during loading. \n"
   ]
  },
  {
   "cell_type": "markdown",
   "metadata": {
    "id": "TGvkmU6mkxzW"
   },
   "source": [
    "We are going to create some help functions to assess elements responses of the model during the loading process. \n",
    "\n",
    "First, lets create a function to get the internal forces of a truss element with respect to the load proportionality factor (LPFs). \n",
    "\n",
    "Note, since we are really kind, all the functions are created for you. Your job is to read the function and experiment the usages in this quiz. "
   ]
  },
  {
   "cell_type": "code",
   "execution_count": null,
   "metadata": {
    "id": "bslAFp3GlFea"
   },
   "outputs": [],
   "source": [
    "def get_internal_forces(M,elem): \n",
    "  \"\"\"Get internal force of a element\n",
    "    Args:\n",
    "      M: trusspy model \n",
    "      elem: the element index of interest\n",
    "\n",
    "    Returns:\n",
    "      lpfs is a list of loading proportionality factor for this elem\n",
    "      forces is a list of internal force for this elem regarding to lpfs\n",
    "  \"\"\"\n",
    "  Res=M.Results.R\n",
    "  lpfs,forces = [],[]\n",
    "  for r in Res:\n",
    "      force =r.element_force[elem-1]\n",
    "      lpfs.append(r.lpf)\n",
    "      forces.append(force[0])\n",
    "  return lpfs,forces\n"
   ]
  },
  {
   "cell_type": "markdown",
   "metadata": {
    "id": "44YrzmzAlGHG"
   },
   "source": [
    "Using the extracted force to create a function that computes stresses of a element regarding to LPFs: "
   ]
  },
  {
   "cell_type": "code",
   "execution_count": null,
   "metadata": {
    "id": "y8hDLH9Xld5-"
   },
   "outputs": [],
   "source": [
    "def get_stresses(M,elem):\n",
    "  \"\"\"Get stress of a element\n",
    "    Args:\n",
    "      M: trusspy model \n",
    "      elem: the element index of interest\n",
    "\n",
    "    Returns:\n",
    "      lpfs is a list of loading proportionality factor for this elem\n",
    "      stresses is a list of stress for this elem regarding to lpfs\n",
    "  \"\"\"\n",
    "  area = M.Elements.geometric_properties[elem-1][0]\n",
    "  lpfs,forces = get_internal_forces(M,elem)\n",
    "  stresses = list(map(lambda f:f/area, forces))\n",
    "  return lpfs,stresses"
   ]
  },
  {
   "cell_type": "markdown",
   "metadata": {
    "id": "CVYuxFvTlffv"
   },
   "source": [
    "Now, lets compute strains. "
   ]
  },
  {
   "cell_type": "code",
   "execution_count": null,
   "metadata": {
    "id": "Wyokeb0Bllov"
   },
   "outputs": [],
   "source": [
    "def get_strains(M,elem): \n",
    "  \"\"\"Get strain of a element\n",
    "    Args:\n",
    "      M: trusspy model \n",
    "      elem: the element index of interest\n",
    "\n",
    "    Returns:\n",
    "      lpfs is a list of loading proportionality factor for this elem\n",
    "      strains is a list of strain for this elem regarding to lpfs\n",
    "  \"\"\"\n",
    "  E=M.Elements.material_properties[elem-1][0]\n",
    "  lpfs,stresses = get_stresses(M,elem)\n",
    "  strains=list(map(lambda stress:stress/E, stresses))\n",
    "  return lpfs,strains"
   ]
  },
  {
   "cell_type": "markdown",
   "metadata": {
    "id": "fm8CtyAzloF_"
   },
   "source": [
    "And rotation degrees of a element. "
   ]
  },
  {
   "cell_type": "code",
   "execution_count": null,
   "metadata": {
    "id": "3NV0TlCXj-AK"
   },
   "outputs": [],
   "source": [
    "def get_rotation_degrees(M,elem):\n",
    "  \"\"\"Get rotation degrees of a element\n",
    "    Args:\n",
    "      M: trusspy model \n",
    "      elem: the element index of interest\n",
    "\n",
    "    Returns:\n",
    "      lpfs is a list of loading proportionality factor for this elem\n",
    "      degrees is a list of rotation degree for this elem regarding to lpfs\n",
    "  \"\"\"\n",
    "  con=M.Elements.conns[elem-1] # element names is 1 based whereas list index is 0 based\n",
    "  node1,node2 =con[0], con[1]\n",
    "  coord1,coord2=M.Nodes.coords[node1-1], M.Nodes.coords[node2-1]# node names is 1 based whereas list index is 0 based\n",
    "  r_before = coord2-coord1 #initial vector representation of the truss element\n",
    "\n",
    "  Res=M.Results.R\n",
    "  lpfs,degrees = [],[]\n",
    "  for Re in Res:\n",
    "      n1_displacement = Re.U[node1-1]\n",
    "      n2_displacement = Re.U[node2-1]\n",
    "        \n",
    "      # TODO: Get the coordinates of the two nodes after stressing. \n",
    "      coord1_after = coord1+n1_displacement\n",
    "      coord2_after = coord2+n2_displacement\n",
    "      # TODO: Use all the information to get the rotation degree:theta \n",
    "      # Hint: How do you get the angle of two vector? np.dot might be helpful\n",
    "      r_after=coord2_after-coord1_after\n",
    "      cosangle = r_before.dot(r_after)/(np.linalg.norm(r_before) * np.linalg.norm(r_after))\n",
    "      theta=np.arccos(cosangle)\n",
    "      lpfs.append(Re.lpf)\n",
    "      degrees.append(theta)\n",
    "  return lpfs,degrees\n"
   ]
  },
  {
   "cell_type": "markdown",
   "metadata": {
    "id": "psyNG6oUl7Ud"
   },
   "source": [
    "Use the created functions to plot the following with increasing load (Load Proportionality Ratios)."
   ]
  },
  {
   "cell_type": "markdown",
   "metadata": {
    "id": "lgpBkSM8Z5bd"
   },
   "source": [
    "### Q2 a): Strains and rotations in element L2\n",
    "\n",
    "\n",
    "\n",
    "\n",
    "\n"
   ]
  },
  {
   "cell_type": "markdown",
   "metadata": {
    "id": "iJk2zXBnoYVs"
   },
   "source": [
    "What is the internal force and strain of L2 when LPF is around 1? (use the closest LPF and the corresponding values). Compare and discuss values from simulation to your results in question 1. "
   ]
  },
  {
   "cell_type": "code",
   "execution_count": null,
   "metadata": {
    "colab": {
     "base_uri": "https://localhost:8080/"
    },
    "id": "DqP1JIJpqBFd",
    "outputId": "20eb210c-ec53-4faa-ebd6-a5434e3da71e"
   },
   "outputs": [],
   "source": [
    "# code to get the values (call the right functions and select values correspond to LPF = 1)\n"
   ]
  },
  {
   "cell_type": "markdown",
   "metadata": {
    "id": "jsiKY6XRp-lU"
   },
   "source": [
    "<font color=”blue”> Your Answer </font> : "
   ]
  },
  {
   "cell_type": "markdown",
   "metadata": {
    "id": "9sTlzGD9vSgT"
   },
   "source": [
    "Plot the strain and rotation profiles for element L2. \n",
    "\n",
    "If you are not familiar with python plotting, read \n",
    "https://matplotlib.org/stable/tutorials/introductory/pyplot.html"
   ]
  },
  {
   "cell_type": "code",
   "execution_count": null,
   "metadata": {
    "colab": {
     "base_uri": "https://localhost:8080/",
     "height": 296
    },
    "id": "n29kolY0Xj8Y",
    "outputId": "9244a364-499a-45d4-9775-b8542bff0c30"
   },
   "outputs": [],
   "source": [
    "# strain plot\n",
    "lpf,epis= # call the right function\n",
    "\n",
    "plt.plot(lpf,epis,label='L2 strain')\n",
    "plt.xlabel('LPF')\n",
    "plt.ylabel('Strain')\n",
    "plt.legend()\n"
   ]
  },
  {
   "cell_type": "code",
   "execution_count": null,
   "metadata": {
    "colab": {
     "base_uri": "https://localhost:8080/",
     "height": 296
    },
    "id": "UJAktqBAVW31",
    "outputId": "c1ceb202-ed60-4d5c-ba0e-430f72090406"
   },
   "outputs": [],
   "source": [
    "# rotation plot\n",
    "lpf,thetas= # call the right function\n",
    "plt.plot(lpf,thetas,label='L2 Rotation')\n",
    "plt.xlabel('LPF')\n",
    "plt.ylabel('Rotation/rad')\n",
    "plt.legend()"
   ]
  },
  {
   "cell_type": "markdown",
   "metadata": {
    "id": "j4OPIs-8jhvE"
   },
   "source": [
    "### Q2 b): Expected expansion of element L1\n",
    "\n"
   ]
  },
  {
   "cell_type": "markdown",
   "metadata": {
    "id": "YTdMSFq0sc8P"
   },
   "source": [
    "Use the function below to use strains to find expansions."
   ]
  },
  {
   "cell_type": "code",
   "execution_count": null,
   "metadata": {
    "id": "ZnVMoQLTWV-E"
   },
   "outputs": [],
   "source": [
    "def get_expansion(M,elem):\n",
    "  \"\"\"Get expansion of a element\n",
    "    Args:\n",
    "      M: trusspy model \n",
    "      elem: the element index of interest\n",
    "\n",
    "    Returns:\n",
    "      lpfs is a list of loading proportionality factor for this elem\n",
    "      expansions is a list of expansion for this elem regarding to lpfs\n",
    "  \"\"\"\n",
    "  con=M.Elements.conns[elem-1]\n",
    "  con1=con[0]\n",
    "  con2=con[1]\n",
    "  nc1=M.Nodes.coords[con1-1]\n",
    "  nc2=M.Nodes.coords[con2-1]\n",
    "  r_0=nc2-nc1\n",
    "  L=np.linalg.norm(r_0)\n",
    "  lpfs,strains = get_strains(M,elem)\n",
    "  expansions=list(map(lambda strain:strain*L, strains))\n",
    "  return lpfs,expansions\n"
   ]
  },
  {
   "cell_type": "markdown",
   "metadata": {
    "id": "LUU_-T8Xrn4x"
   },
   "source": [
    "What is the expected expansion of L1 when LPF is around 1? (use the closest LPF and the corresponding values). Compare and discuss values from simulation to your results in question1. "
   ]
  },
  {
   "cell_type": "code",
   "execution_count": null,
   "metadata": {
    "colab": {
     "base_uri": "https://localhost:8080/"
    },
    "id": "uf5m_-xWr0Zw",
    "outputId": "bf590c4a-5b63-4a80-979d-ad0e5c2c39f1"
   },
   "outputs": [],
   "source": [
    "# code to get the values (call the right functions and select values correspond to LPF = 1)"
   ]
  },
  {
   "cell_type": "markdown",
   "metadata": {
    "id": "fP03kW8Kuqvu"
   },
   "source": [
    "<font color=”blue”> Your Answer </font> : "
   ]
  },
  {
   "cell_type": "markdown",
   "metadata": {
    "id": "Nsz6SMMIut_1"
   },
   "source": [
    "Plot the expansion for L1 and L2 with respect to lpfs"
   ]
  },
  {
   "cell_type": "code",
   "execution_count": null,
   "metadata": {
    "colab": {
     "base_uri": "https://localhost:8080/",
     "height": 296
    },
    "id": "ljPkh3EBtyC_",
    "outputId": "b6332c57-c7c0-4034-f776-2ab2def2ec78"
   },
   "outputs": [],
   "source": [
    "# expansion plot\n",
    "lpf,exp= # call the right function\n",
    "plt.figure()\n",
    "plt.plot(lpf,exp,label='L1 expansion')\n",
    "plt.xlabel('LPF')\n",
    "plt.ylabel('Expansion (m)')\n",
    "plt.legend()"
   ]
  },
  {
   "cell_type": "code",
   "execution_count": null,
   "metadata": {
    "colab": {
     "base_uri": "https://localhost:8080/",
     "height": 296
    },
    "id": "C7GQQ0ozpRaw",
    "outputId": "bde09155-765d-4ccf-cabb-000a4ed5a0c3"
   },
   "outputs": [],
   "source": [
    "# expansion plot\n",
    "lpf,exp= # call the right function\n",
    "plt.figure()\n",
    "plt.plot(lpf,exp,label='L2 expansion')\n",
    "plt.xlabel('LPF')\n",
    "plt.ylabel('Expansion (m)')\n",
    "plt.legend()"
   ]
  },
  {
   "cell_type": "markdown",
   "metadata": {
    "id": "MO48SlIBjjGw"
   },
   "source": [
    "### Q2 c): Expected loads in brace L4"
   ]
  },
  {
   "cell_type": "markdown",
   "metadata": {
    "id": "2dCVFFEUs4BW"
   },
   "source": [
    "What is the expected loads of these braces when LPF is around 1? (use the closest LPF and the corresponding values). Compare and discuss values from simulation to your results in question1. "
   ]
  },
  {
   "cell_type": "code",
   "execution_count": null,
   "metadata": {
    "colab": {
     "base_uri": "https://localhost:8080/"
    },
    "id": "E8aknT3Ts9DB",
    "outputId": "f0ead70c-b5a5-458f-e48c-12619c8de1ea"
   },
   "outputs": [],
   "source": [
    "# code to get the values (call the right functions and select values correspond to LPF = 1)\n"
   ]
  },
  {
   "cell_type": "markdown",
   "metadata": {
    "id": "20S-p2kjtdFA"
   },
   "source": [
    "<font color=”blue”> Your Answer </font> : "
   ]
  },
  {
   "cell_type": "markdown",
   "metadata": {
    "id": "Apllt8YxvgnV"
   },
   "source": [
    "Plot the load for L4 with respect to lpfs"
   ]
  },
  {
   "cell_type": "code",
   "execution_count": null,
   "metadata": {
    "colab": {
     "base_uri": "https://localhost:8080/",
     "height": 296
    },
    "id": "tnkrw4BNV9rh",
    "outputId": "7200a268-20b4-4334-8f84-14470af60088"
   },
   "outputs": [],
   "source": [
    "# L4 plots\n",
    "lpf,force= # call the right function\n",
    "plt.plot(lpf,force,label='L4 internal force')\n",
    "plt.xlabel('LPF')\n",
    "plt.ylabel('internal force/N')\n",
    "plt.legend()"
   ]
  },
  {
   "cell_type": "markdown",
   "metadata": {},
   "source": [
    "### Q2 d): Vertical displacement of the top node"
   ]
  },
  {
   "cell_type": "markdown",
   "metadata": {
    "id": "a9v80QXllwGA"
   },
   "source": [
    "Run code below to plot the vertical displacement for L4 with respect to lpfs. \n",
    "Compare and discuss values from simulation to your results in question1. "
   ]
  },
  {
   "cell_type": "code",
   "execution_count": null,
   "metadata": {
    "colab": {
     "base_uri": "https://localhost:8080/",
     "height": 388
    },
    "id": "tTAlI5S3vo0z",
    "outputId": "ece1c641-d469-48b0-e8a8-4a0fa30e5424"
   },
   "outputs": [],
   "source": [
    "fig, ax = M_perfect.plot_history(nodes = [6,6],X='Displacement Z')"
   ]
  },
  {
   "cell_type": "markdown",
   "metadata": {
    "id": "wiJsCTiheUOs"
   },
   "source": [
    "<font color=”blue”> Your Answer </font> : ."
   ]
  },
  {
   "cell_type": "code",
   "execution_count": null,
   "metadata": {},
   "outputs": [],
   "source": []
  }
 ],
 "metadata": {
  "colab": {
   "collapsed_sections": [],
   "name": "quiz2_2021.ipynb",
   "provenance": []
  },
  "kernelspec": {
   "display_name": "Python 3",
   "language": "python",
   "name": "python3"
  },
  "language_info": {
   "codemirror_mode": {
    "name": "ipython",
    "version": 3
   },
   "file_extension": ".py",
   "mimetype": "text/x-python",
   "name": "python",
   "nbconvert_exporter": "python",
   "pygments_lexer": "ipython3",
   "version": "3.6.8"
  }
 },
 "nbformat": 4,
 "nbformat_minor": 1
}
