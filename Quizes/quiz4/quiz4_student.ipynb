{
  "nbformat": 4,
  "nbformat_minor": 0,
  "metadata": {
    "colab": {
      "name": "quiz4_student.ipynb",
      "provenance": []
    },
    "kernelspec": {
      "display_name": "Python 3",
      "language": "python",
      "name": "python3"
    },
    "language_info": {
      "codemirror_mode": {
        "name": "ipython",
        "version": 3
      },
      "file_extension": ".py",
      "mimetype": "text/x-python",
      "name": "python",
      "nbconvert_exporter": "python",
      "pygments_lexer": "ipython3",
      "version": "3.7.7"
    }
  },
  "cells": [
    {
      "cell_type": "markdown",
      "metadata": {
        "id": "Fqns2t-GGpTH"
      },
      "source": [
        "### 1.Introduction\n",
        "This notebook will guide you to run a all-or-nothing traffic assignment by assigning the origin-destination (OD) trips to their shortest paths. The example road network is based on the streets in North Berkeley. The network data is represented by `nodes_df` and `links_df` (`df` means the variable is a dataframe). The OD pairs (`od_df`) is also provided to you, where the origins are places in the Berkeley Hills aea and the destination is a virtual location in downtown Berkeley. You will be using a shortest path function provided to you to compute the shortest path between each OD pair. Your final task is to generate a csv file containing the number of traffic volume on each link. You should name this file `quiz4_yourname.csv` and submit it\n",
        "\n",
        "**You don't need to change the code unless you see ###YOUR CODE/NAME HERE###**. But you can change the code if you have better ways of doing it. :)"
      ]
    },
    {
      "cell_type": "markdown",
      "metadata": {
        "id": "7-MTpMP6-x5u"
      },
      "source": [
        "### 2.Download data\n",
        "Run the code block below to download the input data."
      ]
    },
    {
      "cell_type": "code",
      "metadata": {
        "id": "1xisvFAVGdM5"
      },
      "source": [
        "# retrieve the sp code for shortest path calculation\n",
        "!rm -rf sp && mkdir sp\n",
        "!wget \"https://github.com/UCB-CE170a/Fall2021/raw/master/traffic_data/liblsp.so\" -O sp/liblsp.so\n",
        "!wget \"https://raw.githubusercontent.com/UCB-CE170a/Fall2021/master/traffic_data/interface.py\" -O sp/interface.py\n",
        "\n",
        "# retrieve the road network and demand inputs\n",
        "!rm -rf traffic_inputs && mkdir traffic_inputs\n",
        "!wget \"https://raw.githubusercontent.com/UCB-CE170a/Fall2021/master/traffic_data/berkeley_links.csv\" -O traffic_inputs/berkeley_links.csv\n",
        "!wget \"https://raw.githubusercontent.com/UCB-CE170a/Fall2021/master/traffic_data/berkeley_nodes.csv\" -O traffic_inputs/berkeley_nodes.csv\n",
        "!wget \"https://raw.githubusercontent.com/UCB-CE170a/Fall2021/master/traffic_data/od_10pn.csv\" -O traffic_inputs/od_10pn.csv"
      ],
      "execution_count": null,
      "outputs": []
    },
    {
      "cell_type": "markdown",
      "metadata": {
        "id": "xVZqlLa0A3dW"
      },
      "source": [
        "### 3.Import modules\n",
        "Run the code block below to import modules and libraries that will be used in this notebook. We will use the `pandas` library to handle various tabular data (network links, nodes and OD pairs), as well as the `sp` module for shortest path computation."
      ]
    },
    {
      "cell_type": "code",
      "metadata": {
        "id": "B8aVRUmSHF8d"
      },
      "source": [
        "import pandas as pd\n",
        "from sp import interface"
      ],
      "execution_count": null,
      "outputs": []
    },
    {
      "cell_type": "markdown",
      "metadata": {
        "id": "dMWOH7F2BiJ1"
      },
      "source": [
        "### 4.Define functions\n",
        "Run the code block below to execute function definitions. No need to change the code."
      ]
    },
    {
      "cell_type": "code",
      "metadata": {
        "id": "6-n6okr4Bh30"
      },
      "source": [
        "# define a helper function to retrieve and format the shortest path between an origin-destination pair\n",
        "def get_path(origin, destination, endnode2link_dict):\n",
        "    \"\"\"\n",
        "    Retrieving the shortest path between a given origin-destination pair.\n",
        "\n",
        "    Parameters:\n",
        "    origin (int): origin node id\n",
        "    destin (int): destination node id\n",
        "    endnode2link_dict (dict): a dictionary that maps the start and end node to the link id\n",
        "\n",
        "    Returns:\n",
        "    route (list of int): the shortest path, represented by a list of ids of the links that form the path\n",
        "    sp_dist (float): the shortest path distance\n",
        "    \"\"\"\n",
        "    ### retrieve shortest path between the origin and destination nodes using Dijkstra's Algorithm\n",
        "    shortest_path = g.dijkstra(origin, destination)\n",
        "    ### calculate the path distance\n",
        "    shortest_path_distance = shortest_path.distance(destination)\n",
        "\n",
        "    if shortest_path_distance > 1e8:\n",
        "        ### if path does not exist between the origin and destination, it will return a very high distance value\n",
        "        route = []\n",
        "    else:\n",
        "        ### otherwise, a path is found. We will convert them into a list of links, where each element is the id of the link\n",
        "        route = [endnode2link_dict[(start_node_id, end_node_id)] for (start_node_id, end_node_id) in shortest_path.route(destination)]\n",
        "    shortest_path.clear()\n",
        "    \n",
        "    return route, shortest_path_distance\n",
        "\n",
        "# define a function to initiate a dictionary, where the each dictionary key is the road id and the corresponding dictionary value is the traffic volume (set to zero) on that road.\n",
        "def init_traffic_volume_dict(link2endnode_dict):\n",
        "    \"\"\"\n",
        "    Initiate a dictionary containing the traffic volume on each road link.\n",
        "\n",
        "    Parameters:\n",
        "    link2endnode_dict (dict): a dictionary that maps the link id to its start and end node id.\n",
        "\n",
        "    Returns:\n",
        "    traffic_volume_dictionary (dict): a dictionary that maps the link id to its traffic volume. The traffic volume is set to zero since this is an initialization function.\n",
        "    \"\"\"\n",
        "    traffic_volume_dictionary = {}\n",
        "    for link_id in link2endnode_dict.keys():\n",
        "        traffic_volume_dictionary[link_id] = 0\n",
        "    return traffic_volume_dictionary\n",
        "\n",
        "# define a function to populate the road-volume dictionary\n",
        "def update_traffic_volume_dict(traffic_volume_dictionary,route):\n",
        "    \"\"\"\n",
        "    Populate a dictionary containing the traffic volume on each road link.\n",
        "\n",
        "    Parameters:\n",
        "    traffic_volume_dictionary (dict): a dictionary that maps the link id to its traffic volume. This dictionary is updated according to the new route information.\n",
        "    route (list): a list representing a particular shortest path route. Elements in the list are the ids of links along the shorrtest path.\n",
        "\n",
        "    Returns:\n",
        "    traffic_volume_dictionary (dict): a dictionary that maps the link id to its traffic volume.\n",
        "    \"\"\"\n",
        "    for path_link in route:\n",
        "        traffic_volume_dictionary[path_link] += 1\n",
        "    return traffic_volume_dictionary\n",
        "\n",
        "# function to convert road-volume dictionary to a dataframe\n",
        "def convert_tv_dict2df(traffic_volume_dictionary):\n",
        "    \"\"\"\n",
        "    Convert the dictionary of {link_id: link_volume} to a Pandas dataframe.\n",
        "\n",
        "    Parameters:\n",
        "    traffic_volume_dictionary (dict): a dictionary that maps the link id to its traffic volume.\n",
        "\n",
        "    Returns:\n",
        "    traffic_volume_df (dataframe): a dataframe consists of 2 columns and N rows, with N equal to the numbers of links in the network where traffic volume is not zero. Each row is the id and traffic volume of a link.\n",
        "    \"\"\"\n",
        "    valid_link_volume = [(link,volume) for link, volume in traffic_volume_dictionary.items() if volume > 0]\n",
        "    traffic_volume_df = pd.DataFrame(valid_link_volume, columns=['link_id', 'volume'])\n",
        "    return traffic_volume_df"
      ],
      "execution_count": null,
      "outputs": []
    },
    {
      "cell_type": "markdown",
      "metadata": {
        "id": "EV5OUbxBDTEW"
      },
      "source": [
        "### 5.Read in initial data\n"
      ]
    },
    {
      "cell_type": "markdown",
      "metadata": {
        "id": "st_aQt_DDbbo"
      },
      "source": [
        "##### 5.a Read in network nodes and display the first two rows of data"
      ]
    },
    {
      "cell_type": "code",
      "metadata": {
        "id": "6ouIVjn_Dc2j"
      },
      "source": [
        "# read network nodes\n",
        "nodes_df = pd.read_csv('traffic_inputs/berkeley_nodes.csv')\n",
        "display(nodes_df.head(2))"
      ],
      "execution_count": null,
      "outputs": []
    },
    {
      "cell_type": "markdown",
      "metadata": {
        "id": "T00Qvu6fDpjW"
      },
      "source": [
        "##### 5.b Read in network links and display the first two rows of data"
      ]
    },
    {
      "cell_type": "code",
      "metadata": {
        "id": "hcw0CWzyDY6V"
      },
      "source": [
        "# read network links\n",
        "links_df = pd.read_csv('traffic_inputs/berkeley_links.csv')\n",
        "display(links_df.head(2))"
      ],
      "execution_count": null,
      "outputs": []
    },
    {
      "cell_type": "markdown",
      "metadata": {
        "id": "_Y6vyPP1Ds8Z"
      },
      "source": [
        "##### 5.c Read the OD-pairs and display the first two rows of data"
      ]
    },
    {
      "cell_type": "code",
      "metadata": {
        "id": "fcrb2hBkDgAA"
      },
      "source": [
        "# read travel demand (OD-pairs)\n",
        "od_df = pd.read_csv('traffic_inputs/od_10pn.csv')\n",
        "display(od_df.head(2))"
      ],
      "execution_count": null,
      "outputs": []
    },
    {
      "cell_type": "markdown",
      "metadata": {
        "id": "Ci1sji2DDxDA"
      },
      "source": [
        "### 6.Construct a graph object and lookup dictionaries based on the network input data\n"
      ]
    },
    {
      "cell_type": "code",
      "metadata": {
        "id": "pvxpPNxVEHg2"
      },
      "source": [
        "# make road network graph, which we need to run the shortest path calculation\n",
        "# the `interface.from_dataframe()` in the `sp` module constructs a graph based on a dataframe of network links\n",
        "# the arguments to `interface.from_dataframe()` are: name of the network links dataframe, the column that contains the start node id of the link, the column that contains the end node id of the link and the weight column\n",
        "# we use `fft` as the weight, which is short for `free flow travel time`\n",
        "# for more information on the `sp` module, please refer to https://github.com/cb-cities/sp/tree/dataframe\n",
        "g = interface.from_dataframe(links_df, 'start_node_id', 'end_node_id', 'fft')"
      ],
      "execution_count": null,
      "outputs": []
    },
    {
      "cell_type": "code",
      "metadata": {
        "id": "YOBSDqHgHL9V"
      },
      "source": [
        "# create dictionaries between node_id and link_id for quick lookup\n",
        "endnode2link_dict = {(getattr(link, 'start_node_id'), getattr(link, 'end_node_id')): getattr(link, 'link_id') for link in links_df.itertuples()}\n",
        "link2endnode_dict = {getattr(link, 'link_id'): (getattr(link, 'start_node_id'), getattr(link, 'end_node_id')) for link in links_df.itertuples()}"
      ],
      "execution_count": null,
      "outputs": []
    },
    {
      "cell_type": "markdown",
      "metadata": {
        "id": "5Hi7S0QQI6J0"
      },
      "source": [
        "### 7.Path calculation example\n",
        "Below is an example of computing the shortest path for one od pair, e.g., the path from node 214 to node 237.\n",
        "\n",
        "- The `get_path()` function takes the input returns: (1) the shortest path between each od pair as a list, and (2) the shortest path distance. In the first return value, each list element denotes a road link by its id. For instance, in the example here, the path from node 214 and node 237 is `[539, 60, 72, 220, 52, 61, 180, 200, 202, 8, 816]`. Its first element `539` denotes a road link that connects node 214 and node 216.\n",
        "- The `traffic_volume_dictionary` is a dictionary-type variable that we use to count the traffic volume on each link. This dictionary's keys are road ids and values are number of trips (i.e., traffic volumes) that use each link. Since the dictionary is initiated to be empty, we use a `try ... except ...` block to update it. If `try ...` fails, it means that the particular road link id has not been added to the dictionary yet, so we will move on to the `except ...` clause and create a new key in the dictionary corresponding to the link id."
      ]
    },
    {
      "cell_type": "code",
      "metadata": {
        "id": "C72sURTmHzy1"
      },
      "source": [
        "### example of path calculation\n",
        "origin = 214      ### the origin node id of a trip\n",
        "destination = 237     ### the end node id of a trip\n",
        "route, distance = get_path(origin, destination, endnode2link_dict) ### get the shortest path between the origin and destination of the trip\n",
        "print('The shortest path between {} and {} is {}'.format(origin, destination, route))\n",
        "print('The path/route object is a {}, the first elment is {}'.format(type(route), route[0]))\n",
        "print('The trip travel time is {:.2f} minutes.\\n'.format(distance/60))\n",
        "\n",
        "### example of traffic volume calculation\n",
        "traffic_volume_dictionary = init_traffic_volume_dict(link2endnode_dict)\n",
        "traffic_volume_dictionary = update_traffic_volume_dict(traffic_volume_dictionary, route)\n",
        "\n",
        "print( 'Link {}, connecting node {} and {}, has {} trip(s) passed through it (so far)'.format( \n",
        "    539, link2endnode_dict[539][0], link2endnode_dict[539][1], traffic_volume_dictionary[539] ) )\n",
        "\n",
        "### example of converting dictionary to dataframe that contains traffic volume for each road link\n",
        "traffic_volume_df = convert_tv_dict2df(traffic_volume_dictionary)\n",
        "traffic_volume_df.tail()"
      ],
      "execution_count": null,
      "outputs": []
    },
    {
      "cell_type": "markdown",
      "metadata": {
        "id": "EXhapYZyJPNR"
      },
      "source": [
        "### 8.Your tasks: compute shortest paths between all OD pairs and get traffic volume\n",
        "Given the inputs (`links_df`, `nodes_df`, `od_df`, `g`, and the `get_path` fuction),\n",
        "- Task 1: calculate the path for each od pair\n",
        "- Task 2: compute the number of trips that pass each link (i.e., traffic volume on this link)\n",
        "- Task 3: save the result of Task 2 in a CSV file `quiz4_[your_name].csv`. The file should look like:\n",
        "\n",
        "| link_id | volume      |\n",
        "|---------|-------------|\n",
        "| 0       | ...         |\n",
        "| 1       | ...         |\n",
        "| ...     | ...         |\n",
        "\n",
        "Hints:\n",
        "- Task 1: Loop through each `od` pair and use the `get_path()` function in the code block above to compute the path for each od pair. The `get_path()` function is reusable, so you just need to call it and no need to define it every time you compute the path.\n",
        "- Task 2: Initiate an empty `traffic_volume_dictionary` outside of the loop that iterates through each od pair. The key of the dictionary should be link_id (e.g., `539`), and the value corresponding to each key denotes the traffic volume on this link. For each shortest path result, update the `traffic_volume_dictionary` using the `update_traffic_volume_dict()` function.\n",
        "- Beware that links are directed, meaning that link with end nodes `(214, 216)` is different from link whose end nodes are `(216, 214)`.\n",
        "- **The method in the hints above are not the most efficient. It is just one way to complete the tasks. If you are comfortable of other ways, e.g., using Pandas groupby and merge functions, please choose a method that works the best for you.**"
      ]
    },
    {
      "cell_type": "code",
      "metadata": {
        "id": "F86akapxFYFT"
      },
      "source": [
        "# Task 1\n",
        "### iterate through each OD-pair, compute the shortest path and append the route to collections of all routes (the `routes` variable)\n",
        "origins = od_df['origin_node_id']\n",
        "destinations = od_df['destin_node_id']\n",
        "\n",
        "routes = []\n",
        "for origin, destination in zip(origins,destinations):\n",
        "  ### YOUR CODE HERE ###"
      ],
      "execution_count": null,
      "outputs": []
    },
    {
      "cell_type": "code",
      "metadata": {
        "id": "U2C5tGmHFfNb"
      },
      "source": [
        "# Task 2\n",
        "### initate dictionary holding the traffic volume for each road link\n",
        "traffic_volume_dictionary = ### YOUR CODE HERE ###\n",
        "\n",
        "### update the dictionary with each shortest path computed in the task above\n",
        "for route in routes:\n",
        "  ### YOUR CODE HERE ###"
      ],
      "execution_count": null,
      "outputs": []
    },
    {
      "cell_type": "code",
      "metadata": {
        "id": "OiLy4xW2Izbh"
      },
      "source": [
        "# Task 3\n",
        "### create a dataframe that counts the traffic volume on each road link under the given travel demand\n",
        "### name the output file as \"quiz3_[your_name].csv\"\n",
        "\n",
        "traffic_volume_df =         ### YOUR CODE HERE ###\n",
        "your_name = 'tester'        ### YOUR NAME HERE avoid space ### \n",
        "traffic_volume_df.to_csv('quiz4_{}.csv'.format(your_name), index=False)"
      ],
      "execution_count": null,
      "outputs": []
    }
  ]
}