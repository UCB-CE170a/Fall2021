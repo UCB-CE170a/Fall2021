{
 "cells": [
  {
   "cell_type": "markdown",
   "metadata": {},
   "source": [
    "### 1.Download input files and required modules"
   ]
  },
  {
   "cell_type": "code",
   "execution_count": 1,
   "metadata": {},
   "outputs": [
    {
     "name": "stdout",
     "output_type": "stream",
     "text": [
      "--2022-06-23 10:19:30--  https://raw.githubusercontent.com/UCB-CE170a/Fall2021/master/traffic_data/berkeley_links.csv\n",
      "Resolving raw.githubusercontent.com (raw.githubusercontent.com)... 185.199.109.133, 185.199.111.133, 185.199.108.133, ...\n",
      "Connecting to raw.githubusercontent.com (raw.githubusercontent.com)|185.199.109.133|:443... connected.\n",
      "HTTP request sent, awaiting response... 200 OK\n",
      "Length: 337627 (330K) [text/plain]\n",
      "Saving to: ‘traffic_inputs/berkeley_links.csv’\n",
      "\n",
      "traffic_inputs/berk 100%[===================>] 329.71K  --.-KB/s    in 0.08s   \n",
      "\n",
      "2022-06-23 10:19:30 (4.14 MB/s) - ‘traffic_inputs/berkeley_links.csv’ saved [337627/337627]\n",
      "\n",
      "--2022-06-23 10:19:30--  https://raw.githubusercontent.com/UCB-CE170a/Fall2021/master/traffic_data/berkeley_nodes.csv\n",
      "Resolving raw.githubusercontent.com (raw.githubusercontent.com)... 185.199.109.133, 185.199.111.133, 185.199.108.133, ...\n",
      "Connecting to raw.githubusercontent.com (raw.githubusercontent.com)|185.199.109.133|:443... connected.\n",
      "HTTP request sent, awaiting response... 200 OK\n",
      "Length: 10824 (11K) [text/plain]\n",
      "Saving to: ‘traffic_inputs/berkeley_nodes.csv’\n",
      "\n",
      "traffic_inputs/berk 100%[===================>]  10.57K  --.-KB/s    in 0.002s  \n",
      "\n",
      "2022-06-23 10:19:31 (4.16 MB/s) - ‘traffic_inputs/berkeley_nodes.csv’ saved [10824/10824]\n",
      "\n",
      "--2022-06-23 10:19:31--  https://raw.githubusercontent.com/UCB-CE170a/Fall2021/master/traffic_data/day_time_od.csv\n",
      "Resolving raw.githubusercontent.com (raw.githubusercontent.com)... 185.199.109.133, 185.199.111.133, 185.199.108.133, ...\n",
      "Connecting to raw.githubusercontent.com (raw.githubusercontent.com)|185.199.109.133|:443... connected.\n",
      "HTTP request sent, awaiting response... 200 OK\n",
      "Length: 98808 (96K) [text/plain]\n",
      "Saving to: ‘traffic_inputs/day_time_od.csv’\n",
      "\n",
      "traffic_inputs/day_ 100%[===================>]  96.49K  --.-KB/s    in 0.03s   \n",
      "\n",
      "2022-06-23 10:19:32 (3.74 MB/s) - ‘traffic_inputs/day_time_od.csv’ saved [98808/98808]\n",
      "\n",
      "--2022-06-23 10:19:32--  https://raw.githubusercontent.com/UCB-CE170a/Fall2021/master/traffic_data/night_time_od.csv\n",
      "Resolving raw.githubusercontent.com (raw.githubusercontent.com)... 185.199.109.133, 185.199.111.133, 185.199.108.133, ...\n",
      "Connecting to raw.githubusercontent.com (raw.githubusercontent.com)|185.199.109.133|:443... connected.\n",
      "HTTP request sent, awaiting response... 200 OK\n",
      "Length: 148844 (145K) [text/plain]\n",
      "Saving to: ‘traffic_inputs/night_time_od.csv’\n",
      "\n",
      "traffic_inputs/nigh 100%[===================>] 145.36K   716KB/s    in 0.2s    \n",
      "\n",
      "2022-06-23 10:19:34 (716 KB/s) - ‘traffic_inputs/night_time_od.csv’ saved [148844/148844]\n",
      "\n"
     ]
    }
   ],
   "source": [
    "# retrieve the road network\n",
    "!rm -rf traffic_inputs && mkdir traffic_inputs\n",
    "!wget \"https://raw.githubusercontent.com/UCB-CE170a/Fall2021/master/traffic_data/berkeley_links.csv\" -O traffic_inputs/berkeley_links.csv\n",
    "!wget \"https://raw.githubusercontent.com/UCB-CE170a/Fall2021/master/traffic_data/berkeley_nodes.csv\" -O traffic_inputs/berkeley_nodes.csv\n",
    "!wget \"https://raw.githubusercontent.com/UCB-CE170a/Fall2021/master/traffic_data/day_time_od.csv\" -O traffic_inputs/day_time_od.csv\n",
    "!wget \"https://raw.githubusercontent.com/UCB-CE170a/Fall2021/master/traffic_data/night_time_od.csv\" -O traffic_inputs/night_time_od.csv\n",
    "\n",
    "# create output directory\n",
    "!rm -rf traffic_outputs\n",
    "!mkdir -p traffic_outputs\n",
    "!mkdir -p traffic_outputs/t_stats\n",
    "!mkdir -p traffic_outputs/node_stats\n",
    "!mkdir -p traffic_outputs/link_stats"
   ]
  },
  {
   "cell_type": "code",
   "execution_count": 27,
   "metadata": {},
   "outputs": [],
   "source": [
    "import sys\n",
    "import os\n",
    "\n",
    "sys.path.append(os.path.abspath('../src/sim_package'))\n",
    "sys.path.append('../src/sim_package')\n",
    "\n",
    "\n"
   ]
  },
  {
   "cell_type": "code",
   "execution_count": 28,
   "metadata": {},
   "outputs": [
    {
     "ename": "ImportError",
     "evalue": "attempted relative import with no known parent package",
     "output_type": "error",
     "traceback": [
      "\u001b[0;31m---------------------------------------------------------------------------\u001b[0m",
      "\u001b[0;31mImportError\u001b[0m                               Traceback (most recent call last)",
      "Input \u001b[0;32mIn [28]\u001b[0m, in \u001b[0;36m<cell line: 1>\u001b[0;34m()\u001b[0m\n\u001b[0;32m----> 1\u001b[0m \u001b[38;5;28;01mfrom\u001b[39;00m \u001b[38;5;21;01mrunner\u001b[39;00m \u001b[38;5;28;01mimport\u001b[39;00m Runner\n\u001b[1;32m      3\u001b[0m runner \u001b[38;5;241m=\u001b[39m Runner(nodes_csv\u001b[38;5;241m=\u001b[39m\u001b[38;5;124m'\u001b[39m\u001b[38;5;124mtraffic_inputs/berkeley_nodes.csv\u001b[39m\u001b[38;5;124m'\u001b[39m,\n\u001b[1;32m      4\u001b[0m   links_csv\u001b[38;5;241m=\u001b[39m\u001b[38;5;124m'\u001b[39m\u001b[38;5;124mtraffic_inputs/berkeley_links.csv\u001b[39m\u001b[38;5;124m'\u001b[39m,\n\u001b[1;32m      5\u001b[0m   od_csv\u001b[38;5;241m=\u001b[39m\u001b[38;5;124mf\u001b[39m\u001b[38;5;124m'\u001b[39m\u001b[38;5;124mtraffic_inputs/\u001b[39m\u001b[38;5;132;01m{\u001b[39;00m\u001b[38;5;124m\"\u001b[39m\u001b[38;5;124mday_time\u001b[39m\u001b[38;5;124m\"\u001b[39m \u001b[38;5;129;01mor\u001b[39;00m \u001b[38;5;124m\"\u001b[39m\u001b[38;5;124mnight_time\u001b[39m\u001b[38;5;124m\"\u001b[39m\u001b[38;5;132;01m}\u001b[39;00m\u001b[38;5;124m_od.csv\u001b[39m\u001b[38;5;124m'\u001b[39m)\n\u001b[1;32m      7\u001b[0m runner\u001b[38;5;241m.\u001b[39minit_sq_simulation()\n",
      "File \u001b[0;32m~/research/berkeley/BerkeleyTrafficSimPATH/sim_package/examples/../src/sim_package/runner.py:1\u001b[0m, in \u001b[0;36m<module>\u001b[0;34m\u001b[0m\n\u001b[0;32m----> 1\u001b[0m \u001b[38;5;28;01mfrom\u001b[39;00m \u001b[38;5;21;01m.\u001b[39;00m\u001b[38;5;21;01mqueue_model\u001b[39;00m \u001b[38;5;28;01mimport\u001b[39;00m Simulation, Node, Link\n\u001b[1;32m      2\u001b[0m \u001b[38;5;28;01mimport\u001b[39;00m \u001b[38;5;21;01mpandas\u001b[39;00m \u001b[38;5;28;01mas\u001b[39;00m \u001b[38;5;21;01mpd\u001b[39;00m\n\u001b[1;32m      3\u001b[0m \u001b[38;5;28;01mimport\u001b[39;00m \u001b[38;5;21;01mnumpy\u001b[39;00m \u001b[38;5;28;01mas\u001b[39;00m \u001b[38;5;21;01mnp\u001b[39;00m\n",
      "\u001b[0;31mImportError\u001b[0m: attempted relative import with no known parent package"
     ]
    }
   ],
   "source": [
    "from runner import Runner\n",
    "\n",
    "runner = Runner(nodes_csv='traffic_inputs/berkeley_nodes.csv',\n",
    "  links_csv='traffic_inputs/berkeley_links.csv',\n",
    "  od_csv=f'traffic_inputs/{\"day_time\" or \"night_time\"}_od.csv')\n",
    "\n",
    "runner.init_sq_simulation()"
   ]
  },
  {
   "cell_type": "code",
   "execution_count": 3,
   "metadata": {},
   "outputs": [
    {
     "ename": "ModuleNotFoundError",
     "evalue": "No module named 'sim_package'",
     "output_type": "error",
     "traceback": [
      "\u001b[0;31m---------------------------------------------------------------------------\u001b[0m",
      "\u001b[0;31mModuleNotFoundError\u001b[0m                       Traceback (most recent call last)",
      "Input \u001b[0;32mIn [3]\u001b[0m, in \u001b[0;36m<cell line: 1>\u001b[0;34m()\u001b[0m\n\u001b[0;32m----> 1\u001b[0m \u001b[38;5;28;01mfrom\u001b[39;00m \u001b[38;5;21;01msim_package\u001b[39;00m \u001b[38;5;28;01mimport\u001b[39;00m Runner\n\u001b[1;32m      3\u001b[0m runner \u001b[38;5;241m=\u001b[39m Runner(nodes_csv\u001b[38;5;241m=\u001b[39m\u001b[38;5;124m'\u001b[39m\u001b[38;5;124mtraffic_inputs/berkeley_nodes.csv\u001b[39m\u001b[38;5;124m'\u001b[39m,\n\u001b[1;32m      4\u001b[0m   links_csv\u001b[38;5;241m=\u001b[39m\u001b[38;5;124m'\u001b[39m\u001b[38;5;124mtraffic_inputs/berkeley_links.csv\u001b[39m\u001b[38;5;124m'\u001b[39m,\n\u001b[1;32m      5\u001b[0m   od_csv\u001b[38;5;241m=\u001b[39m\u001b[38;5;124mf\u001b[39m\u001b[38;5;124m'\u001b[39m\u001b[38;5;124mtraffic_inputs/\u001b[39m\u001b[38;5;132;01m{\u001b[39;00m\u001b[38;5;124m\"\u001b[39m\u001b[38;5;124mday_time\u001b[39m\u001b[38;5;124m\"\u001b[39m \u001b[38;5;129;01mor\u001b[39;00m \u001b[38;5;124m\"\u001b[39m\u001b[38;5;124mnight_time\u001b[39m\u001b[38;5;124m\"\u001b[39m\u001b[38;5;132;01m}\u001b[39;00m\u001b[38;5;124m_od.csv\u001b[39m\u001b[38;5;124m'\u001b[39m)\n\u001b[1;32m      7\u001b[0m runner\u001b[38;5;241m.\u001b[39minit_sq_simulation()\n",
      "\u001b[0;31mModuleNotFoundError\u001b[0m: No module named 'sim_package'"
     ]
    }
   ],
   "source": [
    "from sim_package import Runner\n",
    "\n",
    "runner = Runner(nodes_csv='traffic_inputs/berkeley_nodes.csv',\n",
    "  links_csv='traffic_inputs/berkeley_links.csv',\n",
    "  od_csv=f'traffic_inputs/{\"day_time\" or \"night_time\"}_od.csv')\n",
    "\n",
    "runner.init_sq_simulation()"
   ]
  },
  {
   "cell_type": "code",
   "execution_count": null,
   "metadata": {},
   "outputs": [],
   "source": [
    "# run sim\n",
    "runner.spatial_queue_simulation('berkeley-evac')"
   ]
  }
 ],
 "metadata": {
  "interpreter": {
   "hash": "9421eb83c0f68887883ca3bee1947de1cc88360c97f7639049df6866fb5d5f2b"
  },
  "kernelspec": {
   "display_name": "Python 3 (ipykernel)",
   "language": "python",
   "name": "python3"
  },
  "language_info": {
   "codemirror_mode": {
    "name": "ipython",
    "version": 3
   },
   "file_extension": ".py",
   "mimetype": "text/x-python",
   "name": "python",
   "nbconvert_exporter": "python",
   "pygments_lexer": "ipython3",
   "version": "3.9.13"
  }
 },
 "nbformat": 4,
 "nbformat_minor": 2
}
