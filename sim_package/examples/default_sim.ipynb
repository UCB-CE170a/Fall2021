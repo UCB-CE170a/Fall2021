{
 "cells": [
  {
   "cell_type": "markdown",
   "metadata": {},
   "source": [
    "### 1.Download input files and required modules"
   ]
  },
  {
   "cell_type": "code",
   "execution_count": null,
   "metadata": {},
   "outputs": [],
   "source": [
    "!rm -rf sp && mkdir sp\n",
    "!wget \"https://github.com/UCB-CE170a/Fall2021/raw/master/traffic_data/liblsp.so\" -O sp/liblsp.so\n",
    "!wget \"https://raw.githubusercontent.com/UCB-CE170a/Fall2021/master/traffic_data/interface.py\" -O sp/interface.py\n",
    "\n",
    "# retrieve the spatial queue model\n",
    "!wget \"https://raw.githubusercontent.com/UCB-CE170a/Fall2021/master/traffic_data/queue_model.py\" -O queue_model.py\n",
    "\n",
    "# retrieve the road network\n",
    "!rm -rf traffic_inputs && mkdir traffic_inputs\n",
    "!wget \"https://raw.githubusercontent.com/UCB-CE170a/Fall2021/master/traffic_data/berkeley_links.csv\" -O traffic_inputs/berkeley_links.csv\n",
    "!wget \"https://raw.githubusercontent.com/UCB-CE170a/Fall2021/master/traffic_data/berkeley_nodes.csv\" -O traffic_inputs/berkeley_nodes.csv\n",
    "!wget \"https://raw.githubusercontent.com/UCB-CE170a/Fall2021/master/traffic_data/day_time_od.csv\" -O traffic_inputs/day_time_od.csv\n",
    "!wget \"https://raw.githubusercontent.com/UCB-CE170a/Fall2021/master/traffic_data/night_time_od.csv\" -O traffic_inputs/night_time_od.csv\n",
    "\n",
    "# create output directory\n",
    "!rm -rf traffic_outputs\n",
    "!mkdir -p traffic_outputs\n",
    "!mkdir -p traffic_outputs/t_stats\n",
    "!mkdir -p traffic_outputs/node_stats\n",
    "!mkdir -p traffic_outputs/link_stats"
   ]
  },
  {
   "cell_type": "code",
   "execution_count": null,
   "metadata": {},
   "outputs": [],
   "source": [
    "!pip install -i https://test.pypi.org/simple/ TrafficSimPATH"
   ]
  },
  {
   "cell_type": "code",
   "execution_count": null,
   "metadata": {},
   "outputs": [],
   "source": [
    "from sim_package import Runner\n",
    "\n",
    "runner = Runner(nodes_csv='traffic_inputs/berkeley_nodes.csv',\n",
    "  links_csv='traffic_inputs/berkeley_links.csv',\n",
    "  od_csv=f'traffic_inputs/{\"day_time\" or \"night_time\"}_od.csv')\n",
    "\n",
    "runner.init_sq_simulation()"
   ]
  },
  {
   "cell_type": "code",
   "execution_count": null,
   "metadata": {},
   "outputs": [],
   "source": [
    "# run sim\n",
    "runner.spatial_queue_simulation('berkeley-evac')"
   ]
  }
 ],
 "metadata": {
  "language_info": {
   "name": "python"
  },
  "orig_nbformat": 4
 },
 "nbformat": 4,
 "nbformat_minor": 2
}
