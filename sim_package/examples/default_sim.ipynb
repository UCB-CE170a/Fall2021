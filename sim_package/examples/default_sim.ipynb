{
 "cells": [
  {
   "cell_type": "markdown",
   "metadata": {},
   "source": [
    "### 1.Download input files and required modules"
   ]
  },
  {
   "cell_type": "code",
   "execution_count": null,
   "metadata": {},
   "outputs": [
    {
     "ename": "",
     "evalue": "",
     "output_type": "error",
     "traceback": [
      "\u001b[1;31mFailed to start the Kernel. \n",
      "Kernel path (Python 3.9.10) is not usable. Check the Jupyter output tab for more information. \n",
      "View Jupyter <a href='command:jupyter.viewOutput'>log</a> for further details."
     ]
    }
   ],
   "source": [
    "# retrieve the road network\n",
    "!rm -rf traffic_inputs && mkdir traffic_inputs\n",
    "!wget \"https://raw.githubusercontent.com/UCB-CE170a/Fall2021/master/traffic_data/berkeley_links.csv\" -O traffic_inputs/berkeley_links.csv\n",
    "!wget \"https://raw.githubusercontent.com/UCB-CE170a/Fall2021/master/traffic_data/berkeley_nodes.csv\" -O traffic_inputs/berkeley_nodes.csv\n",
    "!wget \"https://raw.githubusercontent.com/UCB-CE170a/Fall2021/master/traffic_data/day_time_od.csv\" -O traffic_inputs/day_time_od.csv\n",
    "!wget \"https://raw.githubusercontent.com/UCB-CE170a/Fall2021/master/traffic_data/night_time_od.csv\" -O traffic_inputs/night_time_od.csv\n",
    "\n",
    "# create output directory\n",
    "!rm -rf traffic_outputs\n",
    "!mkdir -p traffic_outputs\n",
    "!mkdir -p traffic_outputs/t_stats\n",
    "!mkdir -p traffic_outputs/node_stats\n",
    "!mkdir -p traffic_outputs/link_stats"
   ]
  },
  {
   "cell_type": "code",
   "execution_count": null,
   "metadata": {},
   "outputs": [],
   "source": [
    "import sys\n",
    "import os\n",
    "\n",
    "sys.path.append(os.path.abspath('../src/sim_package'))"
   ]
  },
  {
   "cell_type": "code",
   "execution_count": null,
   "metadata": {},
   "outputs": [],
   "source": [
    "from sim_package import Runner\n",
    "\n",
    "runner = Runner(nodes_csv='traffic_inputs/berkeley_nodes.csv',\n",
    "  links_csv='traffic_inputs/berkeley_links.csv',\n",
    "  od_csv=f'traffic_inputs/{\"day_time\" or \"night_time\"}_od.csv')\n",
    "\n",
    "runner.init_sq_simulation()"
   ]
  },
  {
   "cell_type": "code",
   "execution_count": null,
   "metadata": {},
   "outputs": [],
   "source": [
    "# run sim\n",
    "runner.spatial_queue_simulation('berkeley-evac')"
   ]
  }
 ],
 "metadata": {
  "interpreter": {
   "hash": "9421eb83c0f68887883ca3bee1947de1cc88360c97f7639049df6866fb5d5f2b"
  },
  "kernelspec": {
   "display_name": "Python 3.9.10 ('path')",
   "language": "python",
   "name": "python3"
  },
  "language_info": {
   "name": "python",
   "version": "3.9.10"
  },
  "orig_nbformat": 4
 },
 "nbformat": 4,
 "nbformat_minor": 2
}
