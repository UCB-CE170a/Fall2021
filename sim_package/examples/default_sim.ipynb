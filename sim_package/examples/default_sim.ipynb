{
 "cells": [
  {
   "cell_type": "markdown",
   "metadata": {},
   "source": [
    "### 1.Download input files and required modules"
   ]
  },
  {
   "cell_type": "code",
   "execution_count": 10,
   "metadata": {},
   "outputs": [
    {
     "name": "stdout",
     "output_type": "stream",
     "text": [
      "--2022-06-30 10:57:06--  https://raw.githubusercontent.com/UCB-CE170a/Fall2021/master/traffic_data/berkeley_links.csv\n",
      "Resolving raw.githubusercontent.com (raw.githubusercontent.com)... 185.199.108.133, 185.199.109.133, 185.199.110.133, ...\n",
      "Connecting to raw.githubusercontent.com (raw.githubusercontent.com)|185.199.108.133|:443... connected.\n",
      "HTTP request sent, awaiting response... 200 OK\n",
      "Length: 337627 (330K) [text/plain]\n",
      "Saving to: ‘traffic_inputs/berkeley_links.csv’\n",
      "\n",
      "traffic_inputs/berk 100%[===================>] 329.71K   423KB/s    in 0.8s    \n",
      "\n",
      "2022-06-30 10:57:07 (423 KB/s) - ‘traffic_inputs/berkeley_links.csv’ saved [337627/337627]\n",
      "\n",
      "--2022-06-30 10:57:08--  https://raw.githubusercontent.com/UCB-CE170a/Fall2021/master/traffic_data/berkeley_nodes.csv\n",
      "Resolving raw.githubusercontent.com (raw.githubusercontent.com)... 185.199.108.133, 185.199.109.133, 185.199.110.133, ...\n",
      "Connecting to raw.githubusercontent.com (raw.githubusercontent.com)|185.199.108.133|:443... connected.\n",
      "HTTP request sent, awaiting response... 200 OK\n",
      "Length: 10824 (11K) [text/plain]\n",
      "Saving to: ‘traffic_inputs/berkeley_nodes.csv’\n",
      "\n",
      "traffic_inputs/berk 100%[===================>]  10.57K  --.-KB/s    in 0.003s  \n",
      "\n",
      "2022-06-30 10:57:08 (3.94 MB/s) - ‘traffic_inputs/berkeley_nodes.csv’ saved [10824/10824]\n",
      "\n",
      "--2022-06-30 10:57:08--  https://raw.githubusercontent.com/UCB-CE170a/Fall2021/master/traffic_data/day_time_od.csv\n",
      "Resolving raw.githubusercontent.com (raw.githubusercontent.com)... 185.199.108.133, 185.199.109.133, 185.199.110.133, ...\n",
      "Connecting to raw.githubusercontent.com (raw.githubusercontent.com)|185.199.108.133|:443... connected.\n",
      "HTTP request sent, awaiting response... 200 OK\n",
      "Length: 98808 (96K) [text/plain]\n",
      "Saving to: ‘traffic_inputs/day_time_od.csv’\n",
      "\n",
      "traffic_inputs/day_ 100%[===================>]  96.49K  --.-KB/s    in 0.08s   \n",
      "\n",
      "2022-06-30 10:57:09 (1.25 MB/s) - ‘traffic_inputs/day_time_od.csv’ saved [98808/98808]\n",
      "\n",
      "--2022-06-30 10:57:10--  https://raw.githubusercontent.com/UCB-CE170a/Fall2021/master/traffic_data/night_time_od.csv\n",
      "Resolving raw.githubusercontent.com (raw.githubusercontent.com)... 185.199.108.133, 185.199.109.133, 185.199.110.133, ...\n",
      "Connecting to raw.githubusercontent.com (raw.githubusercontent.com)|185.199.108.133|:443... connected.\n",
      "HTTP request sent, awaiting response... 200 OK\n",
      "Length: 148844 (145K) [text/plain]\n",
      "Saving to: ‘traffic_inputs/night_time_od.csv’\n",
      "\n",
      "traffic_inputs/nigh 100%[===================>] 145.36K  --.-KB/s    in 0.03s   \n",
      "\n",
      "2022-06-30 10:57:10 (4.07 MB/s) - ‘traffic_inputs/night_time_od.csv’ saved [148844/148844]\n",
      "\n"
     ]
    }
   ],
   "source": [
    "# retrieve the road network\n",
    "!rm -rf traffic_inputs && mkdir traffic_inputs\n",
    "!wget \"https://raw.githubusercontent.com/UCB-CE170a/Fall2021/master/traffic_data/berkeley_links.csv\" -O traffic_inputs/berkeley_links.csv\n",
    "!wget \"https://raw.githubusercontent.com/UCB-CE170a/Fall2021/master/traffic_data/berkeley_nodes.csv\" -O traffic_inputs/berkeley_nodes.csv\n",
    "!wget \"https://raw.githubusercontent.com/UCB-CE170a/Fall2021/master/traffic_data/day_time_od.csv\" -O traffic_inputs/day_time_od.csv\n",
    "!wget \"https://raw.githubusercontent.com/UCB-CE170a/Fall2021/master/traffic_data/night_time_od.csv\" -O traffic_inputs/night_time_od.csv\n",
    "\n",
    "# create output directory\n",
    "!rm -rf traffic_outputs\n",
    "!mkdir -p traffic_outputs\n",
    "!mkdir -p traffic_outputs/t_stats\n",
    "!mkdir -p traffic_outputs/node_stats\n",
    "!mkdir -p traffic_outputs/link_stats"
   ]
  },
  {
   "cell_type": "code",
   "execution_count": 11,
   "metadata": {},
   "outputs": [],
   "source": [
    "import sys\n",
    "import os\n",
    "sys.path.append(os.path.abspath('../'))"
   ]
  },
  {
   "cell_type": "code",
   "execution_count": 12,
   "metadata": {},
   "outputs": [
    {
     "name": "stdout",
     "output_type": "stream",
     "text": [
      "# o-d pairs whose paths cannot be found: 0\n",
      "# o-d pairs/trips 3947\n"
     ]
    }
   ],
   "source": [
    "from src.sim_package import Runner\n",
    "\n",
    "runner = Runner(nodes_csv='traffic_inputs/berkeley_nodes.csv',\n",
    "  links_csv='traffic_inputs/berkeley_links.csv',\n",
    "  od_csv=f'traffic_inputs/{\"day_time\" or \"night_time\"}_od.csv')\n",
    "\n",
    "runner.init_sq_simulation()"
   ]
  },
  {
   "cell_type": "code",
   "execution_count": 13,
   "metadata": {},
   "outputs": [
    {
     "name": "stdout",
     "output_type": "stream",
     "text": [
      "At 0 seconds, 0.0 evacuees successfully reached the destination\n",
      "At 100 seconds, 75 evacuees successfully reached the destination\n",
      "At 200 seconds, 225 evacuees successfully reached the destination\n",
      "At 300 seconds, 440 evacuees successfully reached the destination\n",
      "At 400 seconds, 624 evacuees successfully reached the destination\n",
      "At 500 seconds, 820 evacuees successfully reached the destination\n",
      "At 600 seconds, 989 evacuees successfully reached the destination\n",
      "At 700 seconds, 1158 evacuees successfully reached the destination\n",
      "At 800 seconds, 1311 evacuees successfully reached the destination\n",
      "At 900 seconds, 1466 evacuees successfully reached the destination\n",
      "At 1000 seconds, 1625 evacuees successfully reached the destination\n",
      "At 1100 seconds, 1787 evacuees successfully reached the destination\n",
      "At 1200 seconds, 1915 evacuees successfully reached the destination\n",
      "At 1300 seconds, 2058 evacuees successfully reached the destination\n",
      "At 1400 seconds, 2194 evacuees successfully reached the destination\n",
      "At 1500 seconds, 2328 evacuees successfully reached the destination\n",
      "At 1600 seconds, 2476 evacuees successfully reached the destination\n",
      "At 1700 seconds, 2611 evacuees successfully reached the destination\n",
      "At 1800 seconds, 2748 evacuees successfully reached the destination\n",
      "At 1900 seconds, 2873 evacuees successfully reached the destination\n",
      "At 2000 seconds, 3014 evacuees successfully reached the destination\n",
      "At 2100 seconds, 3146 evacuees successfully reached the destination\n",
      "At 2200 seconds, 3291 evacuees successfully reached the destination\n",
      "At 2300 seconds, 3424 evacuees successfully reached the destination\n",
      "At 2400 seconds, 3489 evacuees successfully reached the destination\n",
      "At 2500 seconds, 3534 evacuees successfully reached the destination\n",
      "At 2600 seconds, 3586 evacuees successfully reached the destination\n",
      "At 2700 seconds, 3642 evacuees successfully reached the destination\n",
      "At 2800 seconds, 3705 evacuees successfully reached the destination\n"
     ]
    },
    {
     "ename": "KeyboardInterrupt",
     "evalue": "",
     "output_type": "error",
     "traceback": [
      "\u001b[0;31m---------------------------------------------------------------------------\u001b[0m",
      "\u001b[0;31mKeyboardInterrupt\u001b[0m                         Traceback (most recent call last)",
      "Input \u001b[0;32mIn [13]\u001b[0m, in \u001b[0;36m<cell line: 2>\u001b[0;34m()\u001b[0m\n\u001b[1;32m      1\u001b[0m \u001b[38;5;66;03m# run sim\u001b[39;00m\n\u001b[0;32m----> 2\u001b[0m \u001b[43mrunner\u001b[49m\u001b[38;5;241;43m.\u001b[39;49m\u001b[43mspatial_queue_simulation\u001b[49m\u001b[43m(\u001b[49m\u001b[38;5;124;43m'\u001b[39;49m\u001b[38;5;124;43mberkeley-evac\u001b[39;49m\u001b[38;5;124;43m'\u001b[39;49m\u001b[43m)\u001b[49m\n",
      "File \u001b[0;32m~/research/berkeley/BerkeleyTrafficSimPATH/sim_package/src/sim_package/runner.py:88\u001b[0m, in \u001b[0;36mRunner.spatial_queue_simulation\u001b[0;34m(self, scenario_name, t_end, output_dir)\u001b[0m\n\u001b[1;32m     85\u001b[0m \u001b[38;5;66;03m# iterate through each time step\u001b[39;00m\n\u001b[1;32m     86\u001b[0m \u001b[38;5;28;01mfor\u001b[39;00m t \u001b[38;5;129;01min\u001b[39;00m \u001b[38;5;28mrange\u001b[39m(t_end):\n\u001b[1;32m     87\u001b[0m     \u001b[38;5;66;03m# run the spatial-queue simulation for one step\u001b[39;00m\n\u001b[0;32m---> 88\u001b[0m     \u001b[38;5;28;43mself\u001b[39;49m\u001b[38;5;241;43m.\u001b[39;49m\u001b[43msingle_step_sq_sim\u001b[49m\u001b[43m(\u001b[49m\u001b[43mt\u001b[49m\u001b[43m)\u001b[49m\n\u001b[1;32m     90\u001b[0m     \u001b[38;5;66;03m# output time-step results every 100 seconds\u001b[39;00m\n\u001b[1;32m     91\u001b[0m     \u001b[38;5;28;01mif\u001b[39;00m t \u001b[38;5;241m%\u001b[39m \u001b[38;5;241m100\u001b[39m \u001b[38;5;241m==\u001b[39m \u001b[38;5;241m0\u001b[39m \u001b[38;5;129;01mand\u001b[39;00m \u001b[38;5;28mself\u001b[39m\u001b[38;5;241m.\u001b[39marrival_counts(t, arrival_output_path):                    \n",
      "File \u001b[0;32m~/research/berkeley/BerkeleyTrafficSimPATH/sim_package/src/sim_package/runner.py:49\u001b[0m, in \u001b[0;36mRunner.single_step_sq_sim\u001b[0;34m(self, t)\u001b[0m\n\u001b[1;32m     47\u001b[0m \u001b[38;5;66;03m### run link model\u001b[39;00m\n\u001b[1;32m     48\u001b[0m \u001b[38;5;28;01mfor\u001b[39;00m link \u001b[38;5;129;01min\u001b[39;00m \u001b[38;5;28mself\u001b[39m\u001b[38;5;241m.\u001b[39msim\u001b[38;5;241m.\u001b[39mall_links\u001b[38;5;241m.\u001b[39mvalues():\n\u001b[0;32m---> 49\u001b[0m     \u001b[43mlink\u001b[49m\u001b[38;5;241;43m.\u001b[39;49m\u001b[43mrun_link_model\u001b[49m\u001b[43m(\u001b[49m\u001b[43mt\u001b[49m\u001b[43m)\u001b[49m\n\u001b[1;32m     50\u001b[0m \u001b[38;5;66;03m### run node model\u001b[39;00m\n\u001b[1;32m     51\u001b[0m node_ids_to_run \u001b[38;5;241m=\u001b[39m {link\u001b[38;5;241m.\u001b[39mend_nid \u001b[38;5;28;01mfor\u001b[39;00m link \u001b[38;5;129;01min\u001b[39;00m \u001b[38;5;28mself\u001b[39m\u001b[38;5;241m.\u001b[39msim\u001b[38;5;241m.\u001b[39mall_links\u001b[38;5;241m.\u001b[39mvalues() \u001b[38;5;28;01mif\u001b[39;00m \u001b[38;5;28mlen\u001b[39m(link\u001b[38;5;241m.\u001b[39mqueue_veh) \u001b[38;5;241m>\u001b[39m \u001b[38;5;241m0\u001b[39m}\n",
      "File \u001b[0;32m~/research/berkeley/BerkeleyTrafficSimPATH/sim_package/src/sim_package/queue_model.py:199\u001b[0m, in \u001b[0;36mLink.run_link_model\u001b[0;34m(self, t_now)\u001b[0m\n\u001b[1;32m    196\u001b[0m \u001b[38;5;28mself\u001b[39m\u001b[38;5;241m.\u001b[39mrun_veh \u001b[38;5;241m=\u001b[39m [v \u001b[38;5;28;01mfor\u001b[39;00m v \u001b[38;5;129;01min\u001b[39;00m \u001b[38;5;28mself\u001b[39m\u001b[38;5;241m.\u001b[39mrun_veh \u001b[38;5;28;01mif\u001b[39;00m v \u001b[38;5;129;01mnot\u001b[39;00m \u001b[38;5;129;01min\u001b[39;00m \u001b[38;5;28mself\u001b[39m\u001b[38;5;241m.\u001b[39mqueue_veh]\n\u001b[1;32m    197\u001b[0m \u001b[38;5;66;03m# remaining spaces on link for the node model to move vehicles to this link\u001b[39;00m\n\u001b[1;32m    198\u001b[0m \u001b[38;5;28mself\u001b[39m\u001b[38;5;241m.\u001b[39mst_c \u001b[38;5;241m=\u001b[39m \u001b[38;5;28mself\u001b[39m\u001b[38;5;241m.\u001b[39mstore_cap \u001b[38;5;241m-\u001b[39m \\\n\u001b[0;32m--> 199\u001b[0m     \u001b[43mnp\u001b[49m\u001b[38;5;241;43m.\u001b[39;49m\u001b[43msum\u001b[49m\u001b[43m(\u001b[49m\n\u001b[1;32m    200\u001b[0m \u001b[43m        \u001b[49m\u001b[43m[\u001b[49m\u001b[38;5;28;43mself\u001b[39;49m\u001b[38;5;241;43m.\u001b[39;49m\u001b[43msimulation\u001b[49m\u001b[38;5;241;43m.\u001b[39;49m\u001b[43mall_agents\u001b[49m\u001b[43m[\u001b[49m\u001b[43magent_id\u001b[49m\u001b[43m]\u001b[49m\u001b[38;5;241;43m.\u001b[39;49m\u001b[43mveh_len\u001b[49m\u001b[43m \u001b[49m\u001b[38;5;28;43;01mfor\u001b[39;49;00m\u001b[43m \u001b[49m\u001b[43magent_id\u001b[49m\u001b[43m \u001b[49m\u001b[38;5;129;43;01min\u001b[39;49;00m\u001b[43m \u001b[49m\u001b[38;5;28;43mself\u001b[39;49m\u001b[38;5;241;43m.\u001b[39;49m\u001b[43mrun_veh\u001b[49m\u001b[38;5;241;43m+\u001b[39;49m\u001b[38;5;28;43mself\u001b[39;49m\u001b[38;5;241;43m.\u001b[39;49m\u001b[43mqueue_veh\u001b[49m\u001b[43m]\u001b[49m\u001b[43m)\u001b[49m\n\u001b[1;32m    201\u001b[0m \u001b[38;5;28mself\u001b[39m\u001b[38;5;241m.\u001b[39min_c, \u001b[38;5;28mself\u001b[39m\u001b[38;5;241m.\u001b[39mou_c \u001b[38;5;241m=\u001b[39m \u001b[38;5;28mself\u001b[39m\u001b[38;5;241m.\u001b[39mcapacity\u001b[38;5;241m/\u001b[39m\u001b[38;5;241m3600\u001b[39m, \u001b[38;5;28mself\u001b[39m\u001b[38;5;241m.\u001b[39mcapacity\u001b[38;5;241m/\u001b[39m\u001b[38;5;241m3600\u001b[39m\n",
      "File \u001b[0;32m<__array_function__ internals>:180\u001b[0m, in \u001b[0;36msum\u001b[0;34m(*args, **kwargs)\u001b[0m\n",
      "File \u001b[0;32m~/miniforge3/lib/python3.9/site-packages/numpy/core/fromnumeric.py:2298\u001b[0m, in \u001b[0;36msum\u001b[0;34m(a, axis, dtype, out, keepdims, initial, where)\u001b[0m\n\u001b[1;32m   2295\u001b[0m         \u001b[38;5;28;01mreturn\u001b[39;00m out\n\u001b[1;32m   2296\u001b[0m     \u001b[38;5;28;01mreturn\u001b[39;00m res\n\u001b[0;32m-> 2298\u001b[0m \u001b[38;5;28;01mreturn\u001b[39;00m \u001b[43m_wrapreduction\u001b[49m\u001b[43m(\u001b[49m\u001b[43ma\u001b[49m\u001b[43m,\u001b[49m\u001b[43m \u001b[49m\u001b[43mnp\u001b[49m\u001b[38;5;241;43m.\u001b[39;49m\u001b[43madd\u001b[49m\u001b[43m,\u001b[49m\u001b[43m \u001b[49m\u001b[38;5;124;43m'\u001b[39;49m\u001b[38;5;124;43msum\u001b[39;49m\u001b[38;5;124;43m'\u001b[39;49m\u001b[43m,\u001b[49m\u001b[43m \u001b[49m\u001b[43maxis\u001b[49m\u001b[43m,\u001b[49m\u001b[43m \u001b[49m\u001b[43mdtype\u001b[49m\u001b[43m,\u001b[49m\u001b[43m \u001b[49m\u001b[43mout\u001b[49m\u001b[43m,\u001b[49m\u001b[43m \u001b[49m\u001b[43mkeepdims\u001b[49m\u001b[38;5;241;43m=\u001b[39;49m\u001b[43mkeepdims\u001b[49m\u001b[43m,\u001b[49m\n\u001b[1;32m   2299\u001b[0m \u001b[43m                      \u001b[49m\u001b[43minitial\u001b[49m\u001b[38;5;241;43m=\u001b[39;49m\u001b[43minitial\u001b[49m\u001b[43m,\u001b[49m\u001b[43m \u001b[49m\u001b[43mwhere\u001b[49m\u001b[38;5;241;43m=\u001b[39;49m\u001b[43mwhere\u001b[49m\u001b[43m)\u001b[49m\n",
      "File \u001b[0;32m~/miniforge3/lib/python3.9/site-packages/numpy/core/fromnumeric.py:69\u001b[0m, in \u001b[0;36m_wrapreduction\u001b[0;34m(obj, ufunc, method, axis, dtype, out, **kwargs)\u001b[0m\n\u001b[1;32m     58\u001b[0m     \u001b[38;5;28;01mexcept\u001b[39;00m \u001b[38;5;167;01mTypeError\u001b[39;00m:\n\u001b[1;32m     59\u001b[0m         \u001b[38;5;66;03m# A TypeError occurs if the object does have such a method in its\u001b[39;00m\n\u001b[1;32m     60\u001b[0m         \u001b[38;5;66;03m# class, but its signature is not identical to that of NumPy's. This\u001b[39;00m\n\u001b[0;32m   (...)\u001b[0m\n\u001b[1;32m     64\u001b[0m         \u001b[38;5;66;03m# Call _wrapit from within the except clause to ensure a potential\u001b[39;00m\n\u001b[1;32m     65\u001b[0m         \u001b[38;5;66;03m# exception has a traceback chain.\u001b[39;00m\n\u001b[1;32m     66\u001b[0m         \u001b[38;5;28;01mreturn\u001b[39;00m _wrapit(obj, method, \u001b[38;5;241m*\u001b[39margs, \u001b[38;5;241m*\u001b[39m\u001b[38;5;241m*\u001b[39mkwds)\n\u001b[0;32m---> 69\u001b[0m \u001b[38;5;28;01mdef\u001b[39;00m \u001b[38;5;21m_wrapreduction\u001b[39m(obj, ufunc, method, axis, dtype, out, \u001b[38;5;241m*\u001b[39m\u001b[38;5;241m*\u001b[39mkwargs):\n\u001b[1;32m     70\u001b[0m     passkwargs \u001b[38;5;241m=\u001b[39m {k: v \u001b[38;5;28;01mfor\u001b[39;00m k, v \u001b[38;5;129;01min\u001b[39;00m kwargs\u001b[38;5;241m.\u001b[39mitems()\n\u001b[1;32m     71\u001b[0m                   \u001b[38;5;28;01mif\u001b[39;00m v \u001b[38;5;129;01mis\u001b[39;00m \u001b[38;5;129;01mnot\u001b[39;00m np\u001b[38;5;241m.\u001b[39m_NoValue}\n\u001b[1;32m     73\u001b[0m     \u001b[38;5;28;01mif\u001b[39;00m \u001b[38;5;28mtype\u001b[39m(obj) \u001b[38;5;129;01mis\u001b[39;00m \u001b[38;5;129;01mnot\u001b[39;00m mu\u001b[38;5;241m.\u001b[39mndarray:\n",
      "\u001b[0;31mKeyboardInterrupt\u001b[0m: "
     ]
    }
   ],
   "source": [
    "# run sim\n",
    "runner.spatial_queue_simulation('berkeley-evac')"
   ]
  },
  {
   "cell_type": "code",
   "execution_count": null,
   "metadata": {},
   "outputs": [],
   "source": []
  }
 ],
 "metadata": {
  "kernelspec": {
   "display_name": "Python 3 (ipykernel)",
   "language": "python",
   "name": "python3"
  },
  "language_info": {
   "codemirror_mode": {
    "name": "ipython",
    "version": 3
   },
   "file_extension": ".py",
   "mimetype": "text/x-python",
   "name": "python",
   "nbconvert_exporter": "python",
   "pygments_lexer": "ipython3",
   "version": "3.9.10"
  },
  "vscode": {
   "interpreter": {
    "hash": "b0fa6594d8f4cbf19f97940f81e996739fb7646882a419484c72d19e05852a7e"
   }
  }
 },
 "nbformat": 4,
 "nbformat_minor": 4
}
