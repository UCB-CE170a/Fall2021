{
 "cells": [
  {
   "cell_type": "markdown",
   "metadata": {
    "colab_type": "text",
    "id": "EoEAN4SkKqmv"
   },
   "source": [
    "This tutorial is prepared by Prof.Krishna Kuma from UT Austin, modified by Prof. Kenichi Soga, Dr. Bingyu Zhao and Renjie Wu. \n",
    "\n",
    "# Introduction\n",
    "\n",
    "We begin with assignment to variables and familiar mathematical operations.\n",
    "\n",
    "\n",
    "## Objectives\n",
    "\n",
    "- Introduce expressions and basic operators\n",
    "- Introduce operator precedence\n",
    "- Understand variables and assignment\n"
   ]
  },
  {
   "cell_type": "markdown",
   "metadata": {
    "colab_type": "text",
    "id": "Rm_uy53vKqmz"
   },
   "source": [
    "# Evaluating expressions: simple operators\n",
    "\n",
    "We can use Python like a calculator. Consider the simple expression $3 + 8$. We can evaluate and print this by:"
   ]
  },
  {
   "cell_type": "code",
   "execution_count": 1,
   "metadata": {
    "colab": {
     "base_uri": "https://localhost:8080/",
     "height": 34
    },
    "colab_type": "code",
    "id": "wBcnn5YVKqm0",
    "outputId": "c9606d6a-d5b3-466a-97dd-afd779648fbe"
   },
   "outputs": [
    {
     "data": {
      "text/plain": [
       "11"
      ]
     },
     "execution_count": 1,
     "metadata": {
      "tags": []
     },
     "output_type": "execute_result"
    }
   ],
   "source": []
  },
  {
   "cell_type": "markdown",
   "metadata": {
    "colab_type": "text",
    "id": "UgK5t08nKqnj"
   },
   "source": [
    "We can have 'scientific notation' to input the values. For example, the number $8 \\times 10^{-2}$ can be input as `0.08` or `8e-2`. We can easily verify that the two are the same via subtraction:"
   ]
  },
  {
   "cell_type": "code",
   "execution_count": null,
   "metadata": {
    "colab": {},
    "colab_type": "code",
    "id": "u4l7QQYbKqnk"
   },
   "outputs": [],
   "source": []
  },
  {
   "cell_type": "markdown",
   "metadata": {
    "colab_type": "text",
    "id": "yP64nMomKqnS"
   },
   "source": [
    "Another simple calculation is the gravitational potential $V$ of a body of mass $m$ (point mass) at a distance $r$ from a body of mass $M$, which is given by\n",
    "\n",
    "$$\n",
    "V = \\frac{G M m}{r}\n",
    "$$\n",
    "\n",
    "where $G$ is the *gravitational constant*. A good approximation is $G = 6.674 \\times 10^{-11}$ N m$^{2}$ kg$^{-2}$.\n",
    "\n",
    "For the case $M = 1.65 \\times 10^{12}$ kg, $m = 6.1 \\times 10^2$ kg and $r = 7.0 \\times 10^3$ m, we can compute the  gravitational potential $V$:"
   ]
  },
  {
   "cell_type": "code",
   "execution_count": 2,
   "metadata": {
    "colab": {
     "base_uri": "https://localhost:8080/",
     "height": 34
    },
    "colab_type": "code",
    "id": "SFJAQwMjKqnU",
    "outputId": "babddc4a-0ed5-446d-d23a-e60674a416fe"
   },
   "outputs": [
    {
     "data": {
      "text/plain": [
       "9.59625857142857"
      ]
     },
     "execution_count": 2,
     "metadata": {
      "tags": []
     },
     "output_type": "execute_result"
    }
   ],
   "source": [
    "6.674e-11*1.65e12*6.1e2/7.0e3"
   ]
  },
  {
   "cell_type": "markdown",
   "metadata": {
    "colab_type": "text",
    "id": "7NqdRLTRKqna"
   },
   "source": [
    "The calculation shown above doesn't print out all the digits that has been calculated. It merely does the first 14 decimal places. We can see that by printing 100 decimal places."
   ]
  },
  {
   "cell_type": "code",
   "execution_count": 8,
   "metadata": {
    "colab": {
     "base_uri": "https://localhost:8080/",
     "height": 34
    },
    "colab_type": "code",
    "id": "fLtMEVIVKqnd",
    "outputId": "1321f5d2-d3d0-40b0-a036-3d8204124928"
   },
   "outputs": [
    {
     "name": "stdout",
     "output_type": "stream",
     "text": [
      "9.5962585714285708604620594996958971023559570312500000000000000000000000000000000000000000000000000000\n"
     ]
    }
   ],
   "source": [
    "print(\"{:.100f}\".format(6.674e-11*1.65e12*6.1e2/7.0e3))"
   ]
  },
  {
   "cell_type": "markdown",
   "metadata": {
    "colab_type": "text",
    "id": "hIyWtBEZKqnp"
   },
   "source": [
    "A common operation is raising a number to a power. To compute $3^4$:"
   ]
  },
  {
   "cell_type": "code",
   "execution_count": null,
   "metadata": {
    "colab": {},
    "colab_type": "code",
    "id": "JeAwag51Kqnp"
   },
   "outputs": [],
   "source": []
  },
  {
   "cell_type": "markdown",
   "metadata": {
    "colab_type": "text",
    "id": "4ReyV4MzKqnv"
   },
   "source": [
    "The remainder is computed using the modulus operator '`%`':"
   ]
  },
  {
   "cell_type": "code",
   "execution_count": null,
   "metadata": {
    "colab": {},
    "colab_type": "code",
    "id": "5dHbNR50Kqnw"
   },
   "outputs": [],
   "source": []
  },
  {
   "cell_type": "markdown",
   "metadata": {
    "colab_type": "text",
    "id": "v4CTP1I3Kqny"
   },
   "source": [
    "To get the quotient we use 'floor division', which uses the symbol '`//`':"
   ]
  },
  {
   "cell_type": "code",
   "execution_count": null,
   "metadata": {
    "colab": {},
    "colab_type": "code",
    "id": "xEXHIZ0XKqn9"
   },
   "outputs": [],
   "source": []
  },
  {
   "cell_type": "markdown",
   "metadata": {
    "colab_type": "text",
    "id": "x6nnoC1ZKqoA"
   },
   "source": [
    "# Operator precedence\n",
    "\n",
    "Operator precedence refers to the order in which operations are performed, e.g. multiplication before addition.\n",
    "In the preceding examples, there was no ambiguity as to the order of the operations. However, there are common cases where order does matter, and there are two points to consider:\n",
    "\n",
    "- The expression should be evaluated correctly; and \n",
    "- The expression should be simple enough for someone else reading the code to understand what operation is being \n",
    "  performed.\n",
    "\n",
    "It is possible to write code that is correct, but which might be very difficult for someone else (or you) to check.\n",
    "\n",
    "Most programming languages, including Python, follow the usual mathematical rules for precedence. We explore this through some examples."
   ]
  },
  {
   "cell_type": "markdown",
   "metadata": {
    "colab_type": "text",
    "id": "39NUYEpWKqoB"
   },
   "source": [
    "Consider the expression $4 \\cdot (7 - 2) = 20$. If we are careless, "
   ]
  },
  {
   "cell_type": "code",
   "execution_count": null,
   "metadata": {
    "colab": {},
    "colab_type": "code",
    "id": "VMSeLOfdKqoB",
    "outputId": "928f08d7-8a84-49da-bf12-4d925ee74537"
   },
   "outputs": [
    {
     "data": {
      "text/plain": [
       "26"
      ]
     },
     "execution_count": 1,
     "metadata": {
      "tags": []
     },
     "output_type": "execute_result"
    }
   ],
   "source": [
    "4*7 - 2"
   ]
  },
  {
   "cell_type": "markdown",
   "metadata": {
    "colab_type": "text",
    "id": "sjsQIkM2KqoD"
   },
   "source": [
    "In the above, `4*7` is evaluated first, then `2` is subtracted because multiplication (`*`) comes before subtraction (`-`) in terms of precedence. We can control the order of the operation using brackets, just as we would on paper:"
   ]
  },
  {
   "cell_type": "code",
   "execution_count": null,
   "metadata": {
    "colab": {},
    "colab_type": "code",
    "id": "8rUzZye5KqoE"
   },
   "outputs": [],
   "source": []
  },
  {
   "cell_type": "markdown",
   "metadata": {
    "colab_type": "text",
    "id": "lOybVXxHKqoI"
   },
   "source": [
    "A common example where readability is a concern is \n",
    "\n",
    "$$\n",
    "\\frac{10}{2 \\times 50} = 0.1\n",
    "$$\n",
    "\n",
    "The code"
   ]
  },
  {
   "cell_type": "code",
   "execution_count": null,
   "metadata": {
    "colab": {},
    "colab_type": "code",
    "id": "yUzHvRAnKqoI"
   },
   "outputs": [],
   "source": [
    "10/2*50"
   ]
  },
  {
   "cell_type": "markdown",
   "metadata": {
    "colab_type": "text",
    "id": "JgHznPaaKqoK"
   },
   "source": [
    "is incorrect. The multiplication and division have the same precedence, so the expression is evaluated 'left-to-right'. The correct result is computed from "
   ]
  },
  {
   "cell_type": "code",
   "execution_count": null,
   "metadata": {
    "colab": {},
    "colab_type": "code",
    "id": "Jj7htHnLKqoK"
   },
   "outputs": [],
   "source": [
    "10/2/50"
   ]
  },
  {
   "cell_type": "markdown",
   "metadata": {
    "colab_type": "text",
    "id": "QufrEh-oKqoS"
   },
   "source": [
    "but this is hard to read and could easily lead to errors in a program. I would recommend using brackets to make the order clear:"
   ]
  },
  {
   "cell_type": "code",
   "execution_count": null,
   "metadata": {
    "colab": {},
    "colab_type": "code",
    "id": "n0oD89VlKqoT"
   },
   "outputs": [],
   "source": []
  },
  {
   "cell_type": "markdown",
   "metadata": {
    "colab_type": "text",
    "id": "UaYLY7J_KqoU"
   },
   "source": [
    "Here is an example that computes $2^{3} \\cdot 4 = 32$ which is technically correct but not ideal in terms of readability:"
   ]
  },
  {
   "cell_type": "code",
   "execution_count": null,
   "metadata": {
    "colab": {},
    "colab_type": "code",
    "id": "LJAe4L4SKqoV",
    "outputId": "7fa54d1f-d333-49d8-fa81-c29f07e7ad6d"
   },
   "outputs": [
    {
     "data": {
      "text/plain": [
       "32"
      ]
     },
     "execution_count": 13,
     "metadata": {
      "tags": []
     },
     "output_type": "execute_result"
    }
   ],
   "source": [
    "2**3*4"
   ]
  },
  {
   "cell_type": "markdown",
   "metadata": {
    "colab_type": "text",
    "id": "mvUfJuWFKqoY"
   },
   "source": [
    "Better would be:"
   ]
  },
  {
   "cell_type": "code",
   "execution_count": null,
   "metadata": {
    "colab": {},
    "colab_type": "code",
    "id": "_VEJFSZ2KqoZ"
   },
   "outputs": [],
   "source": []
  },
  {
   "cell_type": "markdown",
   "metadata": {
    "colab_type": "text",
    "id": "-2PsqqluKqoa"
   },
   "source": [
    "# Variables and assignment\n",
    "\n",
    "The above code snippets were helpful for doing some arithmetic, but we could easily do the same with a pocket calculator. Also, the snippets are not very helpful if we want to change the value of one of the numbers in an expression, and not very helpful if we wanted to use the value of the expression in a subsequent computation. To improve things, we need *assignment*.\n",
    "\n",
    "When we compute something, we usually want to store the result so that we can use it in subsequent computations. *Variables* are what we use to store something, e.g.:"
   ]
  },
  {
   "cell_type": "code",
   "execution_count": null,
   "metadata": {
    "colab": {},
    "colab_type": "code",
    "id": "sIBB9lBFKqob"
   },
   "outputs": [],
   "source": [
    "c = 10\n"
   ]
  },
  {
   "cell_type": "markdown",
   "metadata": {
    "colab_type": "text",
    "id": "nYDTXvifKqog"
   },
   "source": [
    "Above, the variable `c` is used to 'hold' the value `10`. The function `print` is used to print the value of a variable to the output (more on functions later).\n",
    "\n",
    "Say we want to compute $c = a + b$, where $a = 2$ and $b = 11$:"
   ]
  },
  {
   "cell_type": "code",
   "execution_count": null,
   "metadata": {
    "colab": {},
    "colab_type": "code",
    "id": "T1BmdDmeKqog"
   },
   "outputs": [],
   "source": [
    "a = 2\n",
    "b = 11\n",
    "\n"
   ]
  },
  {
   "cell_type": "markdown",
   "metadata": {
    "colab_type": "text",
    "id": "33u4N72eKqoj"
   },
   "source": [
    "What is happening above is that the expression on the right-hand side of the assignment operator '`=`' is evaluated and then stored as the variable on the left-hand side. You can think of the variable as a 'handle' for a value.\n",
    "If we want to change the value of $a$ to $4$ and recompute the sum, we would just replace `a = 2` with `a = 4` and execute the code (try this yourself by running this notebook interactively).\n",
    "\n",
    "The above looks much like standard algebra. There are however some subtle differences. Take for example:"
   ]
  },
  {
   "cell_type": "code",
   "execution_count": null,
   "metadata": {
    "colab": {},
    "colab_type": "code",
    "id": "0ZrzAJ11Kqoj"
   },
   "outputs": [],
   "source": [
    "a = 2\n",
    "b = 11\n"
   ]
  },
  {
   "cell_type": "markdown",
   "metadata": {
    "colab_type": "text",
    "id": "XuW1Y8YjKqol"
   },
   "source": [
    "This is not a valid algebraic statement since '`a`' appears on both sides of '`=`', but it is a very common statement in a computer program. What happens is that the expression on the right-hand side is evaluated (the values assigned to `a` and `b` are summed), and the result is assigned to the left-hand side (to the variable `a`). There is a mathematical notation for this type of assignment:\n",
    "\n",
    "$$\n",
    "a \\leftarrow a +b \n",
    "$$\n",
    "\n",
    "which says 'sum $a$ and $b$, and copy the result to $a$'. You will see this notation in some books, especially when looking at *algorithms*."
   ]
  },
  {
   "cell_type": "markdown",
   "metadata": {
    "colab_type": "text",
    "id": "FMUMGxURKqow"
   },
   "source": [
    "## Shortcuts\n",
    "\n",
    "Adding or subtracting variables is such a common operation that most languages provides shortcuts. For addition:"
   ]
  },
  {
   "cell_type": "code",
   "execution_count": null,
   "metadata": {
    "colab": {},
    "colab_type": "code",
    "id": "aBMG0g05Kqoy"
   },
   "outputs": [],
   "source": [
    "# Long-hand addition\n",
    "a = 1\n",
    "\n",
    "\n",
    "\n",
    "# Short-hand addition\n",
    "a = 1\n",
    "\n"
   ]
  },
  {
   "cell_type": "markdown",
   "metadata": {
    "colab_type": "text",
    "id": "P04Q5nyDKqo1"
   },
   "source": [
    "> In Python, any text following the hash (`#`) symbol is a 'comment'. Comments are not executed by the program; \n",
    "> they help us document and explain what our programs do. Use lots of comments in your programs.\n",
    "\n",
    "For subtraction:"
   ]
  },
  {
   "cell_type": "code",
   "execution_count": null,
   "metadata": {
    "colab": {},
    "colab_type": "code",
    "id": "nw0UMRQYKqo1"
   },
   "outputs": [],
   "source": [
    "# Long-hand subtraction\n",
    "a = 1\n",
    "b = 4\n",
    "\n",
    "\n",
    "\n",
    "# Short-hand subtraction\n",
    "a = 1\n",
    "b = 4\n",
    "\n"
   ]
  },
  {
   "cell_type": "markdown",
   "metadata": {
    "colab_type": "text",
    "id": "jecQzZdTKqo3"
   },
   "source": [
    "Analogous assignment operators exist for multiplication and division:"
   ]
  },
  {
   "cell_type": "code",
   "execution_count": null,
   "metadata": {
    "colab": {},
    "colab_type": "code",
    "id": "kTZ59McVKqo3"
   },
   "outputs": [],
   "source": [
    "# Long-hand multiplication\n",
    "a = 10\n",
    "c = 2\n",
    "\n",
    "\n",
    "\n",
    "# Short-hand multiplication\n",
    "a = 10\n",
    "c = 2\n",
    "\n",
    "\n",
    "\n",
    "# Long-hand division\n",
    "a = 1\n",
    "\n",
    "\n",
    "\n",
    "# Short-hand division\n",
    "a = 1\n",
    "\n"
   ]
  },
  {
   "cell_type": "markdown",
   "metadata": {
    "colab_type": "text",
    "id": "VQGUMzKfKqo4"
   },
   "source": [
    "## Naming variables\n",
    "\n",
    "It is good practice to use meaningful variable names in a computer program. Say you used  '`x`' for time, and '`t`' for position, you or someone else will almost certainly make errors at some point.\n",
    "If you do not use well considered variable names:\n",
    "\n",
    "1. You're much more likely to make errors.\n",
    "1. When you come back to your program after some time, you will have trouble recalling and understanding \n",
    "   what the program does.\n",
    "1. It will be difficult for others to understand your program - serious programming is almost always a team effort.\n",
    "\n",
    "Languages have rules for what charcters can be used in variable names. As a rough guide, in Python variable names can use letters and digits, but cannot start with a digit.\n",
    "\n",
    "Sometimes for readability it is useful to have variable names that are made up of two words. A convention is\n",
    "to separate the words in the variable name using an underscore '`_`'. For example, a good variable name for storing the number of days would be \n",
    "```python\n",
    "num_days = 10\n",
    "```\n",
    "Python is a case-sensitive language, e.g. the variables '`A`' and '`a`' are different. Some languages, such as\n",
    "Fortran, are case-insensitive.\n",
    "\n",
    "Languages have reserved keywords that cannot be used as variable names as they are used for other purposes. The reserved keywords in Python are:"
   ]
  },
  {
   "cell_type": "code",
   "execution_count": null,
   "metadata": {
    "colab": {},
    "colab_type": "code",
    "id": "xF_CTc_-Kqo5",
    "scrolled": false
   },
   "outputs": [],
   "source": [
    "import keyword\n"
   ]
  },
  {
   "cell_type": "markdown",
   "metadata": {
    "colab_type": "text",
    "id": "vZQJt8fyKqo7"
   },
   "source": [
    "If you try to assign something to a reserved keyword, you will get an error.\n",
    "\n",
    "Python 3 supports Unicode, which allows you to use a very wide range of symbols, including Greek characters:"
   ]
  },
  {
   "cell_type": "code",
   "execution_count": null,
   "metadata": {
    "colab": {},
    "colab_type": "code",
    "id": "7oPXwOo3Kqo8"
   },
   "outputs": [],
   "source": []
  },
  {
   "cell_type": "markdown",
   "metadata": {
    "colab_type": "text",
    "id": "LiFUSlqOKqpA"
   },
   "source": [
    "Greek symbols and other symbols can be input in a Jupyter notebook by typing the `LaTeX` command for the symbol and then pressing the `tab` key, e.g. '`\\theta`' followed by pressing the `tab` key."
   ]
  }
 ],
 "metadata": {
  "colab": {
   "collapsed_sections": [],
   "name": "Copy of Day1-variables_assignment_operator-precedence-student.ipynb",
   "provenance": []
  },
  "kernelspec": {
   "display_name": "Python 3",
   "language": "python",
   "name": "python3"
  },
  "language_info": {
   "codemirror_mode": {
    "name": "ipython",
    "version": 3
   },
   "file_extension": ".py",
   "mimetype": "text/x-python",
   "name": "python",
   "nbconvert_exporter": "python",
   "pygments_lexer": "ipython3",
   "version": "3.6.8"
  }
 },
 "nbformat": 4,
 "nbformat_minor": 1
}
