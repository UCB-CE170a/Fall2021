{
 "cells": [
  {
   "cell_type": "markdown",
   "metadata": {},
   "source": [
    "## Two-dimensional arrays\n",
    "\n",
    "Two-dimensional arrays are very useful for arranging data in many engineering applications and for performing mathematical operations. Commonly, 2D arrays are used to represents matrices. To create the matrix\n",
    "\n",
    "$$\n",
    "A = \n",
    "\\begin{bmatrix} \n",
    "2.2 & 3.7 & 9.1\\\\ \n",
    "-4 & 3.1 & 1.3\n",
    "\\end{bmatrix} \n",
    "$$\n",
    "\n",
    "we use:"
   ]
  },
  {
   "cell_type": "code",
   "execution_count": null,
   "metadata": {},
   "outputs": [],
   "source": [
    "import numpy as np\n",
    "\n",
    "A = np.array([[2.2, 3.7, 9.1], [-4.0, 3.1, 1.3]])\n",
    "print(A)"
   ]
  },
  {
   "cell_type": "markdown",
   "metadata": {},
   "source": [
    "If we check the length of `A`:"
   ]
  },
  {
   "cell_type": "code",
   "execution_count": null,
   "metadata": {},
   "outputs": [],
   "source": []
  },
  {
   "cell_type": "markdown",
   "metadata": {},
   "source": [
    "it reports the number of rows. To get the shape of the array, we use:"
   ]
  },
  {
   "cell_type": "code",
   "execution_count": null,
   "metadata": {},
   "outputs": [],
   "source": []
  },
  {
   "cell_type": "markdown",
   "metadata": {},
   "source": [
    "which reports 2 rows and 3 columns (stored using a tuple). To get the number of rows and the number of columns,"
   ]
  },
  {
   "cell_type": "code",
   "execution_count": null,
   "metadata": {},
   "outputs": [],
   "source": [
    "num_rows = \n",
    "num_cols = \n",
    "print(\"Number of rows is {}, number of columns is {}.\".format(num_rows, num_cols))"
   ]
  },
  {
   "cell_type": "markdown",
   "metadata": {},
   "source": [
    "We can 'index' into a 2D array using two indices, the first for the row index and the second for the column index:"
   ]
  },
  {
   "cell_type": "code",
   "execution_count": null,
   "metadata": {},
   "outputs": [],
   "source": [
    "A02 = \n",
    "print(A02)\n",
    "A01 = \n",
    "print(A01)"
   ]
  },
  {
   "cell_type": "markdown",
   "metadata": {},
   "source": [
    "With `A[0]` and `A[1]`, we will get the first and second rows, respectively:"
   ]
  },
  {
   "cell_type": "code",
   "execution_count": null,
   "metadata": {},
   "outputs": [],
   "source": [
    "\n"
   ]
  },
  {
   "cell_type": "markdown",
   "metadata": {},
   "source": [
    "### Transpose a matrix:\n",
    "\n",
    "$$\n",
    "A = \n",
    "\\begin{bmatrix} \n",
    "2.2 & 3.7 & 9.1\\\\ \n",
    "-4 & 3.1 & 1.3\n",
    "\\end{bmatrix} \n",
    "$$\n",
    "\n",
    "\n",
    "to \n",
    "\n",
    "$$\n",
    "A^T = \n",
    "\\begin{bmatrix} \n",
    "2.2 & -4\\\\ \n",
    "3.7 & 3.1 \\\\\n",
    "9.1 & 1.3\n",
    "\\end{bmatrix} \n",
    "$$\n"
   ]
  },
  {
   "cell_type": "code",
   "execution_count": null,
   "metadata": {},
   "outputs": [],
   "source": [
    "A = np.array([[2.2, 3.7, 9.1], [-4.0, 3.1, 1.3]])\n",
    "print(\"A= {}\\n\".format(A))"
   ]
  },
  {
   "cell_type": "code",
   "execution_count": null,
   "metadata": {},
   "outputs": [],
   "source": [
    "At = \n",
    "print(\"Transpose of A= {}\\n\".format(At))"
   ]
  },
  {
   "cell_type": "markdown",
   "metadata": {},
   "source": [
    "### 2D array (matrix) operations\n",
    "\n",
    "For those who have seen matrices previously, the operations in this section will be familiar. For those who have not encountered matrices, you might want to revisit this section once matrices have been covered in the mathematics lectures."
   ]
  },
  {
   "cell_type": "markdown",
   "metadata": {},
   "source": [
    "#### Matrix-vector and matrix-matrix multiplication\n",
    "\n",
    "We will consider the matrix $A$:\n",
    "\n",
    "$$\n",
    "A  = \n",
    "\\begin{bmatrix}\n",
    "3 & 2 \\\\\n",
    "1 & 4\n",
    "\\end{bmatrix}\n",
    "$$\n",
    "\n",
    "and the vector $x$:\n",
    "\n",
    "$$\n",
    "x  = \n",
    "\\begin{bmatrix}\n",
    "2 \\\\ -1\n",
    "\\end{bmatrix}\n",
    "$$"
   ]
  },
  {
   "cell_type": "code",
   "execution_count": null,
   "metadata": {},
   "outputs": [],
   "source": [
    "A = \n",
    "print(\"Matrix A:\\n {}\".format(A))\n",
    "x = \n",
    "print(\"Vector x:\\n {}\".format(x))"
   ]
  },
  {
   "cell_type": "markdown",
   "metadata": {},
   "source": [
    "Lets verify the shape"
   ]
  },
  {
   "cell_type": "code",
   "execution_count": null,
   "metadata": {},
   "outputs": [],
   "source": [
    "\n"
   ]
  },
  {
   "cell_type": "markdown",
   "metadata": {},
   "source": [
    "We can compute the matrix-vector product $y = Ax$ by:"
   ]
  },
  {
   "cell_type": "code",
   "execution_count": null,
   "metadata": {},
   "outputs": [],
   "source": [
    "y = \n",
    "print(y)"
   ]
  },
  {
   "cell_type": "markdown",
   "metadata": {},
   "source": [
    "### Matrix-matrix multiplication  \n",
    "\n",
    "Computing $C = AB$, where $A$, $B$, and $C$ are all matrices, the approach is similar:"
   ]
  },
  {
   "cell_type": "code",
   "execution_count": null,
   "metadata": {},
   "outputs": [],
   "source": [
    "B = \n",
    "\n",
    "C = \n",
    "print(C)"
   ]
  },
  {
   "cell_type": "markdown",
   "metadata": {},
   "source": [
    "The inverse of a matrix ($A^{-1}$) and the determinant ($\\det(A)$) can be computed using functions in the NumPy submodule `linalg`:"
   ]
  },
  {
   "cell_type": "code",
   "execution_count": null,
   "metadata": {},
   "outputs": [],
   "source": [
    "Ainv = \n",
    "print(\"Inverse of A:\\n {}\".format(Ainv))\n",
    "\n",
    "Adet = \n",
    "print(\"Determinant of A: {}\".format(Adet))"
   ]
  },
  {
   "cell_type": "markdown",
   "metadata": {},
   "source": [
    "## Cross product\n",
    "\n",
    "![Cross product](https://upload.wikimedia.org/wikipedia/commons/thumb/f/f3/Cross_parallelogram.png/685px-Cross_parallelogram.png)"
   ]
  },
  {
   "cell_type": "code",
   "execution_count": null,
   "metadata": {},
   "outputs": [],
   "source": [
    "a = np.array([2,3,4])\n",
    "b =  np.array([5,6,7])\n",
    "\n",
    "c = \n",
    "print(c)"
   ]
  },
  {
   "cell_type": "markdown",
   "metadata": {},
   "source": [
    "NumPy is large library, so it uses sub-modules to arrange functionality.\n",
    "\n",
    "A very common matrix is the *identity matrix* $I$. We can create a $4 \\times 4$ identity matrix using:"
   ]
  },
  {
   "cell_type": "code",
   "execution_count": null,
   "metadata": {},
   "outputs": [],
   "source": [
    "I = \n",
    "print(I)"
   ]
  },
  {
   "cell_type": "markdown",
   "metadata": {},
   "source": [
    "# Solve a linear system of equations\n",
    "\n",
    "Consider a Matrix $A$, and vectors $x$ and $b$:\n",
    "\n",
    "$$ \n",
    "\\begin{bmatrix} \n",
    "4 & 1 & 2 \\\\\n",
    "3 & 5 & 1 \\\\\n",
    "1 & 1 & 3 \\\\\n",
    "\\end{bmatrix} \n",
    "\t\\begin{bmatrix}\n",
    "\t\tx_1\\\\\n",
    "\t\tx_2\\\\\n",
    "\t\tx_3\\\\\n",
    "\t\\end{bmatrix}\n",
    "    =\n",
    "\t\\begin{bmatrix}\n",
    "\t\t4 \\\\\n",
    "\t\t7 \\\\\n",
    "\t\t3 \\\\\n",
    "\t\\end{bmatrix}\n",
    "$$\n",
    "\n",
    "we use:"
   ]
  },
  {
   "cell_type": "code",
   "execution_count": null,
   "metadata": {},
   "outputs": [],
   "source": [
    "A = \n",
    "b = "
   ]
  },
  {
   "cell_type": "markdown",
   "metadata": {},
   "source": [
    "Check the length of `A` and `b`"
   ]
  },
  {
   "cell_type": "code",
   "execution_count": null,
   "metadata": {},
   "outputs": [],
   "source": [
    "print(A.shape)\n",
    "print(b.shape)"
   ]
  },
  {
   "cell_type": "markdown",
   "metadata": {},
   "source": [
    "The determinant ($\\det(A)$) can be computed using functions in the NumPy submodule `linalg`. If the determinant of $A$ is non-zero, then we have a solution."
   ]
  },
  {
   "cell_type": "code",
   "execution_count": null,
   "metadata": {},
   "outputs": [],
   "source": [
    "Adet = \n",
    "print(\"Determinant of A: {}\".format(Adet))"
   ]
  },
  {
   "cell_type": "markdown",
   "metadata": {},
   "source": [
    "Solve using the inverse of A"
   ]
  },
  {
   "cell_type": "code",
   "execution_count": null,
   "metadata": {},
   "outputs": [],
   "source": [
    "Ainv = \n",
    "x = \n",
    "print(\"x = {}\".format(x))"
   ]
  },
  {
   "cell_type": "markdown",
   "metadata": {},
   "source": [
    "## Solution using Gauss Elimination direct approach"
   ]
  },
  {
   "cell_type": "markdown",
   "metadata": {},
   "source": [
    "We can use *linalg.solve* from numpy library to solve linear system using the Gauss Elimination direct approach. See [Wikipedia](https://en.wikipedia.org/wiki/Gaussian_elimination#:~:text=Gaussian%20elimination%2C%20also%20known%20as,the%20corresponding%20matrix%20of%20coefficients.) for details of this appraoch."
   ]
  },
  {
   "cell_type": "code",
   "execution_count": null,
   "metadata": {},
   "outputs": [],
   "source": [
    "A = np.array([[4,1,2], [3,5,1], [1, 1, 3]])\n",
    "\n",
    "b = np.array([4, 7, 3])\n",
    "\n",
    "# use linalg.solve to solve\n",
    "x = \n",
    "print(\"x = {}\".format(x))"
   ]
  },
  {
   "cell_type": "markdown",
   "metadata": {},
   "source": [
    "### Gauss Elimination: Limitations\n",
    "\n",
    "(1) Prone to round off errors, when we have many (> 100) equations.\n",
    "\n",
    "(2) If coeffcient matrix is sparse (lots of zeros), elimination methods are very ineffcient.\n",
    "\n",
    "There are other direct approaches such as Gauss-Jordan Elimination and LU decomposition.\n",
    "\n",
    "Alternatively, it can be solved iteratively."
   ]
  },
  {
   "cell_type": "markdown",
   "metadata": {},
   "source": [
    "## Solution using Gauss-Seidel Iterative approach"
   ]
  },
  {
   "cell_type": "markdown",
   "metadata": {},
   "source": [
    "For conciseness, we limit to 3 x 3 equations. If diagonal elements are all non-zero, then the equations can be solved as:\n",
    "\n",
    "$$\n",
    "\\begin{bmatrix} \n",
    "a_{11} & a_{12} & a_{13} \\\\ \n",
    "a_{21} & a_{22} & a_{23} \\\\ \n",
    "a_{31} & a_{32} & a_{33} \\\\\n",
    "\\end{bmatrix}\n",
    "    \\begin{bmatrix}\n",
    "\t\tx_1\\\\\n",
    "\t\tx_2\\\\\n",
    "\t\tx_3\\\\\n",
    "\t\\end{bmatrix}\n",
    "\t\\begin{bmatrix}\n",
    "\t\tb_1 \\\\\n",
    "\t\tb_2 \\\\\n",
    "\t\tb_3 \\\\\n",
    "\t\\end{bmatrix}\n",
    "$$\n",
    "$$\n",
    "x_1 = \\frac{b_1 - a_{12}x_2-a_{13}x_3}{a_{11}}\n",
    "$$\n",
    "$$\n",
    "x_2 = \\frac{b_2 - a_{21}x_1-a_{23}x_3}{a_{22}}\n",
    "$$\n",
    "$$\n",
    "x_3 = \\frac{b_3 - a_{31}x_1-a_{32}x_2}{a_{33}}\n",
    "$$\n",
    "\n",
    "\n",
    "For a given initial $(x_{1}^{n}, x_{2}^{n}, x_{3}^{n})$, the above equation can be used for computed updated $(x_{1}^{n+1}, x_{2}^{n+1}, x_{3}^{n+1}$).\n",
    "\n",
    "$$\n",
    "x_{1}^{n+1} = \\frac{b_1 - a_{12}x_{2}^{n}-a_{13}x_{3}^{n}}{a_{11}} \\hookleftarrow\n",
    "$$\n",
    "$$\n",
    "x_{2}^{n+1} = \\frac{b_2 - a_{21}x_{1}^{n+1}-a_{23}x_{3}^{n}}{a_{22}} \\hookleftarrow\n",
    "$$\n",
    "$$\n",
    "x_{3}^{n+1} = \\frac{b_3 - a_{31}x_{1}^{n+1}-a_{32}x_{2}^{n+1}}{a_{33}}\n",
    "$$"
   ]
  },
  {
   "cell_type": "markdown",
   "metadata": {},
   "source": [
    "In general, x can be updated using the equation: \n",
    "\n",
    "<center>\n",
    "<img src=\"https://wikimedia.org/api/rest_v1/media/math/render/svg/02f26444f4da61ae84a9824a6b5292949a483fcc\" alt=\"equation\" width=\"500\" />\n",
    "</center>\n"
   ]
  },
  {
   "cell_type": "markdown",
   "metadata": {},
   "source": [
    "Using Gauss-Seidel solve for [x]\n",
    "\n",
    "$$ \n",
    "\\begin{bmatrix} \n",
    "4 & 1 & 2 \\\\\n",
    "3 & 5 & 1 \\\\\n",
    "1 & 1 & 3 \\\\\n",
    "\\end{bmatrix} \n",
    "\t\\begin{bmatrix}\n",
    "\t\tx_1\\\\\n",
    "\t\tx_2\\\\\n",
    "\t\tx_3\\\\\n",
    "\t\\end{bmatrix}\n",
    "    =\n",
    "\t\\begin{bmatrix}\n",
    "\t\t4 \\\\\n",
    "\t\t7 \\\\\n",
    "\t\t3 \\\\\n",
    "\t\\end{bmatrix}\n",
    "$$\n",
    "\n",
    "Assuming an initial guess of $x_1; x_2; x_3$ = 0. End of first iteration.\n",
    "\n",
    "$$\n",
    "x_{1} = \\frac{4 - 1\\times0 - 2\\times0}{4} = 1 \\hookleftarrow\n",
    "$$\n",
    "$$\n",
    "x_{2} = \\frac{7 - 3\\times1 - 1\\times0}{5} = 0.8 \\hookleftarrow\n",
    "$$\n",
    "$$\n",
    "x_{3} = \\frac{3 - 1\\times1 - 1\\times0.8}{3} = 0.4\n",
    "$$\n",
    "\n",
    "Convergence can be checked using the relative error.\n",
    "\n",
    "$$\n",
    "|\\epsilon_i| = |\\frac{x_i^k - x_i^{k+1}}{x_i^k} \\times 100\\%|<\\epsilon_{tolerance}\n",
    "$$\n",
    "where k, and k + 1 represents the current and previous iterations.\n",
    "\n",
    "Note that Gauss-Seidel only works for diagonally dominant matrix."
   ]
  },
  {
   "cell_type": "code",
   "execution_count": null,
   "metadata": {},
   "outputs": [],
   "source": [
    "import numpy as np\n",
    "\n",
    "# Gauss-Seidel iterative solver\n",
    "def gauss_seidel(A, b, x, max_iterations = 1000, tol=1.0E-15):\n",
    "    # Number of rows\n",
    "    nrows = np.shape(A)[0]\n",
    "    # Check size of matrices A and vector b\n",
    "    if np.shape(A)[0] != np.shape(A)[1] or np.shape(A)[0] != np.shape(b)[0]:\n",
    "        print(\"Invalid dimensions\")\n",
    "    \n",
    "    # Initialize previous iteration to zero\n",
    "    xprev = np.zeros(nrows)\n",
    "\n",
    "    # Gauss seidel iterative solver\n",
    "    for i in range(max_iterations):\n",
    "        xprev = x.copy()\n",
    "        for j in range(nrows):\n",
    "            sum = 0.0\n",
    "            for k in range(nrows):\n",
    "                if (k != j):\n",
    "                    sum = sum + A[j][k] * x[k]\n",
    "            x[j] = (b[j] - sum) / A[j][j]\n",
    "\n",
    "        # Calculate norm\n",
    "        diff_norm = 0.0\n",
    "        old_norm = 0.0\n",
    "        for j in range(nrows):\n",
    "            diff_norm = diff_norm + abs(x[j] - xprev[j])\n",
    "            old_norm = old_norm + abs(xprev[j])  \n",
    "        if old_norm == 0.0:\n",
    "            old_norm = 1.0\n",
    "        norm = diff_norm / old_norm\n",
    "        if (norm < tol) and i != 0:\n",
    "            print(\"\\nGauss-Seidel coverged! x = {}, # of iterations: {} with an error of {}\".format(x, i+1, norm))\n",
    "            return\n",
    "    print(\"Doesn't converge.\")\n",
    "\n",
    "# Example of a 3D matrix\n",
    "matrixA = np.array([[4.0, 1.0, 2.0], [3.0, 5.0, 1.0], [1.0, 1.0, 3.0]])\n",
    "vectorb =  np.array([4.0, 7.0, 3.0])\n",
    "guess = np.array([0.0, 0.0, 0.0])\n",
    "\n",
    "gauss_seidel()\n",
    "\n",
    "# 2D Matrices example\n",
    "matrix2 =[[3.0, 2.0], [1.0, 4.0]]\n",
    "vector2 = [2.0, -1.0]\n",
    "guess2 = [0.0, 0.0]\n",
    "\n",
    "gauss_seidel()"
   ]
  }
 ],
 "metadata": {
  "kernelspec": {
   "display_name": "Python 3",
   "language": "python",
   "name": "python3"
  },
  "language_info": {
   "codemirror_mode": {
    "name": "ipython",
    "version": 3
   },
   "file_extension": ".py",
   "mimetype": "text/x-python",
   "name": "python",
   "nbconvert_exporter": "python",
   "pygments_lexer": "ipython3",
   "version": "3.6.8"
  }
 },
 "nbformat": 4,
 "nbformat_minor": 1
}
