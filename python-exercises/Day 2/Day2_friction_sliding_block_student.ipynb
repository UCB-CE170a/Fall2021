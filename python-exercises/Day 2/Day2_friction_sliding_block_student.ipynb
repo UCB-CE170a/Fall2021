{
 "cells": [
  {
   "cell_type": "markdown",
   "metadata": {},
   "source": [
    "# Python Exercise Day 2\n",
    "\n",
    "## Objectives\n",
    "* Import modules (libraries)\n",
    "* Plot figures \n",
    "* Solve a engineering problem using python \n",
    "\n",
    "This tutorial is prepared by Prof.Krishna Kuma from UT Austin, modified by Prof. Kenichi Soga, Dr. Bingyu Zhao and Renjie Wu from UC Berkeley. "
   ]
  },
  {
   "cell_type": "markdown",
   "metadata": {},
   "source": [
    "## Forces on a sliding block\n",
    "\n",
    "What is the optimal angle to pull the statue?\n",
    "![Statue](Egypt.png)\n",
    "\n",
    "In other words, what is the optimal angle to pull the block applying the least amount of force?\n",
    "![Pull](Pull.png)\n",
    "\n",
    "What are the forces acting on the sliding block?\n",
    "![forces on a sliding block](block-forces.png)"
   ]
  },
  {
   "cell_type": "markdown",
   "metadata": {
    "scrolled": true
   },
   "source": [
    "The force equlibrium equation will give the following solution for F. It is a nonlinear function of $\\theta$\n",
    "\n",
    "$$\n",
    "F = \\frac{\\mu W}{\\cos \\theta + \\mu \\sin \\theta} = \\frac{\\mu mg}{\\cos \\theta + \\mu \\sin \\theta}\n",
    "$$\n",
    "\n",
    "Given a weight $W = 25 kN$, friction coefficient $\\mu = 0.75$, and angle of inclination $\\theta = 45^o$, calculate the force required to pull the block.\n",
    "\n",
    "Python has a lot of useful standard library functions which are defined in modules. A Python code can gain access to the code in another module by the process of importing it. The import statement is the most common way of invoking the import machinery, but it is not the only way. We need to import a module called `math`, which has predefined trignometric functions using `import math`, this makes available all the functions in `math` module. To use the `cos` function in `math` module, we do `math.cos(angle)`"
   ]
  },
  {
   "cell_type": "code",
   "execution_count": 1,
   "metadata": {
    "scrolled": true
   },
   "outputs": [
    {
     "name": "stdout",
     "output_type": "stream",
     "text": [
      "Force is 15.01 kN\n"
     ]
    }
   ],
   "source": [
    "# Import math module for trignometric functions\n",
    "\n",
    "\n",
    "# Assign variables\n",
    "mu =    # friction coefficient\n",
    "weight =  # Weight of the block in kN\n",
    "theta =   # angle in degrees\n",
    "\n",
    "# Compute pulling force: F = (mu * W) / (cos(theta) + mu * sin(theta))\n",
    "force =\n",
    "\n",
    "\n"
   ]
  },
  {
   "cell_type": "markdown",
   "metadata": {},
   "source": [
    "## What is the optimum $\\theta$?\n",
    "\n",
    "Let's try to compute the forces at different values of $\\theta$. In order to do so, we need to make a list of $\\theta$ values. But what is a list? \n",
    "\n",
    "## Lists\n",
    "\n",
    "A list is a sequence of data. An 'array' in most other languages is a similar concept, but Python lists are more general than most arrays as they can hold a mixture of types. A list is constructed using square brackets. To create a list of Pixar movies `['Toy Story', 'Monsters Inc', 'Finding Nemo', 'The Incredibles', 'Cars']`:"
   ]
  },
  {
   "cell_type": "code",
   "execution_count": 3,
   "metadata": {
    "scrolled": true
   },
   "outputs": [],
   "source": [
    "pixar = [\"Toy Story\", \"Monsters Inc\", \"Finding Nemo\", \"The Incredibles\", \"Cars\"]\n",
    "\n",
    "\n"
   ]
  },
  {
   "cell_type": "markdown",
   "metadata": {},
   "source": [
    "To add an item to list use `list.append(item)`. Let's add a new Pixar movie: `coco`."
   ]
  },
  {
   "cell_type": "code",
   "execution_count": 3,
   "metadata": {},
   "outputs": [
    {
     "name": "stdout",
     "output_type": "stream",
     "text": [
      "Number of Pixar movies: 6\n"
     ]
    }
   ],
   "source": [
    "\n"
   ]
  },
  {
   "cell_type": "markdown",
   "metadata": {},
   "source": [
    "### Iterating through a list\n",
    "\n",
    "\n",
    "Looping over each item in a list (or more generally a sequence) is called *iterating*. One common way to do that is to use *for* loop. We iterate over the movies in the pixar list using the for loop syntax:"
   ]
  },
  {
   "cell_type": "code",
   "execution_count": 4,
   "metadata": {},
   "outputs": [
    {
     "name": "stdout",
     "output_type": "stream",
     "text": [
      "Toy Story\n",
      "Monsters Inc\n",
      "Finding Nemo\n",
      "The Incredibles\n",
      "Cars\n"
     ]
    }
   ],
   "source": [
    "for movie in pixar:\n",
    "    print(movie)"
   ]
  },
  {
   "cell_type": "markdown",
   "metadata": {},
   "source": [
    "### Create a list of possible angles \n",
    "\n",
    "`angles` should store a list of ```[0, 10, 20, 30, 40, 50, 60, 70, 80, 90]```"
   ]
  },
  {
   "cell_type": "code",
   "execution_count": 5,
   "metadata": {},
   "outputs": [
    {
     "name": "stdout",
     "output_type": "stream",
     "text": [
      "[0, 10, 20, 30, 40, 50, 60, 70, 80, 90]\n"
     ]
    }
   ],
   "source": [
    "# A list of possible angles\n",
    "angles = \n"
   ]
  },
  {
   "cell_type": "markdown",
   "metadata": {},
   "source": [
    "### Iterate through all the angles and calculate the force for each of those angles\n",
    "\n",
    "print `(angle, force)` for each angle during the iteration"
   ]
  },
  {
   "cell_type": "code",
   "execution_count": 3,
   "metadata": {},
   "outputs": [],
   "source": [
    "# Iterate through angles\n",
    "\n",
    "# Import math module for trignometric functions\n",
    "import math\n",
    "\n",
    "# Assign variables\n",
    "mu = 0.75   # friction coefficient\n",
    "weight = 25 # Weight of the block in kN\n",
    "theta = 45  # angle in degrees\n",
    "\n",
    "# Create a list of angles\n",
    "angles = [0, 10, 20, 30, 40, 50, 60, 70, 80, 90]\n",
    "\n",
    "\n",
    "for theta in angles:\n",
    "    # TODO calculate the new force \n",
    "    force = \n",
    "    \n",
    "    print(theta, force)\n",
    "\n",
    "\n",
    "\n"
   ]
  },
  {
   "cell_type": "markdown",
   "metadata": {},
   "source": [
    "### Plot the forces and angles\n",
    "\n",
    "We will be using a module called `mathplotlib` using `import matplotlib.pyplot as plt` to plot a list of angles and forces. The additional `as` part in the `import module` functions helps us keeping our code concise. Instead of typing `matplotlib.pyplot.plot()` we can just type `plt.plot()`. You may need to include `%matplotlib inline` to enable inline plotting in Jupyter notebook, include inline after you import `matplotlib`.\n",
    "\n",
    "Let's create an empty list of forces using `[]`. At each iteration `append` the force to the `forces` list."
   ]
  },
  {
   "cell_type": "code",
   "execution_count": 4,
   "metadata": {},
   "outputs": [],
   "source": [
    "# Iterate through angles and plot\n",
    "\n",
    "# Import math module for trignometric functions\n",
    "\n",
    "\n",
    "# Import plotting functions from matplotlib\n",
    "\n",
    "\n",
    "\n",
    "# Assign variables\n",
    "mu = 0.75   # friction coefficient\n",
    "weight = 25 # Weight of the block in kN\n",
    "theta = 45  # angle in degrees\n",
    "\n",
    "# Create a list of angles\n",
    "angles = [0, 10, 20, 30, 40, 50, 60, 70, 80, 90]\n",
    "\n",
    "# Create an empty list of forces\n",
    "\n",
    "\n",
    "# Plot angles vs forces\n"
   ]
  },
  {
   "cell_type": "markdown",
   "metadata": {},
   "source": [
    "### Update the angles list to increment every 1 degree from 0 to 90 and find the optimal solution using an if condition\n",
    "\n",
    "Create an updated list of angles so that `angles = [0, 1, 2, ..., 90]`. A simple function to do that is `range(stop)`. \n",
    "\n",
    "`stop`: Number of integers (whole numbers) to generate, starting from zero up to but not including `stop`.\n",
    "\n",
    "e.g., `range(3)` yields a sequence of `[0, 1, 2]`.\n",
    "\n",
    "`range([start], stop[, step])`\n",
    "\n",
    "`start`: Starting number of the sequence.\n",
    "`stop` : Generate numbers up to, but not including this number.\n",
    "`step` : Difference between each number in the sequence.\n",
    "\n",
    "e.g., `list(range(0, 10, 2))` yields a sequence of `[0, 2, 4, 6, 8]`.\n",
    "\n"
   ]
  },
  {
   "cell_type": "code",
   "execution_count": 13,
   "metadata": {},
   "outputs": [
    {
     "name": "stdout",
     "output_type": "stream",
     "text": [
      "37\n",
      "15.000038671163749\n"
     ]
    },
    {
     "data": {
      "image/png": "[encoded data removed]",
      "text/plain": [
       "<Figure size 432x288 with 1 Axes>"
      ]
     },
     "metadata": {
      "needs_background": "light"
     },
     "output_type": "display_data"
    }
   ],
   "source": [
    "# Iterate through angles using range and plot\n",
    "\n",
    "# Import math module for trignometric functions\n",
    "import math\n",
    "\n",
    "# maximum int\n",
    "import sys \n",
    "\n",
    "# Import plotting functions from matplotlib\n",
    "import matplotlib.pyplot as plt\n",
    "%matplotlib inline\n",
    "\n",
    "# Assign variables\n",
    "mu = 0.75   # friction coefficient\n",
    "weight = 25 # Weight of the block in kN\n",
    "theta = 45  # angle in degrees\n",
    "\n",
    "# Create an empty list of forces\n",
    "forces = []\n",
    "\n",
    "# Create a list of angles from 0 to 90, range(0, 91, 1)\n",
    "angles = \n",
    "\n",
    "\n",
    "\n",
    "# Iterate through all angles\n",
    "for theta in angles:\n",
    "    # Compute pulling force: F = (mu * W) / (cos(theta) + mu * sin(theta))\n",
    "    force = (mu * weight) / (math.cos(math.radians(theta)) +\n",
    "                                       mu * math.sin(math.radians(theta)))\n",
    "\n",
    "    forces.append(force)\n",
    "    # TODO If the minimum force is greater than the current force, replace with current force\n",
    "    if ? > ?:\n",
    "        # do replacement \n",
    "        \n",
    "    \n",
    "# Plot angles vs forces\n",
    "\n",
    "\n",
    "# Print the angle that gives the samllest force\n"
   ]
  },
  {
   "cell_type": "markdown",
   "metadata": {},
   "source": [
    "### Forces on a sliding block with multiple friction angles"
   ]
  },
  {
   "cell_type": "code",
   "execution_count": 18,
   "metadata": {},
   "outputs": [
    {
     "data": {
      "image/png": "[encoded data removed]",
      "text/plain": [
       "<Figure size 540x360 with 1 Axes>"
      ]
     },
     "metadata": {
      "needs_background": "light"
     },
     "output_type": "display_data"
    }
   ],
   "source": [
    "# Import matplotlib for plotting\n",
    "import math\n",
    "import matplotlib.pyplot as plt\n",
    "import sys\n",
    "%matplotlib inline\n",
    "# Set plot size\n",
    "plt.rcParams['figure.figsize'] = [7.5, 5]\n",
    "\n",
    "\n",
    "# Weight of the block\n",
    "weight = 25    # kN, A typical pyramid block is 2500 kg\n",
    "\n",
    "# Friction on the bottom plane\n",
    "frictions = [0.25, 0.5, 0.75]\n",
    "colors = ['rs', 'b*', 'go']\n",
    "lines = ['r--', 'b-', 'g-.']\n",
    "index = 0\n",
    "for friction in frictions:\n",
    "    force_min = sys.maxsize\n",
    "    # Create an empty list of angles and forces\n",
    "\n",
    "    \n",
    "    \n",
    "    # for angles between 0 and 90*\n",
    "    for theta in range(0, 90, 1):\n",
    "        # Compute pulling force: F = (mu * W) / (cos(theta) + mu * sin(theta))\n",
    "        force = \n",
    "        \n",
    "\n",
    "        # Add to list of angles and forces\n",
    "        angles.append(theta)\n",
    "        forces.append(force)\n",
    "        # TODO update force \n",
    "        if force < force_min:         \n",
    "            \n",
    "    \n",
    "    \n",
    "    \n",
    "    # Plot force and angles\n",
    "    plt.plot(angles, forces, lines[index], label='mu = ' + str(friction))\n",
    "    plt.plot(theta_min, force_min, colors[index])\n",
    "    # Increase index for color and lines\n",
    "    index += 1\n",
    "    \n",
    "    \n",
    "# Configure labels and legends\n",
    "plt.xticks(fontsize=14)\n",
    "plt.yticks(fontsize=14)\n",
    "plt.xlabel(\"pulling angle (degrees)\", fontsize=14)\n",
    "plt.ylabel(\"required pulling force (kN)\", fontsize=14)\n",
    "plt.legend(fontsize=12)\n",
    "\n",
    "# Display plot\n",
    "plt.show()\n",
    "\n"
   ]
  }
 ],
 "metadata": {
  "kernelspec": {
   "display_name": "Python 3",
   "language": "python",
   "name": "python3"
  },
  "language_info": {
   "codemirror_mode": {
    "name": "ipython",
    "version": 3
   },
   "file_extension": ".py",
   "mimetype": "text/x-python",
   "name": "python",
   "nbconvert_exporter": "python",
   "pygments_lexer": "ipython3",
   "version": "3.6.8"
  }
 },
 "nbformat": 4,
 "nbformat_minor": 2
}
