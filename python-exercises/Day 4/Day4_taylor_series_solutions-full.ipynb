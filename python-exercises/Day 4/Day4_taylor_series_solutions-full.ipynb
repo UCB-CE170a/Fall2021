{
 "cells": [
  {
   "cell_type": "markdown",
   "metadata": {},
   "source": [
    "# Taylor series and approximations\n",
    "\n",
    "Taylor series is one the best tools maths has to offer for approximating functions. Taylor series is about taking non-polynomial functions (say f(x)) and finding polyomials (P(x)) that approximate at some input. The motive here is the polynomials tend to be much easier to deal with than other functions, they are easier to compute, take derivatives, integrate, just easier overall.\n",
    "\n",
    "$$\n",
    "P(x) = f(a) + \\frac{df(a)}{dx}\\frac{(x-a)^1}{1!} + \\frac{d^2f(a)}{dx^2}\\frac{(x-a)^2}{2!} + \\cdots\n",
    "$$\n",
    "\n",
    "Tayelor series is used to find a solution of a nonlinear equation as shown later on (called the Newton Raphson method)."
   ]
  },
  {
   "cell_type": "markdown",
   "metadata": {},
   "source": [
    "## Potential energy of a simple pendulum\n",
    "\n",
    "\n",
    "To determine the potential energy of a pendulum, for that we need an expression for how high the weight of the pendulum is above its lowest point. This works out to be  $h = R(1 - \\cos(\\theta))$ The cosine function made the problem awkward and unweildy. \n",
    "\n",
    "![Pendulum](Pendulum.png)\n",
    "\n",
    "But, we can approximate the cosine function as follow using Taylor series by making a=0 in the above equation.\n",
    "\n",
    "$\\cos(\\theta) \\approx cos(0) + cos'(0)\\theta + cos\"(0)\\frac{\\theta^2}{2} = cos(0) - sin(0)\\theta - cos(0)\\frac{\\theta^2}{2}$\n",
    "\n",
    "$\\cos(\\theta) \\approx 1 - \\frac{\\theta^2}{2}$\n",
    "\n",
    " everything just fell into place much more easily. An approximation like that might seem completely out of left field. If we graph these functions, they do look close to each other for small angles.\n",
    " \n",
    "$h = R(1 - \\cos(\\theta)) \\approx R\\frac{\\theta^2}{2}$\n"
   ]
  },
  {
   "cell_type": "code",
   "execution_count": 1,
   "metadata": {},
   "outputs": [
    {
     "data": {
      "text/plain": [
       "(0, 3)"
      ]
     },
     "execution_count": 1,
     "metadata": {},
     "output_type": "execute_result"
    }
   ],
   "source": [
    "import matplotlib.pyplot as plt\n",
    "import math\n",
    "import numpy as np\n",
    "\n",
    "x = np.arange(-3,3.1,0.1)   # start,stop,step\n",
    "\n",
    "# True solution\n",
    "y = 1-np.cos(x)\n",
    "\n",
    "# Taylor series (1st order) approximation\n",
    "z = [i**2/2 for i in x]\n",
    "\n",
    "# Plotting\n",
    "plt.plot(x, y)\n",
    "plt.plot(x, z)\n",
    "plt.xlim([-3, 3])\n",
    "plt.ylim([0, 3])"
   ]
  },
  {
   "cell_type": "markdown",
   "metadata": {},
   "source": [
    "We can add one more higher order term to have a better approxiation in a wider range.\n",
    "\n",
    "$\\cos(\\theta) \\approx cos(0) - cos(0)\\frac{\\theta^2}{2!} + cos(0)\\frac{\\theta^4}{4!}$\n",
    "\n",
    "$h = R(1 - \\cos(\\theta)) \\approx R(\\frac{\\theta^2}{2} - cos(0)\\frac{\\theta^4}{24})$"
   ]
  },
  {
   "cell_type": "code",
   "execution_count": 2,
   "metadata": {
    "scrolled": false
   },
   "outputs": [
    {
     "data": {
      "text/plain": [
       "(0, 3)"
      ]
     },
     "execution_count": 2,
     "metadata": {},
     "output_type": "execute_result"
    },
    {
     "data": {
      "image/png": "[encoded data removed]",
      "text/plain": [
       "<Figure size 432x288 with 1 Axes>"
      ]
     },
     "metadata": {
      "needs_background": "light"
     },
     "output_type": "display_data"
    }
   ],
   "source": [
    "import matplotlib.pyplot as plt\n",
    "import math\n",
    "import numpy as np\n",
    "\n",
    "x = np.arange(-9,9.1,0.1)   # start,stop,step\n",
    "\n",
    "# True solution\n",
    "y = 1-np.cos(x)\n",
    "\n",
    "# Taylor series (2nd order) approximation\n",
    "def rcos_approx(x):\n",
    "    return x**2/2 - x**4/math.factorial(4)\n",
    "\n",
    "z = [rcos_approx(i) for i in x]\n",
    "\n",
    "plt.plot(x, y)\n",
    "plt.plot(x, z)\n",
    "plt.xlim([-3, 3])\n",
    "plt.ylim([0, 3])"
   ]
  },
  {
   "cell_type": "markdown",
   "metadata": {},
   "source": [
    "Adding higher order terms will give better approximation. Here is a simple code to show the effect."
   ]
  },
  {
   "cell_type": "code",
   "execution_count": 3,
   "metadata": {},
   "outputs": [
    {
     "data": {
      "application/vnd.jupyter.widget-view+json": {
       "model_id": "68c63b683cfe488db89521be9629024a",
       "version_major": 2,
       "version_minor": 0
      },
      "text/plain": [
       "interactive(children=(IntSlider(value=1, description='n', max=6, min=1), Output()), _dom_classes=('widget-inte…"
      ]
     },
     "metadata": {},
     "output_type": "display_data"
    }
   ],
   "source": [
    "# Approximation of cos(x)\n",
    "from ipywidgets import interactive\n",
    "import ipywidgets as widgets\n",
    "\n",
    "from matplotlib.pyplot import figure\n",
    "import matplotlib.pyplot as plt\n",
    "import math\n",
    "import numpy as np\n",
    "\n",
    "# Define 1-cos(x)\n",
    "def rcosx(n):\n",
    "    xmin = -3.0\n",
    "    xmax = 3.1\n",
    "    # Numpy arange to generate x\n",
    "    x = np.arange(xmin, xmax,0.1)\n",
    "    # List comprehension\n",
    "    y = [1-math.cos(i) for i in x]\n",
    "\n",
    "    # Plot exact solution\n",
    "    plt.plot(x, y)\n",
    "    \n",
    "    # Create approximate solution of 1-cos(x)\n",
    "    def approx_rcosx(x, n):\n",
    "        rcos_approx = 1\n",
    "        for i in range(n):\n",
    "            coef = (-1)**i\n",
    "            num = x**(2*i)\n",
    "            denom = math.factorial(2*i)\n",
    "            rcos_approx -= ( coef ) * ( (num)/(denom) )\n",
    "        return rcos_approx\n",
    "\n",
    "    z = [approx_rcosx(i, n) for i in x]\n",
    "\n",
    "    # Plot approximate solution\n",
    "    plt.plot(x, z, linewidth=2.0, color=\"orange\")\n",
    "    plt.rcParams['figure.figsize'] = [10, 10]\n",
    "    plt.xlabel(\"x\")\n",
    "    plt.ylabel(\"cos(x)\")\n",
    "    plt.show()\n",
    "    \n",
    "interactive_plot = widgets.interactive(rcosx, n=widgets.IntSlider(min=1, max=6, step=1, value=1))\n",
    "interactive_plot\n"
   ]
  },
  {
   "cell_type": "markdown",
   "metadata": {},
   "source": [
    "# Solving a non-linear equation by Newton Raphson method\n",
    "\n",
    "Let's go back to the sliding block problem.\n",
    "\n",
    "The force equlibrium equation will give the following solution for F. It is a nonlinear function of $\\theta$\n",
    "\n",
    "$$\n",
    "F = \\frac{\\mu W}{\\cos \\theta + \\mu \\sin \\theta} = \\frac{\\mu mg}{\\cos \\theta + \\mu \\sin \\theta}\n",
    "$$\n",
    "\n",
    "Given F=17.5kN, W=25kN and 𝜇 =0.75, what is 𝜃 ?\n",
    "\n",
    "Let's make a new function \n",
    "\n",
    "$$\n",
    "G(\\theta) = \\frac{\\mu mg}{\\cos \\theta + \\mu \\sin \\theta} - 17.5\n",
    "$$\n",
    "\n",
    "The goal is to find $\\theta$ that makes G($\\theta$)=0. We will use the Newton Raphson method to find the solution numerically."
   ]
  },
  {
   "cell_type": "markdown",
   "metadata": {},
   "source": [
    "# Newton Raphson Method\n",
    "\n",
    "The general form of Taylor series is given by the following equation.\n",
    "\n",
    "$$\n",
    "P(x) = f(a) + \\frac{df(a)}{dx}\\frac{(x-a)^1}{1!} + \\frac{d^2f(a)}{dx^2}\\frac{(x-a)^2}{2!} + \\cdots\n",
    "$$\n",
    "\n",
    "If x = $\\theta_{n+1}$ = $\\theta_n$ + $\\epsilon_n$ and a = $\\theta_n$, then G($\\theta$)=0 can be approximately as follows.\n",
    "\n",
    "$$\n",
    "G(\\theta_{n+1}) = G(\\theta_n + \\epsilon_n) = 0 = G(\\theta_n) + \\frac{dG(\\theta_n)}{d\\theta}\\frac{(\\epsilon_n)^1}{1!} + \\frac{d^2G(\\theta_n)}{d\\theta^2}\\frac{(\\epsilon_n)^2}{2!} + \\cdots\n",
    "$$ \n",
    "\n",
    "By only using the first derivative term,\n",
    "\n",
    "$$\n",
    "G(\\theta_n + \\epsilon_n) = 0 \\approx G(\\theta_n)+ \\frac{dG(\\theta_n)}{d\\theta}\\epsilon_n\n",
    "$$\n",
    "\n",
    "$$\n",
    "\\epsilon_n = - \\frac{G(\\theta_n)}{dG(\\theta_n)/d\\theta}\n",
    "$$\n",
    "\n",
    "Hence \n",
    "\n",
    "$$\n",
    "\\theta_{n+1} = \\theta_n + \\epsilon_n = \\theta_n - \\frac{G(\\theta_n)}{dG(\\theta_n)/d\\theta}\n",
    "$$\n",
    "\n",
    "If the gradient dG($\\theta$)/dx is known, then the above equation can be used iteratively from an initial guess $\\theta_0$ to find $\\theta$ that satisfies G($\\theta$)=0. The iteration can stop when $|\\epsilon_n|$ becomes smaller than the predefined tolarance. "
   ]
  },
  {
   "cell_type": "markdown",
   "metadata": {},
   "source": [
    "The first derivate of G($\\theta$) is given as follpws.\n",
    "\n",
    "$$\n",
    "dG(\\theta)/d(\\theta) = \\frac{\\mu mg (\\sin \\theta - \\mu \\cos \\theta)}{(\\cos \\theta + \\mu \\sin \\theta)^2}\n",
    "$$\n",
    "\n",
    "Taylor's series is used for the cosin and sin functions.\n",
    "\n",
    "$$\n",
    "\\cos(\\theta) \\approx cos(0) - cos(0)\\frac{\\theta^2}{2!} + cos(0)\\frac{\\theta^4}{4!} + \\cdots\n",
    "$$\n",
    "\n",
    "$$\n",
    "\\sin(\\theta) \\approx cos(0)\\frac{\\theta}{1!} - cos(0)\\frac{\\theta^3}{3!} + \\cdots\n",
    "$$"
   ]
  },
  {
   "cell_type": "code",
   "execution_count": 35,
   "metadata": {},
   "outputs": [
    {
     "name": "stdout",
     "output_type": "stream",
     "text": [
      "After 3 iterations the angle is 67.872615 deg, \n",
      "         which gives a force of 17.5000000002 kN, \n",
      "         and an absolute error of 1.5701928646E-10, \n",
      "         and a relative error of 8.9725306549E-10 %.\n"
     ]
    }
   ],
   "source": [
    "import matplotlib.pyplot as plt\n",
    "import numpy as np\n",
    "\n",
    "pi=3.141592653589793\n",
    "\n",
    "# The approximate cosine function\n",
    "\n",
    "def approx_cosx(x):\n",
    "        cos_approx = 0\n",
    "        for i in range(n0):\n",
    "            coef = (-1)**i\n",
    "            num = x**(2*i)\n",
    "            denom = math.factorial(2*i)\n",
    "            cos_approx += ( coef ) * ( (num)/(denom) )\n",
    "        return cos_approx\n",
    "\n",
    "# The approximate sine function\n",
    "\n",
    "def approx_sinx(x):\n",
    "        sin_approx = 0\n",
    "        for i in range(n0):\n",
    "            coef = (-1)**(i+1)\n",
    "            num = x**(2*i+1)\n",
    "            denom = math.factorial(2*i+1)\n",
    "            sin_approx -= ( coef ) * ( (num)/(denom) )\n",
    "        return sin_approx\n",
    "\n",
    "# Define G function\n",
    "\n",
    "def Gfn(x):\n",
    "    return mu*Weight/(approx_cosx(x)+mu*approx_sinx(x))-17.5\n",
    "\n",
    "# Define dG/dtheta function\n",
    "\n",
    "def dGfn(x):\n",
    "    return mu*Weight*(approx_sinx(x)-mu*approx_cosx(x))/(approx_cosx(x)+mu*approx_sinx(x))**2\n",
    " \n",
    "# Function to find the root \n",
    "def newton_raphson(x): \n",
    "        for i in range(10000):\n",
    "            h = Gfn(x) / dGfn(x) \n",
    "            # x(i+1) = x(i) - f(x) / f'(x) \n",
    "            x = x - h\n",
    "            if abs(h) < 0.001:    \n",
    "                return x,i\n",
    "             \n",
    "# Initial values assumed \n",
    "x0 = (60/180)*pi\n",
    "n0 = 6\n",
    "mu = 0.75\n",
    "Weight = 25\n",
    "\n",
    "# Force\n",
    "final_force = Gfn(newton_raphson(x0)[0]) + 17.5\n",
    "\n",
    "# Absolute error          \n",
    "\n",
    "error = final_force - 17.5\n",
    "\n",
    "# Relative error\n",
    "relative_error = abs(error / final_force) * 100\n",
    "\n",
    "print('After', newton_raphson(x0)[1], 'iterations the angle is {:.6f} deg, \\n \\\n",
    "        which gives a force of {:.10f} kN, \\n \\\n",
    "        and an absolute error of {:.10E}, \\n \\\n",
    "        and a relative error of {:.10E} %.'.format(newton_raphson(x0)[0]*180/pi, final_force , error, relative_error))"
   ]
  },
  {
   "cell_type": "code",
   "execution_count": null,
   "metadata": {},
   "outputs": [],
   "source": []
  }
 ],
 "metadata": {
  "kernelspec": {
   "display_name": "Python 3",
   "language": "python",
   "name": "python3"
  },
  "language_info": {
   "codemirror_mode": {
    "name": "ipython",
    "version": 3
   },
   "file_extension": ".py",
   "mimetype": "text/x-python",
   "name": "python",
   "nbconvert_exporter": "python",
   "pygments_lexer": "ipython3",
   "version": "3.6.8"
  }
 },
 "nbformat": 4,
 "nbformat_minor": 2
}
